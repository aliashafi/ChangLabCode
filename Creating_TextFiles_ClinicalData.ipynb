{
 "cells": [
  {
   "cell_type": "code",
   "execution_count": 1,
   "metadata": {
    "collapsed": true
   },
   "outputs": [],
   "source": [
    "import os\n",
    "import csv\n",
    "import pandas as pd\n",
    "import glob\n",
    "import numpy as np\n",
    "import datetime"
   ]
  },
  {
   "cell_type": "markdown",
   "metadata": {},
   "source": [
    "## Functions"
   ]
  },
  {
   "cell_type": "code",
   "execution_count": 15,
   "metadata": {
    "collapsed": true
   },
   "outputs": [],
   "source": [
    "## get indicies of comments\n",
    "def find_ind(data, substring):\n",
    "    indices = []\n",
    "    index = -1\n",
    "    while True:\n",
    "        # Find next index of substring, by starting search from index + 1\n",
    "        index = data.find(substring, index + 1)\n",
    "        if index == -1:  \n",
    "            break  # All occurrences have been found\n",
    "        indices.append(index)\n",
    "    return indices"
   ]
  },
  {
   "cell_type": "code",
   "execution_count": 16,
   "metadata": {
    "collapsed": true
   },
   "outputs": [],
   "source": [
    "OLE_TIME_ZERO = datetime.datetime(1899, 12, 30, 0, 0, 0)\n",
    "def ole2datetime(oledt):\n",
    "    return OLE_TIME_ZERO + datetime.timedelta(days=float(oledt))"
   ]
  },
  {
   "cell_type": "markdown",
   "metadata": {},
   "source": [
    "## Load Data"
   ]
  },
  {
   "cell_type": "code",
   "execution_count": 17,
   "metadata": {
    "collapsed": true
   },
   "outputs": [],
   "source": [
    "directoryPath= ('/Users/alia/Documents/dura/data_store2/EDF_clinical/')"
   ]
  },
  {
   "cell_type": "code",
   "execution_count": 23,
   "metadata": {
    "collapsed": true
   },
   "outputs": [],
   "source": [
    "## Set up patient\n",
    "pt = 'EC193/'\n",
    "all_studies = os.listdir(directoryPath + pt)"
   ]
  },
  {
   "cell_type": "code",
   "execution_count": 24,
   "metadata": {},
   "outputs": [
    {
     "name": "stdout",
     "output_type": "stream",
     "text": [
      "['DOUGLAS', ' PATRI']\n",
      " \"Montage:DOUGLAS.P_HY.BIP\n",
      " \"Montage:DOUGLAS.P_HY.BIP\n",
      " \"Montage:DOUGLAS.P_HY.BIP\n",
      "/Users/alia/Documents/dura/data_store2/EDF_clinical/EC193/DOUGLAS~ PATRI_5a909ef3-474b-46ed-bb7e-7c3d4c675e39/DOUGLAS~ PATRI_5a909ef3-474b-46ed-bb7e-7c3d4c675e39.ent\n",
      "['DOUGLAS', ' PATRI']\n",
      " \"Montage:DOUGLAS.P_HY.BIP\n",
      " \"Montage:DOUGLAS.P_HY.BIP\n",
      "/Users/alia/Documents/dura/data_store2/EDF_clinical/EC193/DOUGLAS~ PATRI_76fd32c7-7ba4-40fe-98cc-081eaef2af37/DOUGLAS~ PATRI_76fd32c7-7ba4-40fe-98cc-081eaef2af37.ent\n",
      "['DOUGLAS', ' PATRI']\n",
      " \"Montage:DOUGLAS.P_HY.BIP\n",
      " \"Montage:DOUGLAS.P_HY.BIP\")\n",
      " \"Montage:DOUGLAS.P_HY.BIP\")\n",
      "['DOUGLAS', ' PATRI']\n",
      " \"Montage:DOUGLAS.P_HY.BIP\n",
      " \"Montage:DOUGLAS.P_HY.BIP\n",
      " \"Montage:DOUGLAS.P_HY.BIP\")\n",
      " \"Montage:DOUGLAS.P_HY.BIP\")\n",
      "['DOUGLAS', ' PATRI']\n",
      " \"Montage:DOUGLAS.P_HY.BIP\n",
      " \"Montage:DOUGLAS.P_HY.BIP\n",
      "['DOUGLAS', ' PATRI']\n",
      "['DOUGLAS', ' PATRI']\n",
      " \"Montage:DOUGLAS.P_HY.BIP\n",
      " \"Montage:DOUGLAS.P_HY.BIP\n",
      "['DOUGLAS', ' PATRI']\n",
      " \"Montage:DOUGLAS.P_HY.BIP\n",
      " \"Montage:DOUGLAS.P_HY.BIP\n",
      " \"Montage:DOUGLAS.P_HY.BIP\n",
      " \"Montage:DOUGLAS.P_HY.BIP\n",
      "['DOUGLAS', ' PATRI']\n",
      " \"Montage:DOUGLAS.P_HY.BIP\n",
      " \"Montage:DOUGLAS.P_HY.BIP\n",
      "['DOUGLAS', ' PATRI']\n",
      " \"Montage:DOUGLAS.P_HY.BIP\n",
      " \"Montage:DOUGLAS.P_HY.BIP\n",
      "['DOUGLAS', ' PATRI']\n",
      " \"Montage:DOUGLAS.P_HY.BIP\n",
      " \"Montage:DOUGLAS.P_HY.BIP\n",
      " \"Montage:DOUGLAS.P_HY.BIP\")\n",
      " \"Montage:DOUGLAS.P_HY.BIP\")\n",
      "['DOUGLAS', ' PATRI']\n",
      " \"Montage:DOUGLAS.P_HY.BIP\n",
      " \"Montage:DOUGLAS.P_HY.BIP\n",
      " \"Montage:DOUGLAS.P_HY.BIP\")\n",
      " \"Montage:DOUGLAS.P_HY.BIP\")\n",
      "['DOUGLAS', ' PATRI']\n",
      " \"Montage:DOUGLAS.P_HY.BIP\n",
      " \"Montage:DOUGLAS.P_HY.BIP\n",
      "['DOUGLAS', ' PATRI']\n",
      " \"Montage:DOUGLAS.P_HY.BIP\n",
      " \"Montage:DOUGLAS.P_HY.BIP\n",
      " \"Montage:DOUGLAS.P_HY.BIP\")\n",
      " \"Montage:DOUGLAS.P_HY.BIP\")\n",
      " \"Montage:DOUGLAS.P_HY.BIP\")\n",
      " \"Montage:DOUGLAS.P_HY.BIP\")\n",
      " \"Montage:DOUGLAS.P_HY.BIP\")\n",
      " \"Montage:DOUGLAS.P_HY.BIP\")\n",
      " \"Montage:DOUGLAS.P_HY.BIP\")\n",
      " \"Montage:DOUGLAS.P_HY.BIP\")\n",
      " \"Montage:DOUGLAS.P_HY.BIP\")\n",
      " \"Montage:DOUGLAS.P_HY.BIP\")\n",
      "['DOUGLAS', ' PATRI']\n",
      " \"Montage:DOUGLAS.P_HY.BIP\n",
      " \"Montage:DOUGLAS.P_HY.BIP\n",
      " \"Montage:DOUGLAS.P_REF\")\n",
      " \"Montage:DOUGLAS.P_REF\")\n",
      " \"Montage:DOUGLAS.P_BIP\")\n",
      " \"Montage:DOUGLAS.P_BIP\")\n",
      " \"Montage:DOUGLAS.P_BIP\")\n",
      " \"Montage:DOUGLAS.P_BIP\")\n",
      " \"Montage:DOUGLAS.P_BIP\")\n",
      " \"Montage:DOUGLAS.P_HY.BIP\")\n",
      " \"Montage:DOUGLAS.P_HY.BIP\")\n",
      " \"Montage:DOUGLAS.P_HY.BIP\")\n",
      " \"Montage:DOUGLAS.P_REF\")\n",
      " \"Montage:DOUGLAS.P_REF\")\n",
      " \"Montage:DOUGLAS.P_REF\")\n",
      " \"Montage:DOUGLAS.P_REF\")\n",
      " \"Montage:DOUGLAS.P_HY.BIP\")\n",
      " \"Montage:DOUGLAS.P_HY.BIP\")\n",
      "/Users/alia/Documents/dura/data_store2/EDF_clinical/EC193/DOUGLAS~ PATRI_d625fc94-d568-4ac1-baea-2079b84da28a/DOUGLAS~ PATRI_d625fc94-d568-4ac1-baea-2079b84da28a.ent\n",
      "['DOUGLAS', ' PATRI']\n",
      " \"Montage:DOUGLAS.P_HY.BIP\n",
      " \"Montage:DOUGLAS.P_HY.BIP\n",
      " \"Montage:DOUGLAS.P_HY.BIP\")\n",
      " \"Montage:DOUGLAS.P_HY.BIP\")\n",
      " \"Montage:DOUGLAS.P_HY.BIP\")\n",
      " \"Montage:DOUGLAS.P_HY.BIP\")\n",
      " \"Montage:DOUGLAS.P_HY.BIP\")\n",
      " \"Montage:DOUGLAS.P_HY.BIP\")\n",
      " \"Montage:DOUGLAS.P_HY.BIP\")\n",
      " \"Montage:DOUGLAS.P_HY.BIP\")\n"
     ]
    }
   ],
   "source": [
    "## get textfile\n",
    "for a in range(len(all_studies)):\n",
    "    patient = 'EC193'\n",
    "    textFile = directoryPath + pt+all_studies[a]+ '/'+all_studies[a] + '.ent'\n",
    "    with open(textFile, 'rb') as f:\n",
    "        contents = f.read()\n",
    "    \n",
    "    Info = pd.DataFrame()\n",
    "    \n",
    "    Comment = find_ind(contents,b'Created by Live Analyzer on')\n",
    "    Text = find_ind(contents,b'\"Text\"')\n",
    "    CreationTime = find_ind(contents,b'CreationTime')\n",
    "    \n",
    "    Creation_Time = []\n",
    "    for c in CreationTime:\n",
    "        test = contents[c:c+30].decode('ascii').split(\",\")\n",
    "        Creation_Time.append(test[1][1:-1])\n",
    "    \n",
    "    convertTime = [ole2datetime(x) for x in Creation_Time]\n",
    "    \n",
    "    \n",
    "    fileName = textFile.split('/')\n",
    "    anonymize = fileName[8].split('_')\n",
    "    lastName = anonymize[0].split('~')\n",
    "    print(lastName)\n",
    "    Text_annots = []\n",
    "    for t in Text:\n",
    "        n = 40\n",
    "        try:\n",
    "            test = contents[t:t+n].decode('ascii').split(\",\")\n",
    "        except:\n",
    "            n = n-1\n",
    "        if test[1].lower().find(lastName[0].lower()) != -1:\n",
    "            names = 'Montage: pt'\n",
    "            Text_annots.append(names)\n",
    "            print(test[1])\n",
    "        else:            \n",
    "            Text_annots.append(test[1][1:-1])\n",
    "    \n",
    "    try:\n",
    "        Info['Time'] = convertTime\n",
    "        Info['Comment'] = Text_annots\n",
    "        Info.to_csv('/Users/alia/Documents/dura/data_store0/human/converted_clinical/' + pt +'notes/' + patient + '_'+ anonymize[1]+'.csv', date_format='%Y-%m-%d %H:%M:%S')\n",
    "    except:\n",
    "        print(textFile)\n",
    "        \n",
    "\n"
   ]
  },
  {
   "cell_type": "markdown",
   "metadata": {
    "collapsed": true
   },
   "source": [
    "## create key"
   ]
  },
  {
   "cell_type": "code",
   "execution_count": 10,
   "metadata": {},
   "outputs": [],
   "source": [
    "directoryPath= ('/Users/alia/Documents/dura/data_store0/human/converted_clinical/')\n",
    "noteFiles = os.listdir(directoryPath + pt + 'notes')"
   ]
  },
  {
   "cell_type": "code",
   "execution_count": 13,
   "metadata": {},
   "outputs": [
    {
     "data": {
      "text/plain": [
       "[]"
      ]
     },
     "execution_count": 13,
     "metadata": {},
     "output_type": "execute_result"
    }
   ],
   "source": [
    "noteFiles"
   ]
  },
  {
   "cell_type": "code",
   "execution_count": 12,
   "metadata": {},
   "outputs": [],
   "source": [
    "directory = []\n",
    "start = []\n",
    "end = []\n",
    "for n in noteFiles:\n",
    "    print(n)\n",
    "    notes = pd.read_csv(directoryPath + pt + 'notes/'+ n,index_col=None, header=0, encoding = \"ISO-8859-1\")\n",
    "    start.append(notes['Time'][0])\n",
    "    end.append(notes['Time'][len(notes)-1])\n",
    "    directory.append(n[0:14])"
   ]
  },
  {
   "cell_type": "code",
   "execution_count": null,
   "metadata": {
    "collapsed": true
   },
   "outputs": [],
   "source": []
  },
  {
   "cell_type": "markdown",
   "metadata": {},
   "source": [
    "## Get comments dont need to run this?"
   ]
  },
  {
   "cell_type": "code",
   "execution_count": 7,
   "metadata": {
    "collapsed": true
   },
   "outputs": [],
   "source": [
    "Info = pd.DataFrame()"
   ]
  },
  {
   "cell_type": "code",
   "execution_count": 8,
   "metadata": {
    "collapsed": true
   },
   "outputs": [],
   "source": [
    "Comment = find_ind(contents,b'Created by Live Analyzer on')\n",
    "Text = find_ind(contents,b'\"Text\"')\n",
    "CreationTime = find_ind(contents,b'CreationTime')\n",
    "\n"
   ]
  },
  {
   "cell_type": "code",
   "execution_count": 9,
   "metadata": {},
   "outputs": [
    {
     "data": {
      "text/plain": [
       "'1970-01-01 04:03:32 AM'"
      ]
     },
     "execution_count": 9,
     "metadata": {},
     "output_type": "execute_result"
    }
   ],
   "source": [
    "import time\n",
    "from datetime import datetime\n",
    "\n",
    "datetime.fromtimestamp(float(Creation_Time[0])).strftime('%Y-%m-%d %I:%M:%S %p')"
   ]
  },
  {
   "cell_type": "code",
   "execution_count": 10,
   "metadata": {
    "collapsed": true
   },
   "outputs": [],
   "source": [
    "pd.set_option('max_colwidth',40)"
   ]
  },
  {
   "cell_type": "code",
   "execution_count": 11,
   "metadata": {},
   "outputs": [
    {
     "ename": "UnicodeDecodeError",
     "evalue": "'ascii' codec can't decode byte 0xab in position 31: ordinal not in range(128)",
     "output_type": "error",
     "traceback": [
      "\u001b[0;31m---------------------------------------------------------------------------\u001b[0m",
      "\u001b[0;31mUnicodeDecodeError\u001b[0m                        Traceback (most recent call last)",
      "\u001b[0;32m<ipython-input-11-8766a05fcedb>\u001b[0m in \u001b[0;36m<module>\u001b[0;34m()\u001b[0m\n\u001b[1;32m      2\u001b[0m \u001b[0mText_annots\u001b[0m \u001b[0;34m=\u001b[0m \u001b[0;34m[\u001b[0m\u001b[0;34m]\u001b[0m\u001b[0;34m\u001b[0m\u001b[0m\n\u001b[1;32m      3\u001b[0m \u001b[0;32mfor\u001b[0m \u001b[0mt\u001b[0m \u001b[0;32min\u001b[0m \u001b[0mText\u001b[0m\u001b[0;34m:\u001b[0m\u001b[0;34m\u001b[0m\u001b[0m\n\u001b[0;32m----> 4\u001b[0;31m     \u001b[0mtest\u001b[0m \u001b[0;34m=\u001b[0m \u001b[0mcontents\u001b[0m\u001b[0;34m[\u001b[0m\u001b[0mt\u001b[0m\u001b[0;34m:\u001b[0m\u001b[0mt\u001b[0m\u001b[0;34m+\u001b[0m\u001b[0;36m40\u001b[0m\u001b[0;34m]\u001b[0m\u001b[0;34m.\u001b[0m\u001b[0mdecode\u001b[0m\u001b[0;34m(\u001b[0m\u001b[0;34m'ascii'\u001b[0m\u001b[0;34m)\u001b[0m\u001b[0;34m.\u001b[0m\u001b[0msplit\u001b[0m\u001b[0;34m(\u001b[0m\u001b[0;34m\",\"\u001b[0m\u001b[0;34m)\u001b[0m\u001b[0;34m\u001b[0m\u001b[0m\n\u001b[0m\u001b[1;32m      5\u001b[0m     \u001b[0mText_annots\u001b[0m\u001b[0;34m.\u001b[0m\u001b[0mappend\u001b[0m\u001b[0;34m(\u001b[0m\u001b[0mtest\u001b[0m\u001b[0;34m[\u001b[0m\u001b[0;36m1\u001b[0m\u001b[0;34m]\u001b[0m\u001b[0;34m[\u001b[0m\u001b[0;36m1\u001b[0m\u001b[0;34m:\u001b[0m\u001b[0;34m-\u001b[0m\u001b[0;36m1\u001b[0m\u001b[0;34m]\u001b[0m\u001b[0;34m)\u001b[0m\u001b[0;34m\u001b[0m\u001b[0m\n\u001b[1;32m      6\u001b[0m \u001b[0;34m\u001b[0m\u001b[0m\n",
      "\u001b[0;31mUnicodeDecodeError\u001b[0m: 'ascii' codec can't decode byte 0xab in position 31: ordinal not in range(128)"
     ]
    }
   ],
   "source": [
    "## get all texts\n",
    "Text_annots = []\n",
    "for t in Text:\n",
    "    test = contents[t:t+40].decode('ascii').split(\",\")\n",
    "    Text_annots.append(test[1][1:-1])\n",
    "\n",
    "Text_annots"
   ]
  },
  {
   "cell_type": "code",
   "execution_count": 33,
   "metadata": {
    "collapsed": true
   },
   "outputs": [],
   "source": [
    "Creation_Time = []\n",
    "for c in CreationTime:\n",
    "    test = contents[c:c+30].decode('ascii').split(\",\")\n",
    "    Creation_Time.append(test[1][1:-1])"
   ]
  },
  {
   "cell_type": "code",
   "execution_count": 441,
   "metadata": {},
   "outputs": [
    {
     "data": {
      "text/plain": [
       "'1970-01-01 04:02:18 AM'"
      ]
     },
     "execution_count": 441,
     "metadata": {},
     "output_type": "execute_result"
    }
   ],
   "source": [
    "import time\n",
    "from datetime import datetime\n",
    "\n",
    "datetime.fromtimestamp(float(Creation_Time[0])).strftime('%Y-%m-%d %I:%M:%S %p')"
   ]
  },
  {
   "cell_type": "code",
   "execution_count": 28,
   "metadata": {
    "collapsed": true
   },
   "outputs": [],
   "source": [
    "convertTime = [ole2datetime(x) for x in Creation_Time]\n"
   ]
  },
  {
   "cell_type": "markdown",
   "metadata": {},
   "source": [
    "### Get date and time"
   ]
  },
  {
   "cell_type": "code",
   "execution_count": 12,
   "metadata": {
    "collapsed": true
   },
   "outputs": [],
   "source": [
    "times = []\n",
    "for c in Comment:\n",
    "    date_time = contents[c+30:c+47]\n",
    "    times.append(date_time.decode('ascii'))"
   ]
  },
  {
   "cell_type": "markdown",
   "metadata": {},
   "source": [
    "### Get Annotation"
   ]
  },
  {
   "cell_type": "code",
   "execution_count": 13,
   "metadata": {
    "collapsed": true
   },
   "outputs": [],
   "source": [
    "annotsAll = []\n",
    "for d in Comment:\n",
    "    annots = contents[d:d+1000]\n",
    "    inds = find_ind(annots,b'\"Text\"')\n",
    "    test = annots[inds[0]:inds[0]+30].decode('ascii').split(\",\")\n",
    "    annotsAll.append(test[1][1:-1])"
   ]
  },
  {
   "cell_type": "code",
   "execution_count": 14,
   "metadata": {},
   "outputs": [
    {
     "name": "stdout",
     "output_type": "stream",
     "text": [
      "Started Analyzers\n",
      "Started Analyzers\n",
      "Started Analyzers\n",
      "Started Analyzers\n",
      "Video recording h\n"
     ]
    }
   ],
   "source": [
    "for d in Comment:\n",
    "    annots = contents[d:d+1000]\n",
    "    inds = find_ind(annots,b'\"Comment\"')\n",
    "    test = annots[inds[0]:inds[0]+30].decode('ascii').split(\", \")\n",
    "    print(test[1][1:-1])"
   ]
  },
  {
   "cell_type": "code",
   "execution_count": 25,
   "metadata": {
    "collapsed": true
   },
   "outputs": [],
   "source": [
    "Info['Time'] = convertTime\n",
    "Info['Comment'] = Text_annots"
   ]
  },
  {
   "cell_type": "code",
   "execution_count": 30,
   "metadata": {
    "collapsed": true
   },
   "outputs": [],
   "source": [
    "Info.to_csv('test_textFile.csv')"
   ]
  },
  {
   "cell_type": "code",
   "execution_count": null,
   "metadata": {
    "collapsed": true
   },
   "outputs": [],
   "source": []
  }
 ],
 "metadata": {
  "kernelspec": {
   "display_name": "Python 3",
   "language": "python",
   "name": "python3"
  },
  "language_info": {
   "codemirror_mode": {
    "name": "ipython",
    "version": 3
   },
   "file_extension": ".py",
   "mimetype": "text/x-python",
   "name": "python",
   "nbconvert_exporter": "python",
   "pygments_lexer": "ipython3",
   "version": "3.6.3"
  }
 },
 "nbformat": 4,
 "nbformat_minor": 2
}
