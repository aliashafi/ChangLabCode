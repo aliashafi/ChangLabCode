{
 "cells": [
  {
   "cell_type": "code",
   "execution_count": 1,
   "metadata": {},
   "outputs": [
    {
     "name": "stderr",
     "output_type": "stream",
     "text": [
      "/Users/alia/anaconda3/lib/python3.6/site-packages/h5py/__init__.py:34: FutureWarning: Conversion of the second argument of issubdtype from `float` to `np.floating` is deprecated. In future, it will be treated as `np.float64 == np.dtype(float).type`.\n",
      "  from ._conv import register_converters as _register_converters\n"
     ]
    }
   ],
   "source": [
    "import pandas as pd\n",
    "import numpy as np\n",
    "import modules\n",
    "from scipy import signal\n",
    "import matplotlib.pyplot as plt\n",
    "from scipy import interpolate\n",
    "import numpy as np\n",
    "import pandas as pd\n",
    "from sklearn.preprocessing import scale\n",
    "from os.path import join, exists\n",
    "from os import makedirs\n",
    "import h5py\n",
    "import matplotlib.pyplot as plt\n",
    "import seaborn as sns\n",
    "from scipy import fftpack\n",
    "import matplotlib.pyplot as plt\n",
    "from scipy import signal\n",
    "import matplotlib.pyplot as plt\n",
    "from sklearn.preprocessing import normalize\n",
    "from numpy import linalg as LA\n",
    "from sklearn.preprocessing import scale\n",
    "import random\n",
    "import librosa\n",
    "from scipy import stats\n",
    "from scipy.signal import hilbert, chirp\n",
    "import peakutils\n",
    "import plotly\n",
    "plotly.tools.set_credentials_file(username='ashafi', api_key='PxONlbVA45fzeK3YWWb9')\n",
    "from plotly.offline import iplot, init_notebook_mode\n",
    "import plotly.plotly as py\n",
    "import plotly.graph_objs as go\n",
    "from plotly.tools import FigureFactory as FF\n",
    "import peakutils\n",
    "import plotly.graph_objs as go\n",
    "import matplotlib.pyplot as plt"
   ]
  },
  {
   "cell_type": "code",
   "execution_count": null,
   "metadata": {
    "collapsed": true
   },
   "outputs": [],
   "source": []
  },
  {
   "cell_type": "code",
   "execution_count": 2,
   "metadata": {
    "collapsed": true
   },
   "outputs": [],
   "source": [
    "subj = 'UI399'\n",
    "root_dir = '/Users/alia/Documents/mandarin'"
   ]
  },
  {
   "cell_type": "code",
   "execution_count": 3,
   "metadata": {
    "collapsed": true
   },
   "outputs": [],
   "source": [
    "import numpy as np\n",
    "import pandas as pd\n",
    "from sklearn.preprocessing import scale\n",
    "from os.path import join, exists\n",
    "from os import makedirs\n",
    "import h5py\n",
    "import matplotlib.pyplot as plt\n",
    "import seaborn as sns\n",
    "from scipy import fftpack\n",
    "import matplotlib.pyplot as plt\n",
    "from scipy import signal\n",
    "import matplotlib.pyplot as plt\n",
    "from sklearn.preprocessing import normalize\n",
    "from numpy import linalg as LA\n",
    "from sklearn.preprocessing import scale\n",
    "import random\n",
    "import librosa\n",
    "from scipy import stats\n",
    "\n",
    "import plotly\n",
    "plotly.tools.set_credentials_file(username='ashafi', api_key='PxONlbVA45fzeK3YWWb9')\n",
    "from plotly.offline import iplot, init_notebook_mode\n",
    "import plotly.plotly as py\n",
    "import plotly.graph_objs as go\n",
    "from plotly.tools import FigureFactory as FF\n",
    "import peakutils\n",
    "import plotly.graph_objs as go\n",
    "import sklearn"
   ]
  },
  {
   "cell_type": "code",
   "execution_count": 4,
   "metadata": {
    "collapsed": true
   },
   "outputs": [],
   "source": [
    "# Create directories\n",
    "fdir = root_dir + '/mandarin_ffr/fig/' + subj\n",
    "odir = root_dir + '/output/' + subj\n",
    "\n",
    "if not exists(fdir):\n",
    "    makedirs(fdir)\n",
    "if not exists(odir):\n",
    "    makedirs(odir)"
   ]
  },
  {
   "cell_type": "markdown",
   "metadata": {},
   "source": [
    "## Get Mandarin Tones"
   ]
  },
  {
   "cell_type": "code",
   "execution_count": 5,
   "metadata": {
    "collapsed": true
   },
   "outputs": [],
   "source": [
    "# Where are the data?\n",
    "dir_data = ''.join([root_dir, '/', subj, '/data'])\n",
    "file_ECoG = ''.join([dir_data, '/', subj, '_dat_FFR_noCAR_notch_hp_allTrials.mat'])\n",
    "# file_ECoG = ''.join([dir_data, '/', subj, '_dat_FFR.mat'])\n",
    "\n",
    "# Load the .mat file\n",
    "f = h5py.File(file_ECoG, 'r')\n",
    "\n",
    "# Read ECoG data\n",
    "hg_stim = np.array(f['dat']['hg_stim']) # trial * tp * ch\n",
    "badChans = f['dat']['badChans'].value.flatten() - 1 # Correct for 0-indexing\n",
    "time_axis = (np.round(f['dat']['time_axis'].value.flatten(), 3) * 1000).astype(int) # Use int b/c float precision\n",
    "\n",
    "\n",
    "# Import behav\n",
    "list_col = ['accuracy', 'block', 'choice', 'rt', 'speaker', 'syllable', 'tone', 'trial']\n",
    "behav = pd.DataFrame(columns = list_col)\n",
    "for icol in list_col:\n",
    "    if np.in1d(icol, ['speaker', 'syllable']):\n",
    "        for i in range(0, behav.shape[0]):\n",
    "            behav.loc[i, icol] = ''.join(map(chr, f[f['dat']['behav'][icol][0,i]]))\n",
    "    else:\n",
    "        behav[icol] = np.array(f['dat']['behav'][icol]).flatten()\n",
    "        \n",
    "for icol in ['accuracy', 'block', 'choice', 'tone', 'trial']:\n",
    "    behav[icol] = behav[icol].astype(int)\n",
    "    \n",
    "f.close()\n",
    "\n",
    "#extract data from 0-500 ms \n",
    "\n",
    "\n",
    "# Get rid of NaN trials, if any\n",
    "if np.in1d(subj, ['EC157','EC159', 'UI399']):\n",
    "    nanTrial = np.unique(np.where(np.isnan(hg_stim))[0])\n",
    "    if nanTrial.shape[0] > 0: # perform only if NaN trials exist at all\n",
    "        hg_stim = np.delete(hg_stim, nanTrial, 0)\n",
    "        behav = behav.drop(nanTrial, axis = 0).reset_index(drop = True)\n",
    "\n",
    "# What are the \"good\" channels?\n",
    "good_ch_vector = np.ones((hg_stim.shape[2])).astype(int)\n",
    "good_ch_vector[badChans] = 0\n",
    "goodChans = np.where(good_ch_vector)[0]\n",
    "    \n",
    "# Create index for behav (not literally the trial)\n",
    "behav['Trial'] = range(0, behav.shape[0])\n",
    "\n",
    "# Add the \"file\" column\n",
    "behav['file'] = behav['syllable'].astype(str) + behav['tone'].astype(str) + '-' + behav['speaker'].astype(str) + 'N'"
   ]
  },
  {
   "cell_type": "code",
   "execution_count": 40,
   "metadata": {},
   "outputs": [
    {
     "data": {
      "text/plain": [
       "(1661, 1501, 256)"
      ]
     },
     "execution_count": 40,
     "metadata": {},
     "output_type": "execute_result"
    }
   ],
   "source": [
    "hg_stim.shape"
   ]
  },
  {
   "cell_type": "markdown",
   "metadata": {},
   "source": [
    "## Read in stim"
   ]
  },
  {
   "cell_type": "code",
   "execution_count": 6,
   "metadata": {
    "collapsed": true
   },
   "outputs": [],
   "source": [
    "'''this reads each wav file, zero pads it to match the FFR, runs autocorr on all stimuli and then \n",
    "    normalizing from -1 to 1'''\n",
    "import scipy.io\n",
    "import os\n",
    "\n",
    "'''autocorr the stimulation wav files t = tone, p = b or h, male or female'''\n",
    "dirs = os.listdir('/Users/alia/Documents/dura/userdata/ashafi/alia_temp_1/stimwav/')\n",
    "dataStim = pd.DataFrame()\n",
    "positive = np.zeros((558,))\n",
    "negative = np.zeros((500,))\n",
    "\n",
    "\n",
    "for i in dirs:\n",
    "    y, sr= librosa.load('/Users/alia/Documents/dura/userdata/ashafi/alia_temp_1/stimwav/' + i, sr = 1000)\n",
    "#     y = np.append(y,positive)\n",
    "#     y = np.insert(y,0,negative)\n",
    "    dataStim[i] = y"
   ]
  },
  {
   "cell_type": "markdown",
   "metadata": {},
   "source": [
    "## helper function"
   ]
  },
  {
   "cell_type": "code",
   "execution_count": null,
   "metadata": {
    "collapsed": true
   },
   "outputs": [],
   "source": [
    "import pandas as pd\n",
    "import itertools\n",
    "import matplotlib as pyplot\n",
    "\n",
    "def get_FFR(e,d):\n",
    "    '''takes elec and gets FFR data for ever stim assuming a 'd' ms delay'''\n",
    "    dataFFR = pd.DataFrame()\n",
    "    test = np.where((behav['block'] <22))[0]\n",
    "\n",
    "    for f in test:\n",
    "        file = behav['file'][f]\n",
    "        myhg = hg_stim[f, :, e] ## for only electrode 15\n",
    "        dataFFR[file + '_' + str(f)] = myhg[500+d:942+d] ###Assuming a 'd' ms delay\n",
    "\n",
    "    return dataFFR"
   ]
  },
  {
   "cell_type": "code",
   "execution_count": null,
   "metadata": {
    "collapsed": true
   },
   "outputs": [],
   "source": [
    "def get_crosscorr_all(data):\n",
    "    '''takes in data - a given FFR data - and runs cross correlation for all stim'''\n",
    "    cors53 = pd.DataFrame()##because each stim was a different length\n",
    "    cors11 = pd.DataFrame()\n",
    "    cors58 = pd.DataFrame()\n",
    "    cors3 = pd.DataFrame()\n",
    "    for s in dataStim:\n",
    "        correlation = []\n",
    "        for f in data:\n",
    "            if s[0:6] == f[0:6]:\n",
    "                ## find matching stim to FFR and run correlation\n",
    "                myhg = sklearn.preprocessing.scale(data[f])\n",
    "                stim = sklearn.preprocessing.scale(dataStim[s])\n",
    "                cor = np.corrcoef(stim, myhg)[1,0]\n",
    "                correlation.append(cor)\n",
    "        flat_list = correlation\n",
    "        ## put correlation values in dataframe depending on length of frame\n",
    "        if len(flat_list) == 3:\n",
    "            cors3[s] = flat_list\n",
    "        if len(flat_list) == 11:\n",
    "            cors11[s] = flat_list\n",
    "        if len(flat_list) == 53:\n",
    "            cors53[s] = flat_list\n",
    "        if len(flat_list) == 58:\n",
    "            cors58[s] = flat_list\n",
    "        \n",
    "    correlations = pd.concat([cors53,cors58,cors11,cors3],ignore_index=False, axis=1)\n",
    "    return correlations"
   ]
  },
  {
   "cell_type": "code",
   "execution_count": null,
   "metadata": {
    "collapsed": true
   },
   "outputs": [],
   "source": [
    "def Spec(x):\n",
    "    f,t, Sxx = signal.spectrogram(myhg[400:900], 1000, noverlap = 76, nperseg =90)\n",
    "    return (f,t,Sxx)\n"
   ]
  },
  {
   "cell_type": "markdown",
   "metadata": {},
   "source": [
    "## run 2d cross correlation to get delay and correlation for all elecs "
   ]
  },
  {
   "cell_type": "code",
   "execution_count": null,
   "metadata": {
    "collapsed": true
   },
   "outputs": [],
   "source": [
    "indx = np.where(behav['file'] == 'mi3-bN')\n",
    "myhg = np.mean((hg_stim[indx[0], :, e]),axis = 0)\n",
    "f,t, Sxx = signal.spectrogram(myhg[500:1000], 1000, noverlap = 76, nperseg =90)\n",
    "plt.pcolormesh(t,f,Sxx, vmax = np.percentile(Sxx.flatten(), 99.9))\n",
    "plt.title('response')\n",
    "plt.show()\n",
    "\n",
    "\n",
    "f,t, Sxx = signal.spectrogram(dataStim['mi3-bN.wav'], 1000, noverlap = 76, nperseg =90)\n",
    "plt.pcolormesh(t,f,Sxx, vmax = np.percentile(Sxx.flatten(), 99.9))\n",
    "plt.title('stim')\n",
    "plt.show()\n",
    "\n"
   ]
  },
  {
   "cell_type": "code",
   "execution_count": null,
   "metadata": {
    "collapsed": true
   },
   "outputs": [],
   "source": [
    "elecs = [15,16,17,119]\n",
    "for e in elecs:\n",
    "    for s in dataStim:\n",
    "        indx = np.where(behav['file'] == s[0:6])\n",
    "        myhg = np.mean(hg_stim[indx[0], :, e],axis = 0)\n",
    "        myhg1 = myhg[500:1500]\n",
    "        Stims = dataStim[s]\n",
    "        f,t, SSxx = signal.spectrogram(Stims, 1000, noverlap = 76, nperseg =90)\n",
    "        ff,ft, FSxx = signal.spectrogram(myhg1, 1000, noverlap = 76, nperseg =90)\n",
    "        \n",
    "        if s == 'mi3-bN.wav':\n",
    "            plt.pcolormesh(ft,ff, FSxx, vmax = np.percentile(FSxx.flatten(), 99.9))\n",
    "            plt.title('response' + str(e) + '_' + s)\n",
    "            plt.show()\n",
    "            plt.pcolormesh(t,f,SSxx, vmax = np.percentile(SSxx.flatten(), 99.9))\n",
    "            plt.title(s)\n",
    "            plt.show()\n",
    "\n",
    "\n",
    "\n",
    "\n",
    "        \n",
    "        mycross = scipy.signal.correlate2d(FSxx,SSxx, mode = 'valid')\n",
    "        mylag = np.where(mycross.flatten() == max(mycross.flatten()))\n",
    "        print(mylag)\n",
    "        \n",
    "        mylag2 = np.where(mycross == np.max(mycross))\n",
    "        print(mylag2)\n",
    "        \n",
    "        print(mycross.flatten().shape)\n",
    "        plt.plot(mycross.flatten())\n",
    "        plt.title(s + '_' + str(e))\n",
    "        plt.axvline(x = mylag[0], color = 'r')\n",
    "        plt.show()\n",
    "        \n",
    "#         plt.imshow(mycross, aspect = 'auto', origin = 'lower', interpolation = 'none')\n",
    "#         plt.show()\n",
    "\n"
   ]
  },
  {
   "cell_type": "code",
   "execution_count": 18,
   "metadata": {},
   "outputs": [
    {
     "data": {
      "image/png": "[encoded data removed]",
      "text/plain": [
       "<matplotlib.figure.Figure at 0x1c1ca146d8>"
      ]
     },
     "metadata": {},
     "output_type": "display_data"
    },
    {
     "data": {
      "image/png": "[encoded data removed]",
      "text/plain": [
       "<matplotlib.figure.Figure at 0x1c1d1b3a20>"
      ]
     },
     "metadata": {},
     "output_type": "display_data"
    }
   ],
   "source": [
    "s = 'ma3-bN.wav'\n",
    "e = 220\n",
    "\n",
    "indx = np.where(behav['file'] == s[0:6])\n",
    "myhg = np.mean(hg_stim[indx[0], :, e],axis = 0)\n",
    "myhg1 = myhg\n",
    "Stims = dataStim[s]\n",
    "f,t, SSxx = signal.spectrogram(Stims, 1000, noverlap = 76, nperseg =90)\n",
    "ff,ft, FSxx = signal.spectrogram(myhg1[500:1000], 1000, noverlap = 76, nperseg =90)\n",
    "\n",
    "plt.subplot(1,2,1)\n",
    "plt.pcolormesh(ft,ff, FSxx, vmax = np.percentile(FSxx.flatten(), 99.9))\n",
    "plt.title('response ma1-bN old version')\n",
    "plt.subplot(1,2,2)\n",
    "plt.pcolormesh(t,f,SSxx, vmax = np.percentile(SSxx.flatten(), 99.9))\n",
    "plt.title(s)\n",
    "plt.show()\n",
    "\n",
    "plt.plot(myhg[500:900])\n",
    "plt.show()\n",
    "\n",
    "\n",
    "\n",
    "# mycross = scipy.signal.correlate2d(SSxx,FSxx, mode = 'valid')\n",
    "# print(mycross)\n",
    "# mylag = np.where(mycross.flatten() == max(mycross.flatten()))\n",
    "# print(mylag)\n",
    "# print(mycross.flatten()[mylag][0])\n",
    "\n",
    "# plt.plot(mycross.flatten())\n",
    "# plt.title(s + '_' + str(e))\n",
    "# # plt.axvline(x = mylag[0], color = 'r')\n",
    "# plt.show()"
   ]
  },
  {
   "cell_type": "code",
   "execution_count": 39,
   "metadata": {
    "collapsed": true
   },
   "outputs": [],
   "source": [
    "def mycross(x,y):\n",
    "    data = pd.DataFrame()\n",
    "    cors = []\n",
    "    lag = []\n",
    "    for step in range(26,60):\n",
    "#         print(step)\n",
    "        lag.append(step)\n",
    "        f,t, SSxx = signal.spectrogram(x, 1000, noverlap = 76, nperseg =90)\n",
    "        ff,ft, FSxx = signal.spectrogram(y[500+step:942+step], 1000, noverlap = 76, nperseg =90)\n",
    "        mycross = scipy.signal.correlate2d(SSxx,FSxx, mode = 'valid')\n",
    "        cors.append(mycross[0][0])\n",
    "    data['lag'] = lag\n",
    "    data['cor'] = cors\n",
    "    return data\n",
    "    \n",
    "        \n",
    "    "
   ]
  },
  {
   "cell_type": "markdown",
   "metadata": {
    "collapsed": true
   },
   "source": [
    "### Run cross correlation and run a permutation"
   ]
  },
  {
   "cell_type": "code",
   "execution_count": null,
   "metadata": {
    "collapsed": true
   },
   "outputs": [],
   "source": [
    "#import lag ranges\n",
    "delayRange = pd.DataFrame.from_csv('delay_range.csv')\n",
    "test = delayRange[delayRange.elecs == 15]\n",
    "test"
   ]
  },
  {
   "cell_type": "markdown",
   "metadata": {},
   "source": [
    "## runs electrode and gets optimal lag for each stim"
   ]
  },
  {
   "cell_type": "code",
   "execution_count": 37,
   "metadata": {},
   "outputs": [
    {
     "data": {
      "text/html": [
       "<div>\n",
       "<style>\n",
       "    .dataframe thead tr:only-child th {\n",
       "        text-align: right;\n",
       "    }\n",
       "\n",
       "    .dataframe thead th {\n",
       "        text-align: left;\n",
       "    }\n",
       "\n",
       "    .dataframe tbody tr th {\n",
       "        vertical-align: top;\n",
       "    }\n",
       "</style>\n",
       "<table border=\"1\" class=\"dataframe\">\n",
       "  <thead>\n",
       "    <tr style=\"text-align: right;\">\n",
       "      <th></th>\n",
       "      <th>lag</th>\n",
       "      <th>stim</th>\n",
       "      <th>correlations</th>\n",
       "    </tr>\n",
       "  </thead>\n",
       "  <tbody>\n",
       "    <tr>\n",
       "      <th>0</th>\n",
       "      <td>24</td>\n",
       "      <td>ma2-hN.wav</td>\n",
       "      <td>0.000015</td>\n",
       "    </tr>\n",
       "    <tr>\n",
       "      <th>1</th>\n",
       "      <td>13</td>\n",
       "      <td>bu2-hN.wav</td>\n",
       "      <td>0.000006</td>\n",
       "    </tr>\n",
       "    <tr>\n",
       "      <th>2</th>\n",
       "      <td>9</td>\n",
       "      <td>ma1-bN.wav</td>\n",
       "      <td>0.000008</td>\n",
       "    </tr>\n",
       "    <tr>\n",
       "      <th>3</th>\n",
       "      <td>0</td>\n",
       "      <td>di4-hN.wav</td>\n",
       "      <td>0.000004</td>\n",
       "    </tr>\n",
       "    <tr>\n",
       "      <th>4</th>\n",
       "      <td>18</td>\n",
       "      <td>bu1-bN.wav</td>\n",
       "      <td>0.000011</td>\n",
       "    </tr>\n",
       "    <tr>\n",
       "      <th>5</th>\n",
       "      <td>21</td>\n",
       "      <td>ma3-bN.wav</td>\n",
       "      <td>0.000018</td>\n",
       "    </tr>\n",
       "    <tr>\n",
       "      <th>6</th>\n",
       "      <td>3</td>\n",
       "      <td>bu3-bN.wav</td>\n",
       "      <td>0.000020</td>\n",
       "    </tr>\n",
       "    <tr>\n",
       "      <th>7</th>\n",
       "      <td>27</td>\n",
       "      <td>di3-bN.wav</td>\n",
       "      <td>0.000042</td>\n",
       "    </tr>\n",
       "    <tr>\n",
       "      <th>8</th>\n",
       "      <td>21</td>\n",
       "      <td>bu4-hN.wav</td>\n",
       "      <td>0.000002</td>\n",
       "    </tr>\n",
       "    <tr>\n",
       "      <th>9</th>\n",
       "      <td>0</td>\n",
       "      <td>di1-bN.wav</td>\n",
       "      <td>0.000029</td>\n",
       "    </tr>\n",
       "    <tr>\n",
       "      <th>10</th>\n",
       "      <td>38</td>\n",
       "      <td>ma4-hN.wav</td>\n",
       "      <td>0.000001</td>\n",
       "    </tr>\n",
       "    <tr>\n",
       "      <th>11</th>\n",
       "      <td>0</td>\n",
       "      <td>di2-hN.wav</td>\n",
       "      <td>0.000007</td>\n",
       "    </tr>\n",
       "    <tr>\n",
       "      <th>12</th>\n",
       "      <td>11</td>\n",
       "      <td>ma4-bN.wav</td>\n",
       "      <td>0.000005</td>\n",
       "    </tr>\n",
       "    <tr>\n",
       "      <th>13</th>\n",
       "      <td>0</td>\n",
       "      <td>di1-hN.wav</td>\n",
       "      <td>0.000003</td>\n",
       "    </tr>\n",
       "    <tr>\n",
       "      <th>14</th>\n",
       "      <td>6</td>\n",
       "      <td>bu4-bN.wav</td>\n",
       "      <td>0.000004</td>\n",
       "    </tr>\n",
       "    <tr>\n",
       "      <th>15</th>\n",
       "      <td>13</td>\n",
       "      <td>di2-bN.wav</td>\n",
       "      <td>0.000011</td>\n",
       "    </tr>\n",
       "    <tr>\n",
       "      <th>16</th>\n",
       "      <td>12</td>\n",
       "      <td>di3-hN.wav</td>\n",
       "      <td>0.000014</td>\n",
       "    </tr>\n",
       "    <tr>\n",
       "      <th>17</th>\n",
       "      <td>12</td>\n",
       "      <td>bu3-hN.wav</td>\n",
       "      <td>0.000006</td>\n",
       "    </tr>\n",
       "    <tr>\n",
       "      <th>18</th>\n",
       "      <td>9</td>\n",
       "      <td>ma3-hN.wav</td>\n",
       "      <td>0.000008</td>\n",
       "    </tr>\n",
       "    <tr>\n",
       "      <th>19</th>\n",
       "      <td>32</td>\n",
       "      <td>bu2-bN.wav</td>\n",
       "      <td>0.000013</td>\n",
       "    </tr>\n",
       "    <tr>\n",
       "      <th>20</th>\n",
       "      <td>19</td>\n",
       "      <td>ma2-bN.wav</td>\n",
       "      <td>0.000010</td>\n",
       "    </tr>\n",
       "    <tr>\n",
       "      <th>21</th>\n",
       "      <td>8</td>\n",
       "      <td>bu1-hN.wav</td>\n",
       "      <td>0.000002</td>\n",
       "    </tr>\n",
       "    <tr>\n",
       "      <th>22</th>\n",
       "      <td>12</td>\n",
       "      <td>di4-bN.wav</td>\n",
       "      <td>0.000010</td>\n",
       "    </tr>\n",
       "    <tr>\n",
       "      <th>23</th>\n",
       "      <td>2</td>\n",
       "      <td>ma1-hN.wav</td>\n",
       "      <td>0.000001</td>\n",
       "    </tr>\n",
       "  </tbody>\n",
       "</table>\n",
       "</div>"
      ],
      "text/plain": [
       "    lag        stim  correlations\n",
       "0    24  ma2-hN.wav      0.000015\n",
       "1    13  bu2-hN.wav      0.000006\n",
       "2     9  ma1-bN.wav      0.000008\n",
       "3     0  di4-hN.wav      0.000004\n",
       "4    18  bu1-bN.wav      0.000011\n",
       "5    21  ma3-bN.wav      0.000018\n",
       "6     3  bu3-bN.wav      0.000020\n",
       "7    27  di3-bN.wav      0.000042\n",
       "8    21  bu4-hN.wav      0.000002\n",
       "9     0  di1-bN.wav      0.000029\n",
       "10   38  ma4-hN.wav      0.000001\n",
       "11    0  di2-hN.wav      0.000007\n",
       "12   11  ma4-bN.wav      0.000005\n",
       "13    0  di1-hN.wav      0.000003\n",
       "14    6  bu4-bN.wav      0.000004\n",
       "15   13  di2-bN.wav      0.000011\n",
       "16   12  di3-hN.wav      0.000014\n",
       "17   12  bu3-hN.wav      0.000006\n",
       "18    9  ma3-hN.wav      0.000008\n",
       "19   32  bu2-bN.wav      0.000013\n",
       "20   19  ma2-bN.wav      0.000010\n",
       "21    8  bu1-hN.wav      0.000002\n",
       "22   12  di4-bN.wav      0.000010\n",
       "23    2  ma1-hN.wav      0.000001"
      ]
     },
     "execution_count": 37,
     "metadata": {},
     "output_type": "execute_result"
    }
   ],
   "source": [
    "get_lags(15)"
   ]
  },
  {
   "cell_type": "code",
   "execution_count": 31,
   "metadata": {
    "collapsed": true
   },
   "outputs": [],
   "source": [
    "def get_lags(elec):\n",
    "    data = pd.DataFrame()\n",
    "    all_data = pd.DataFrame()\n",
    "    elecs = [elec]\n",
    "    for e in elecs:\n",
    "        correlations = []\n",
    "        stims = []\n",
    "        lags = []\n",
    "        elec = []\n",
    "        for s in dataStim:\n",
    "            indx = np.where(behav['file'] == s[0:6])\n",
    "            if len(indx[0]) >= 50:\n",
    "                np.random.shuffle(indx)\n",
    "                myhg = np.mean(hg_stim[indx[0][0:50], :, e],axis = 0)\n",
    "                cor = mycross(dataStim[s], myhg)\n",
    "                lag = np.where(cor['cor'] == max(cor['cor']))\n",
    "                stims.append(s)\n",
    "                correlations.append(cor['cor'][lag[0][0]])\n",
    "                lags.append(cor['lag'][lag[0][0]])\n",
    "                elec.append(e)\n",
    "            else:\n",
    "                pass\n",
    "\n",
    "        data['lag'] = lags\n",
    "        data['stim'] = stims\n",
    "        data['correlations'] = correlations\n",
    "        \n",
    "        return data\n",
    "            \n",
    "\n",
    "        \n",
    "        \n",
    "        \n",
    "        "
   ]
  },
  {
   "cell_type": "code",
   "execution_count": 32,
   "metadata": {},
   "outputs": [
    {
     "data": {
      "text/html": [
       "<div>\n",
       "<style>\n",
       "    .dataframe thead tr:only-child th {\n",
       "        text-align: right;\n",
       "    }\n",
       "\n",
       "    .dataframe thead th {\n",
       "        text-align: left;\n",
       "    }\n",
       "\n",
       "    .dataframe tbody tr th {\n",
       "        vertical-align: top;\n",
       "    }\n",
       "</style>\n",
       "<table border=\"1\" class=\"dataframe\">\n",
       "  <thead>\n",
       "    <tr style=\"text-align: right;\">\n",
       "      <th></th>\n",
       "      <th>lag</th>\n",
       "      <th>stim</th>\n",
       "      <th>correlations</th>\n",
       "    </tr>\n",
       "  </thead>\n",
       "  <tbody>\n",
       "    <tr>\n",
       "      <th>0</th>\n",
       "      <td>26</td>\n",
       "      <td>ma2-hN.wav</td>\n",
       "      <td>0.000015</td>\n",
       "    </tr>\n",
       "    <tr>\n",
       "      <th>1</th>\n",
       "      <td>26</td>\n",
       "      <td>bu2-hN.wav</td>\n",
       "      <td>0.000006</td>\n",
       "    </tr>\n",
       "    <tr>\n",
       "      <th>2</th>\n",
       "      <td>26</td>\n",
       "      <td>ma1-bN.wav</td>\n",
       "      <td>0.000008</td>\n",
       "    </tr>\n",
       "    <tr>\n",
       "      <th>3</th>\n",
       "      <td>26</td>\n",
       "      <td>di4-hN.wav</td>\n",
       "      <td>0.000003</td>\n",
       "    </tr>\n",
       "    <tr>\n",
       "      <th>4</th>\n",
       "      <td>31</td>\n",
       "      <td>bu1-bN.wav</td>\n",
       "      <td>0.000011</td>\n",
       "    </tr>\n",
       "    <tr>\n",
       "      <th>5</th>\n",
       "      <td>26</td>\n",
       "      <td>ma3-bN.wav</td>\n",
       "      <td>0.000018</td>\n",
       "    </tr>\n",
       "    <tr>\n",
       "      <th>6</th>\n",
       "      <td>26</td>\n",
       "      <td>bu3-bN.wav</td>\n",
       "      <td>0.000017</td>\n",
       "    </tr>\n",
       "    <tr>\n",
       "      <th>7</th>\n",
       "      <td>27</td>\n",
       "      <td>di3-bN.wav</td>\n",
       "      <td>0.000042</td>\n",
       "    </tr>\n",
       "    <tr>\n",
       "      <th>8</th>\n",
       "      <td>26</td>\n",
       "      <td>bu4-hN.wav</td>\n",
       "      <td>0.000002</td>\n",
       "    </tr>\n",
       "    <tr>\n",
       "      <th>9</th>\n",
       "      <td>26</td>\n",
       "      <td>di1-bN.wav</td>\n",
       "      <td>0.000024</td>\n",
       "    </tr>\n",
       "    <tr>\n",
       "      <th>10</th>\n",
       "      <td>38</td>\n",
       "      <td>ma4-hN.wav</td>\n",
       "      <td>0.000001</td>\n",
       "    </tr>\n",
       "    <tr>\n",
       "      <th>11</th>\n",
       "      <td>26</td>\n",
       "      <td>di2-hN.wav</td>\n",
       "      <td>0.000006</td>\n",
       "    </tr>\n",
       "    <tr>\n",
       "      <th>12</th>\n",
       "      <td>26</td>\n",
       "      <td>ma4-bN.wav</td>\n",
       "      <td>0.000004</td>\n",
       "    </tr>\n",
       "    <tr>\n",
       "      <th>13</th>\n",
       "      <td>26</td>\n",
       "      <td>di1-hN.wav</td>\n",
       "      <td>0.000002</td>\n",
       "    </tr>\n",
       "    <tr>\n",
       "      <th>14</th>\n",
       "      <td>26</td>\n",
       "      <td>bu4-bN.wav</td>\n",
       "      <td>0.000004</td>\n",
       "    </tr>\n",
       "    <tr>\n",
       "      <th>15</th>\n",
       "      <td>26</td>\n",
       "      <td>di2-bN.wav</td>\n",
       "      <td>0.000010</td>\n",
       "    </tr>\n",
       "    <tr>\n",
       "      <th>16</th>\n",
       "      <td>26</td>\n",
       "      <td>di3-hN.wav</td>\n",
       "      <td>0.000012</td>\n",
       "    </tr>\n",
       "    <tr>\n",
       "      <th>17</th>\n",
       "      <td>26</td>\n",
       "      <td>bu3-hN.wav</td>\n",
       "      <td>0.000005</td>\n",
       "    </tr>\n",
       "    <tr>\n",
       "      <th>18</th>\n",
       "      <td>26</td>\n",
       "      <td>ma3-hN.wav</td>\n",
       "      <td>0.000008</td>\n",
       "    </tr>\n",
       "    <tr>\n",
       "      <th>19</th>\n",
       "      <td>32</td>\n",
       "      <td>bu2-bN.wav</td>\n",
       "      <td>0.000013</td>\n",
       "    </tr>\n",
       "    <tr>\n",
       "      <th>20</th>\n",
       "      <td>26</td>\n",
       "      <td>ma2-bN.wav</td>\n",
       "      <td>0.000009</td>\n",
       "    </tr>\n",
       "    <tr>\n",
       "      <th>21</th>\n",
       "      <td>26</td>\n",
       "      <td>bu1-hN.wav</td>\n",
       "      <td>0.000001</td>\n",
       "    </tr>\n",
       "    <tr>\n",
       "      <th>22</th>\n",
       "      <td>26</td>\n",
       "      <td>di4-bN.wav</td>\n",
       "      <td>0.000010</td>\n",
       "    </tr>\n",
       "    <tr>\n",
       "      <th>23</th>\n",
       "      <td>59</td>\n",
       "      <td>ma1-hN.wav</td>\n",
       "      <td>0.000001</td>\n",
       "    </tr>\n",
       "  </tbody>\n",
       "</table>\n",
       "</div>"
      ],
      "text/plain": [
       "    lag        stim  correlations\n",
       "0    26  ma2-hN.wav      0.000015\n",
       "1    26  bu2-hN.wav      0.000006\n",
       "2    26  ma1-bN.wav      0.000008\n",
       "3    26  di4-hN.wav      0.000003\n",
       "4    31  bu1-bN.wav      0.000011\n",
       "5    26  ma3-bN.wav      0.000018\n",
       "6    26  bu3-bN.wav      0.000017\n",
       "7    27  di3-bN.wav      0.000042\n",
       "8    26  bu4-hN.wav      0.000002\n",
       "9    26  di1-bN.wav      0.000024\n",
       "10   38  ma4-hN.wav      0.000001\n",
       "11   26  di2-hN.wav      0.000006\n",
       "12   26  ma4-bN.wav      0.000004\n",
       "13   26  di1-hN.wav      0.000002\n",
       "14   26  bu4-bN.wav      0.000004\n",
       "15   26  di2-bN.wav      0.000010\n",
       "16   26  di3-hN.wav      0.000012\n",
       "17   26  bu3-hN.wav      0.000005\n",
       "18   26  ma3-hN.wav      0.000008\n",
       "19   32  bu2-bN.wav      0.000013\n",
       "20   26  ma2-bN.wav      0.000009\n",
       "21   26  bu1-hN.wav      0.000001\n",
       "22   26  di4-bN.wav      0.000010\n",
       "23   59  ma1-hN.wav      0.000001"
      ]
     },
     "execution_count": 32,
     "metadata": {},
     "output_type": "execute_result"
    }
   ],
   "source": [
    "get_lags(15)"
   ]
  },
  {
   "cell_type": "code",
   "execution_count": null,
   "metadata": {
    "collapsed": true
   },
   "outputs": [],
   "source": [
    "indx = np.where(behav['file'] == 'mi3-bN')\n",
    "myhg = np.mean(hg_stim[indx[0], :, 15],axis = 0)\n",
    "# cor = mycross(dataStim['mi3-bN.wav'], myhg)"
   ]
  },
  {
   "cell_type": "code",
   "execution_count": null,
   "metadata": {
    "collapsed": true
   },
   "outputs": [],
   "source": [
    "print(cor)\n",
    "# print(cor['cor'][0:100])\n",
    "print(np.where(cor == max(cor['cor'][0:100])))\n",
    "plt.plot(cor['cor'])\n",
    "plt.title('mi3-bN elec 15')\n",
    "plt.xlabel('lag = +1ms')\n",
    "plt.ylabel('2dcorrelation value')\n",
    "plt.show()"
   ]
  },
  {
   "cell_type": "code",
   "execution_count": null,
   "metadata": {
    "collapsed": true
   },
   "outputs": [],
   "source": [
    "f,t, SSxx = signal.spectrogram(dataStim['mi3-bN.wav'], 1000, noverlap = 76, nperseg =90)\n",
    "ff,ft, FSxx = signal.spectrogram(a, 1000, noverlap = 76, nperseg =90)\n",
    "mycross = scipy.signal.correlate2d(FSxx,SSxx, mode = 'valid')\n",
    "\n",
    "mylag = np.where(mycross.flatten() == max(mycross.flatten()))\n",
    "print(mylag)\n",
    "print(mycross.flatten()[mylag][0])\n",
    "plt.plot(mycross.flatten())\n",
    "plt.show()\n",
    "\n",
    "print(mycross[0][0])"
   ]
  },
  {
   "cell_type": "markdown",
   "metadata": {},
   "source": [
    "## Run permutation"
   ]
  },
  {
   "cell_type": "code",
   "execution_count": null,
   "metadata": {
    "collapsed": true
   },
   "outputs": [],
   "source": []
  },
  {
   "cell_type": "code",
   "execution_count": 34,
   "metadata": {},
   "outputs": [
    {
     "name": "stderr",
     "output_type": "stream",
     "text": [
      "/Users/alia/anaconda3/lib/python3.6/site-packages/numpy/core/fromnumeric.py:2957: RuntimeWarning:\n",
      "\n",
      "Mean of empty slice.\n",
      "\n",
      "/Users/alia/anaconda3/lib/python3.6/site-packages/numpy/core/_methods.py:73: RuntimeWarning:\n",
      "\n",
      "invalid value encountered in true_divide\n",
      "\n"
     ]
    },
    {
     "data": {
      "image/png": "[encoded data removed]",
      "text/plain": [
       "<matplotlib.figure.Figure at 0x1c1c56d5f8>"
      ]
     },
     "metadata": {},
     "output_type": "display_data"
    }
   ],
   "source": [
    "indx = np.where(behav['file'] == 'ma2-hN.wav')\n",
    "myhg = np.mean(hg_stim[indx[0], :, 15],axis = 0)\n",
    "\n",
    "sf,st, SSxx = signal.spectrogram(dataStim['ma2-hN.wav'], 1000, noverlap = 76, nperseg =90)\n",
    "plt.pcolormesh(st,sf,SSxx, vmax = np.percentile(SSxx.flatten(), 99.9))\n",
    "plt.show()\n"
   ]
  },
  {
   "cell_type": "code",
   "execution_count": 14,
   "metadata": {
    "collapsed": true
   },
   "outputs": [],
   "source": [
    "def run_permute(stim,response,lag, iteration):\n",
    "    permutes = []\n",
    "    sf,st, SSxx = signal.spectrogram(stim, 1000, noverlap = 76, nperseg =90)\n",
    "    ff,ft, FSxx = signal.spectrogram(response[500+lag:942+lag], 1000, noverlap = 76, nperseg =90)\n",
    "    \n",
    "    plt.subplot(1,2,1)\n",
    "    plt.pcolormesh(ft,ff,FSxx, vmax = np.percentile(FSxx.flatten(), 99.9))\n",
    "    plt.title('response')\n",
    "    plt.subplot(1,2,2)\n",
    "    plt.pcolormesh(st,sf,SSxx, vmax = np.percentile(SSxx.flatten(), 99.9))\n",
    "    plt.title('stim')\n",
    "    plt.show()\n",
    "\n",
    "\n",
    "    for i in range(iteration):\n",
    "        np.random.shuffle(SSxx)\n",
    "        mycross = scipy.signal.correlate2d(FSxx,SSxx, mode = 'valid')\n",
    "        permutes.append(mycross[0][0])\n",
    "    return permutes\n",
    "\n",
    "\n",
    "\n",
    "\n",
    "    "
   ]
  },
  {
   "cell_type": "code",
   "execution_count": 38,
   "metadata": {},
   "outputs": [
    {
     "data": {
      "image/png": "[encoded data removed]",
      "text/plain": [
       "<matplotlib.figure.Figure at 0x1c1c72c1d0>"
      ]
     },
     "metadata": {},
     "output_type": "display_data"
    },
    {
     "name": "stdout",
     "output_type": "stream",
     "text": [
      "7.924383652721802e-06\n"
     ]
    },
    {
     "data": {
      "image/png": "[encoded data removed]",
      "text/plain": [
       "<matplotlib.figure.Figure at 0x1c1e5eb828>"
      ]
     },
     "metadata": {},
     "output_type": "display_data"
    }
   ],
   "source": [
    "indx = np.where(behav['file'] == 'di4-hN')\n",
    "myhg = np.mean(hg_stim[indx[0], :, 15],axis = 0)\n",
    "p = run_permute(dataStim['di4-hN.wav'], myhg, 24,10000)\n",
    "t = np.percentile(p,95)\n",
    "print(t)\n",
    "plt.hist(p)\n",
    "plt.axvline(x = t, color = 'r')\n",
    "plt.xlabel('correlations')\n",
    "plt.title('correlation dist')\n",
    "plt.show()"
   ]
  },
  {
   "cell_type": "code",
   "execution_count": null,
   "metadata": {
    "collapsed": true
   },
   "outputs": [],
   "source": [
    "elecs = [33,34,35,36,37,38,39,49,15,16,17,18,19,20,22,23,24,74,112,174,175,182,183,190,191,197,198,199,205,206,207,213,214,221,222,223,230,231,238,246,254]"
   ]
  },
  {
   "cell_type": "code",
   "execution_count": 19,
   "metadata": {},
   "outputs": [
    {
     "data": {
      "text/html": [
       "<div>\n",
       "<style>\n",
       "    .dataframe thead tr:only-child th {\n",
       "        text-align: right;\n",
       "    }\n",
       "\n",
       "    .dataframe thead th {\n",
       "        text-align: left;\n",
       "    }\n",
       "\n",
       "    .dataframe tbody tr th {\n",
       "        vertical-align: top;\n",
       "    }\n",
       "</style>\n",
       "<table border=\"1\" class=\"dataframe\">\n",
       "  <thead>\n",
       "    <tr style=\"text-align: right;\">\n",
       "      <th></th>\n",
       "      <th>Unnamed: 0</th>\n",
       "      <th>elec</th>\n",
       "      <th>stim</th>\n",
       "      <th>thresh</th>\n",
       "      <th>orig</th>\n",
       "      <th>pval</th>\n",
       "      <th>zscore</th>\n",
       "    </tr>\n",
       "  </thead>\n",
       "  <tbody>\n",
       "    <tr>\n",
       "      <th>360</th>\n",
       "      <td>360</td>\n",
       "      <td>15</td>\n",
       "      <td>ma2-hN.wav</td>\n",
       "      <td>0.000014</td>\n",
       "      <td>0.000015</td>\n",
       "      <td>95.210479</td>\n",
       "      <td>2.190386</td>\n",
       "    </tr>\n",
       "    <tr>\n",
       "      <th>361</th>\n",
       "      <td>361</td>\n",
       "      <td>15</td>\n",
       "      <td>bu2-hN.wav</td>\n",
       "      <td>0.000006</td>\n",
       "      <td>0.000006</td>\n",
       "      <td>92.470753</td>\n",
       "      <td>1.576276</td>\n",
       "    </tr>\n",
       "    <tr>\n",
       "      <th>362</th>\n",
       "      <td>362</td>\n",
       "      <td>15</td>\n",
       "      <td>ma1-bN.wav</td>\n",
       "      <td>0.000004</td>\n",
       "      <td>0.000008</td>\n",
       "      <td>99.670033</td>\n",
       "      <td>4.767157</td>\n",
       "    </tr>\n",
       "    <tr>\n",
       "      <th>363</th>\n",
       "      <td>363</td>\n",
       "      <td>15</td>\n",
       "      <td>di4-hN.wav</td>\n",
       "      <td>0.000007</td>\n",
       "      <td>0.000003</td>\n",
       "      <td>51.284872</td>\n",
       "      <td>-0.239289</td>\n",
       "    </tr>\n",
       "    <tr>\n",
       "      <th>364</th>\n",
       "      <td>364</td>\n",
       "      <td>15</td>\n",
       "      <td>bu1-bN.wav</td>\n",
       "      <td>0.000009</td>\n",
       "      <td>0.000011</td>\n",
       "      <td>97.240276</td>\n",
       "      <td>2.781603</td>\n",
       "    </tr>\n",
       "    <tr>\n",
       "      <th>365</th>\n",
       "      <td>365</td>\n",
       "      <td>15</td>\n",
       "      <td>ma3-bN.wav</td>\n",
       "      <td>0.000008</td>\n",
       "      <td>0.000018</td>\n",
       "      <td>100.000000</td>\n",
       "      <td>6.244401</td>\n",
       "    </tr>\n",
       "    <tr>\n",
       "      <th>366</th>\n",
       "      <td>366</td>\n",
       "      <td>15</td>\n",
       "      <td>bu3-bN.wav</td>\n",
       "      <td>0.000039</td>\n",
       "      <td>0.000017</td>\n",
       "      <td>51.314869</td>\n",
       "      <td>-0.178889</td>\n",
       "    </tr>\n",
       "    <tr>\n",
       "      <th>367</th>\n",
       "      <td>367</td>\n",
       "      <td>15</td>\n",
       "      <td>di3-bN.wav</td>\n",
       "      <td>0.000040</td>\n",
       "      <td>0.000042</td>\n",
       "      <td>95.650435</td>\n",
       "      <td>2.022248</td>\n",
       "    </tr>\n",
       "    <tr>\n",
       "      <th>368</th>\n",
       "      <td>368</td>\n",
       "      <td>15</td>\n",
       "      <td>bu4-hN.wav</td>\n",
       "      <td>0.000013</td>\n",
       "      <td>0.000002</td>\n",
       "      <td>15.198480</td>\n",
       "      <td>-0.741149</td>\n",
       "    </tr>\n",
       "    <tr>\n",
       "      <th>369</th>\n",
       "      <td>369</td>\n",
       "      <td>15</td>\n",
       "      <td>di1-bN.wav</td>\n",
       "      <td>0.000016</td>\n",
       "      <td>0.000024</td>\n",
       "      <td>97.670233</td>\n",
       "      <td>3.400560</td>\n",
       "    </tr>\n",
       "    <tr>\n",
       "      <th>370</th>\n",
       "      <td>370</td>\n",
       "      <td>15</td>\n",
       "      <td>ma4-hN.wav</td>\n",
       "      <td>0.000005</td>\n",
       "      <td>0.000001</td>\n",
       "      <td>63.523648</td>\n",
       "      <td>-0.134885</td>\n",
       "    </tr>\n",
       "    <tr>\n",
       "      <th>371</th>\n",
       "      <td>371</td>\n",
       "      <td>15</td>\n",
       "      <td>di2-hN.wav</td>\n",
       "      <td>0.000025</td>\n",
       "      <td>0.000006</td>\n",
       "      <td>58.504150</td>\n",
       "      <td>-0.232551</td>\n",
       "    </tr>\n",
       "    <tr>\n",
       "      <th>372</th>\n",
       "      <td>372</td>\n",
       "      <td>15</td>\n",
       "      <td>ma4-bN.wav</td>\n",
       "      <td>0.000002</td>\n",
       "      <td>0.000004</td>\n",
       "      <td>99.970003</td>\n",
       "      <td>5.793215</td>\n",
       "    </tr>\n",
       "    <tr>\n",
       "      <th>373</th>\n",
       "      <td>373</td>\n",
       "      <td>15</td>\n",
       "      <td>di1-hN.wav</td>\n",
       "      <td>0.000012</td>\n",
       "      <td>0.000002</td>\n",
       "      <td>71.662834</td>\n",
       "      <td>-0.121700</td>\n",
       "    </tr>\n",
       "    <tr>\n",
       "      <th>374</th>\n",
       "      <td>374</td>\n",
       "      <td>15</td>\n",
       "      <td>bu4-bN.wav</td>\n",
       "      <td>0.000012</td>\n",
       "      <td>0.000004</td>\n",
       "      <td>19.848015</td>\n",
       "      <td>-0.839587</td>\n",
       "    </tr>\n",
       "    <tr>\n",
       "      <th>375</th>\n",
       "      <td>375</td>\n",
       "      <td>15</td>\n",
       "      <td>di2-bN.wav</td>\n",
       "      <td>0.000008</td>\n",
       "      <td>0.000010</td>\n",
       "      <td>98.770123</td>\n",
       "      <td>3.193657</td>\n",
       "    </tr>\n",
       "    <tr>\n",
       "      <th>376</th>\n",
       "      <td>376</td>\n",
       "      <td>15</td>\n",
       "      <td>di3-hN.wav</td>\n",
       "      <td>0.000020</td>\n",
       "      <td>0.000012</td>\n",
       "      <td>80.711929</td>\n",
       "      <td>0.604311</td>\n",
       "    </tr>\n",
       "    <tr>\n",
       "      <th>377</th>\n",
       "      <td>377</td>\n",
       "      <td>15</td>\n",
       "      <td>bu3-hN.wav</td>\n",
       "      <td>0.000021</td>\n",
       "      <td>0.000005</td>\n",
       "      <td>30.626937</td>\n",
       "      <td>-0.634445</td>\n",
       "    </tr>\n",
       "    <tr>\n",
       "      <th>378</th>\n",
       "      <td>378</td>\n",
       "      <td>15</td>\n",
       "      <td>ma3-hN.wav</td>\n",
       "      <td>0.000012</td>\n",
       "      <td>0.000008</td>\n",
       "      <td>80.801920</td>\n",
       "      <td>0.786679</td>\n",
       "    </tr>\n",
       "    <tr>\n",
       "      <th>379</th>\n",
       "      <td>379</td>\n",
       "      <td>15</td>\n",
       "      <td>bu2-bN.wav</td>\n",
       "      <td>0.000016</td>\n",
       "      <td>0.000013</td>\n",
       "      <td>81.001900</td>\n",
       "      <td>0.855686</td>\n",
       "    </tr>\n",
       "    <tr>\n",
       "      <th>380</th>\n",
       "      <td>380</td>\n",
       "      <td>15</td>\n",
       "      <td>ma2-bN.wav</td>\n",
       "      <td>0.000006</td>\n",
       "      <td>0.000009</td>\n",
       "      <td>97.860214</td>\n",
       "      <td>4.166440</td>\n",
       "    </tr>\n",
       "    <tr>\n",
       "      <th>381</th>\n",
       "      <td>381</td>\n",
       "      <td>15</td>\n",
       "      <td>bu1-hN.wav</td>\n",
       "      <td>0.000020</td>\n",
       "      <td>0.000001</td>\n",
       "      <td>41.765823</td>\n",
       "      <td>-0.365862</td>\n",
       "    </tr>\n",
       "    <tr>\n",
       "      <th>382</th>\n",
       "      <td>382</td>\n",
       "      <td>15</td>\n",
       "      <td>di4-bN.wav</td>\n",
       "      <td>0.000014</td>\n",
       "      <td>0.000010</td>\n",
       "      <td>85.851415</td>\n",
       "      <td>1.029110</td>\n",
       "    </tr>\n",
       "    <tr>\n",
       "      <th>383</th>\n",
       "      <td>383</td>\n",
       "      <td>15</td>\n",
       "      <td>ma1-hN.wav</td>\n",
       "      <td>0.000015</td>\n",
       "      <td>0.000001</td>\n",
       "      <td>47.345265</td>\n",
       "      <td>-0.421313</td>\n",
       "    </tr>\n",
       "  </tbody>\n",
       "</table>\n",
       "</div>"
      ],
      "text/plain": [
       "     Unnamed: 0  elec        stim    thresh      orig        pval    zscore\n",
       "360         360    15  ma2-hN.wav  0.000014  0.000015   95.210479  2.190386\n",
       "361         361    15  bu2-hN.wav  0.000006  0.000006   92.470753  1.576276\n",
       "362         362    15  ma1-bN.wav  0.000004  0.000008   99.670033  4.767157\n",
       "363         363    15  di4-hN.wav  0.000007  0.000003   51.284872 -0.239289\n",
       "364         364    15  bu1-bN.wav  0.000009  0.000011   97.240276  2.781603\n",
       "365         365    15  ma3-bN.wav  0.000008  0.000018  100.000000  6.244401\n",
       "366         366    15  bu3-bN.wav  0.000039  0.000017   51.314869 -0.178889\n",
       "367         367    15  di3-bN.wav  0.000040  0.000042   95.650435  2.022248\n",
       "368         368    15  bu4-hN.wav  0.000013  0.000002   15.198480 -0.741149\n",
       "369         369    15  di1-bN.wav  0.000016  0.000024   97.670233  3.400560\n",
       "370         370    15  ma4-hN.wav  0.000005  0.000001   63.523648 -0.134885\n",
       "371         371    15  di2-hN.wav  0.000025  0.000006   58.504150 -0.232551\n",
       "372         372    15  ma4-bN.wav  0.000002  0.000004   99.970003  5.793215\n",
       "373         373    15  di1-hN.wav  0.000012  0.000002   71.662834 -0.121700\n",
       "374         374    15  bu4-bN.wav  0.000012  0.000004   19.848015 -0.839587\n",
       "375         375    15  di2-bN.wav  0.000008  0.000010   98.770123  3.193657\n",
       "376         376    15  di3-hN.wav  0.000020  0.000012   80.711929  0.604311\n",
       "377         377    15  bu3-hN.wav  0.000021  0.000005   30.626937 -0.634445\n",
       "378         378    15  ma3-hN.wav  0.000012  0.000008   80.801920  0.786679\n",
       "379         379    15  bu2-bN.wav  0.000016  0.000013   81.001900  0.855686\n",
       "380         380    15  ma2-bN.wav  0.000006  0.000009   97.860214  4.166440\n",
       "381         381    15  bu1-hN.wav  0.000020  0.000001   41.765823 -0.365862\n",
       "382         382    15  di4-bN.wav  0.000014  0.000010   85.851415  1.029110\n",
       "383         383    15  ma1-hN.wav  0.000015  0.000001   47.345265 -0.421313"
      ]
     },
     "execution_count": 19,
     "metadata": {},
     "output_type": "execute_result"
    }
   ],
   "source": [
    "PThresh[PThresh.elec == 15]"
   ]
  },
  {
   "cell_type": "code",
   "execution_count": null,
   "metadata": {
    "collapsed": true
   },
   "outputs": [],
   "source": [
    "##run permutation on all elecs and all stims\n",
    "elecs = list(range(0,256))\n",
    "PThresh = pd.DataFrame()\n",
    "thresh = []\n",
    "elec = []\n",
    "stim = []\n",
    "c = []\n",
    "z = []\n",
    "PVal = []\n",
    "for e in elecs:\n",
    "    data = get_lags(e)\n",
    "    print(str(e) + ' is starting')\n",
    "    for s in dataStim:\n",
    "        indx = np.where(behav['file'] == s[0:6])\n",
    "        myhg = np.mean(hg_stim[indx[0], :, e],axis = 0)\n",
    "        for d in range(len(data)):\n",
    "            if data['stim'][d] == s:\n",
    "                stim.append(s)\n",
    "                lag = data['lag'][d]\n",
    "                cors = data['correlations'][d]\n",
    "                p = run_permute(dataStim[s], myhg, lag,10000)\n",
    "                \n",
    "                t = np.percentile(p,95)\n",
    "                \n",
    "                p.append(cors)\n",
    "                zscore = scipy.stats.zscore(p)\n",
    "                pval = scipy.stats.percentileofscore(p,cors)\n",
    "                \n",
    "                PVal.append(pval)\n",
    "                z.append(zscore[-1])\n",
    "                \n",
    "                \n",
    "                elec.append(e)\n",
    "        \n",
    "        \n",
    "                thresh.append(t)\n",
    "                c.append(cors)\n",
    "        \n",
    "        \n",
    "        \n",
    "    "
   ]
  },
  {
   "cell_type": "code",
   "execution_count": null,
   "metadata": {
    "collapsed": true
   },
   "outputs": [],
   "source": [
    "homeDir = ('/Users/alia/Documents/mandarin/patientDem.csv')\n",
    "P = pd.read_csv(homeDir,index_col=None, header=0, encoding = \"ISO-8859-1\")"
   ]
  },
  {
   "cell_type": "code",
   "execution_count": null,
   "metadata": {
    "collapsed": true
   },
   "outputs": [],
   "source": [
    "PThresh['elec'] = elec\n",
    "PThresh['stim'] = stim\n",
    "PThresh['thresh'] = thresh\n",
    "PThresh['orig'] = c\n",
    "PThresh['pval'] = PVal\n",
    "PThresh['zscore'] = z"
   ]
  },
  {
   "cell_type": "code",
   "execution_count": null,
   "metadata": {
    "collapsed": true
   },
   "outputs": [],
   "source": [
    "PThresh.to_csv('zscores_data.csv')\n"
   ]
  },
  {
   "cell_type": "code",
   "execution_count": 7,
   "metadata": {
    "collapsed": true
   },
   "outputs": [],
   "source": [
    "scores = ('/Users/alia/Documents/mandarin/zscores_data.csv')"
   ]
  },
  {
   "cell_type": "code",
   "execution_count": 8,
   "metadata": {
    "collapsed": true
   },
   "outputs": [],
   "source": [
    "PThresh = pd.read_csv(scores,index_col=None, header=0, encoding = \"ISO-8859-1\")"
   ]
  },
  {
   "cell_type": "code",
   "execution_count": null,
   "metadata": {
    "collapsed": true
   },
   "outputs": [],
   "source": []
  },
  {
   "cell_type": "code",
   "execution_count": null,
   "metadata": {
    "collapsed": true
   },
   "outputs": [],
   "source": [
    "## get rid of nonsig elecs \n",
    "for i in range(len(data)):\n",
    "    if data['pval'][i] < 0.05:\n",
    "        data['zscore'][i] = 'NaN'"
   ]
  },
  {
   "cell_type": "code",
   "execution_count": null,
   "metadata": {
    "collapsed": true
   },
   "outputs": [],
   "source": [
    "## get rid of nonsig elecs \n",
    "for i in range(len(PThresh)):\n",
    "    if PThresh['pval'][i] < bon:\n",
    "        PThresh['zscore'][i] = 'NaN'"
   ]
  },
  {
   "cell_type": "code",
   "execution_count": null,
   "metadata": {
    "collapsed": true
   },
   "outputs": [],
   "source": [
    "n = PThresh[PThresh.elec == 20]\n",
    "plt.scatter(n['zscore'], n['pval'])\n",
    "plt.xlabel('zscore')\n",
    "plt.ylabel('pval')\n",
    "plt.show()"
   ]
  },
  {
   "cell_type": "code",
   "execution_count": null,
   "metadata": {
    "collapsed": true
   },
   "outputs": [],
   "source": [
    "bon = (100- (5/len(elecs)/ len(t)))"
   ]
  },
  {
   "cell_type": "code",
   "execution_count": null,
   "metadata": {
    "collapsed": true
   },
   "outputs": [],
   "source": []
  },
  {
   "cell_type": "code",
   "execution_count": 9,
   "metadata": {
    "collapsed": true
   },
   "outputs": [],
   "source": [
    "data = pd.DataFrame()\n",
    "data['elec'] = PThresh['elec']\n",
    "data['stim'] = PThresh['stim']\n",
    "data['zscore'] = PThresh['zscore']\n",
    "\n",
    "# d = []\n",
    "# new = [d.append((100-a)/100) for a in PThresh['pval']]\n",
    "# data['pval'] = new"
   ]
  },
  {
   "cell_type": "code",
   "execution_count": null,
   "metadata": {
    "collapsed": true
   },
   "outputs": [],
   "source": []
  },
  {
   "cell_type": "code",
   "execution_count": null,
   "metadata": {
    "collapsed": true
   },
   "outputs": [],
   "source": [
    "d = []\n",
    "new = [d.append((100-a)/100) for a in PThresh['pval']]\n",
    "data['pval'] = new"
   ]
  },
  {
   "cell_type": "code",
   "execution_count": null,
   "metadata": {
    "collapsed": true
   },
   "outputs": [],
   "source": [
    "from statsmodels.stats.multitest import fdrcorrection\n",
    "is_significant, new_p_values = fdrcorrection(d, alpha = 0.05)\n",
    "new_p_values = new_p_values.reshape(data['pval'].shape)\n",
    "\n",
    "data['pval'] = new_p_values.tolist()"
   ]
  },
  {
   "cell_type": "code",
   "execution_count": 10,
   "metadata": {
    "collapsed": true
   },
   "outputs": [],
   "source": [
    "data =data.pivot_table(index=['stim'],columns=['elec'],values='zscore')"
   ]
  },
  {
   "cell_type": "code",
   "execution_count": null,
   "metadata": {
    "collapsed": true
   },
   "outputs": [],
   "source": []
  },
  {
   "cell_type": "code",
   "execution_count": null,
   "metadata": {
    "collapsed": true
   },
   "outputs": [],
   "source": [
    "t = np.unique(stim)\n",
    "tone1 = []\n",
    "tone2 = []\n",
    "tone3 = []\n",
    "tone4 = []\n",
    "for s in flat_list:\n",
    "    if '1' in s:\n",
    "        tone1.append(s)\n",
    "\n",
    "    if '2' in s:\n",
    "        tone2.append(s)\n",
    "\n",
    "    if '3' in s:\n",
    "        tone3.append(s)\n",
    "\n",
    "    if '4' in s:\n",
    "        tone4.append(s)\n",
    "            \n",
    "for s in t:\n",
    "    if '1' in s:\n",
    "        tone1.append(s)\n",
    "\n",
    "    if '2' in s:\n",
    "        tone2.append(s)\n",
    "\n",
    "    if '3' in s:\n",
    "        tone3.append(s)\n",
    "\n",
    "    if '4' in s:\n",
    "        tone4.append(s)\n",
    "\n",
    "\n"
   ]
  },
  {
   "cell_type": "code",
   "execution_count": 11,
   "metadata": {
    "collapsed": true
   },
   "outputs": [],
   "source": [
    "t = np.unique(PThresh['stim'])\n",
    "tone1h = []\n",
    "tone2h = []\n",
    "tone3h = []\n",
    "tone4h = []\n",
    "tone1b = []\n",
    "tone2b = []\n",
    "tone3b = []\n",
    "tone4b = []\n",
    "for s in t:\n",
    "    if 'b' in s[3:6]:\n",
    "        if '1' in s:\n",
    "            tone1b.append(s)\n",
    "\n",
    "        if '2' in s:\n",
    "            tone2b.append(s)\n",
    "\n",
    "        if '3' in s:\n",
    "            tone3b.append(s)\n",
    "\n",
    "        if '4' in s:\n",
    "            tone4b.append(s)\n",
    "    if 'h' in s[3:6]:\n",
    "        if '1' in s:\n",
    "            tone1h.append(s)\n",
    "\n",
    "        if '2' in s:\n",
    "            tone2h.append(s)\n",
    "\n",
    "        if '3' in s:\n",
    "            tone3h.append(s)\n",
    "\n",
    "        if '4' in s:\n",
    "            tone4h.append(s)\n"
   ]
  },
  {
   "cell_type": "code",
   "execution_count": 12,
   "metadata": {
    "collapsed": true
   },
   "outputs": [],
   "source": [
    "## new index to order in tones\n",
    "ls = [tone1b,tone2b,tone3b,tone4b,tone1h,tone2h,tone3h,tone4h]\n",
    "flat_list = [item for sublist in ls for item in sublist]\n",
    "data = data.reindex(flat_list)"
   ]
  },
  {
   "cell_type": "code",
   "execution_count": null,
   "metadata": {
    "collapsed": true
   },
   "outputs": [],
   "source": [
    "data"
   ]
  },
  {
   "cell_type": "code",
   "execution_count": 13,
   "metadata": {},
   "outputs": [
    {
     "data": {
      "image/png": "[encoded data removed]",
      "text/plain": [
       "<matplotlib.figure.Figure at 0x1c1c39ce80>"
      ]
     },
     "metadata": {},
     "output_type": "display_data"
    }
   ],
   "source": [
    "import seaborn\n",
    "figure = plt.figure(figsize = (40,20))\n",
    "plt.xticks(size = 20)\n",
    "plt.yticks(size = 20)\n",
    "seaborn.heatmap(data, cmap = 'Reds')\n",
    "plt.title('All elecs no NaNs & with latency cutt offs', size = 30)\n",
    "plt.show()"
   ]
  },
  {
   "cell_type": "code",
   "execution_count": null,
   "metadata": {
    "collapsed": true
   },
   "outputs": [],
   "source": [
    "plt.scatter(PThresh['orig']*1000, PThresh['zscore'])\n",
    "plt.show()"
   ]
  },
  {
   "cell_type": "code",
   "execution_count": null,
   "metadata": {
    "collapsed": true
   },
   "outputs": [],
   "source": [
    "sf,st, SSxx = signal.spectrogram(dataStim['ma2-aN.wav'], 1000, noverlap = 76, nperseg =90)\n",
    "plt.pcolormesh(st,sf,SSxx, vmax = np.percentile(SSxx.flatten(), 99.9))"
   ]
  },
  {
   "cell_type": "code",
   "execution_count": null,
   "metadata": {
    "collapsed": true
   },
   "outputs": [],
   "source": [
    "sig_vals = np.where(PThresh['thresh'] <= PThresh['orig'])"
   ]
  },
  {
   "cell_type": "code",
   "execution_count": null,
   "metadata": {
    "collapsed": true
   },
   "outputs": [],
   "source": [
    "sig_elec = []\n",
    "sig_stim= []\n",
    "sig = []\n",
    "for i in sig_vals[0]:\n",
    "    sig_elec.append(PThresh['elec'][i])\n",
    "    sig_stim.append(PThresh['stim'][i])\n",
    "    sig.append(PThresh['orig'][i])\n",
    "    \n",
    "    "
   ]
  },
  {
   "cell_type": "code",
   "execution_count": null,
   "metadata": {
    "collapsed": true
   },
   "outputs": [],
   "source": [
    "sigs = pd.DataFrame()\n",
    "sigs['elec'] = sig_elec\n",
    "sigs['stim'] = sig_stim\n",
    "sigs['cor'] = sig\n"
   ]
  },
  {
   "cell_type": "code",
   "execution_count": null,
   "metadata": {
    "collapsed": true
   },
   "outputs": [],
   "source": [
    "\n",
    "t = sigs[sigs.elec == 15]\n",
    "plt.scatter(t['stim'],t['cor']*1000)\n",
    "plt.xticks(rotation = 90)\n",
    "plt.show()\n",
    "s = sigs[sigs.elec == 119]\n",
    "plt.scatter(s['stim'],s['cor']*1000)\n",
    "plt.xticks(rotation = 90)\n",
    "plt.show()"
   ]
  },
  {
   "cell_type": "code",
   "execution_count": null,
   "metadata": {
    "collapsed": true
   },
   "outputs": [],
   "source": [
    "plt.scatter(sigs['stim'],sigs['cor']*1000, color = 'k')\n",
    "plt.scatter(sigs['stim'][0:9],sigs['cor'][0:9]*1000, color = 'r')\n",
    "plt.scatter(sigs['stim'][18:40],sigs['cor'][18:40]*1000, color= 'b')\n",
    "# plt.legend(loc='upper left')\n",
    "plt.xticks(rotation = 90)\n",
    "plt.show()"
   ]
  },
  {
   "cell_type": "code",
   "execution_count": null,
   "metadata": {
    "collapsed": true
   },
   "outputs": [],
   "source": [
    "col = np.where(sigs['elec']== 119)"
   ]
  },
  {
   "cell_type": "code",
   "execution_count": null,
   "metadata": {
    "collapsed": true
   },
   "outputs": [],
   "source": [
    "col"
   ]
  },
  {
   "cell_type": "code",
   "execution_count": null,
   "metadata": {
    "collapsed": true
   },
   "outputs": [],
   "source": [
    "sigs['elec'][0:9]"
   ]
  },
  {
   "cell_type": "code",
   "execution_count": null,
   "metadata": {
    "collapsed": true
   },
   "outputs": [],
   "source": [
    "plt.scatter(1,2)"
   ]
  },
  {
   "cell_type": "code",
   "execution_count": null,
   "metadata": {
    "collapsed": true
   },
   "outputs": [],
   "source": [
    "plt.show()"
   ]
  },
  {
   "cell_type": "code",
   "execution_count": null,
   "metadata": {
    "collapsed": true
   },
   "outputs": [],
   "source": [
    "sigs"
   ]
  },
  {
   "cell_type": "code",
   "execution_count": null,
   "metadata": {
    "collapsed": true
   },
   "outputs": [],
   "source": []
  }
 ],
 "metadata": {
  "kernelspec": {
   "display_name": "Python 3",
   "language": "python",
   "name": "python3"
  },
  "language_info": {
   "codemirror_mode": {
    "name": "ipython",
    "version": 3
   },
   "file_extension": ".py",
   "mimetype": "text/x-python",
   "name": "python",
   "nbconvert_exporter": "python",
   "pygments_lexer": "ipython3",
   "version": "3.7.1"
  }
 },
 "nbformat": 4,
 "nbformat_minor": 2
}
