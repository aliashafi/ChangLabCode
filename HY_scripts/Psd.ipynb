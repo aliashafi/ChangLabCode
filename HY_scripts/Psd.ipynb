{
 "cells": [
  {
   "cell_type": "code",
   "execution_count": 1,
   "metadata": {
    "collapsed": true
   },
   "outputs": [],
   "source": [
    "subj = 'UI399'\n",
    "root_dir = '/Users/alia/Documents/mandarin'"
   ]
  },
  {
   "cell_type": "code",
   "execution_count": 2,
   "metadata": {},
   "outputs": [
    {
     "name": "stderr",
     "output_type": "stream",
     "text": [
      "/Users/alia/anaconda3/lib/python3.6/site-packages/h5py/__init__.py:34: FutureWarning: Conversion of the second argument of issubdtype from `float` to `np.floating` is deprecated. In future, it will be treated as `np.float64 == np.dtype(float).type`.\n",
      "  from ._conv import register_converters as _register_converters\n"
     ]
    }
   ],
   "source": [
    "import numpy as np\n",
    "import pandas as pd\n",
    "from sklearn.preprocessing import scale\n",
    "from os.path import join, exists\n",
    "from os import makedirs\n",
    "import h5py\n",
    "import matplotlib.pyplot as plt\n",
    "import seaborn as sns\n",
    "from scipy import fftpack\n",
    "import matplotlib.pyplot as plt\n",
    "from scipy import signal\n",
    "import matplotlib.pyplot as plt\n",
    "from sklearn.preprocessing import normalize\n",
    "from numpy import linalg as LA\n",
    "from sklearn.preprocessing import scale\n",
    "import random\n",
    "import librosa\n",
    "from scipy import stats\n",
    "\n",
    "import plotly\n",
    "plotly.tools.set_credentials_file(username='ashafi', api_key='PxONlbVA45fzeK3YWWb9')\n",
    "from plotly.offline import iplot, init_notebook_mode\n",
    "import plotly.plotly as py\n",
    "import plotly.graph_objs as go\n",
    "from plotly.tools import FigureFactory as FF\n",
    "import peakutils\n",
    "import plotly.graph_objs as go"
   ]
  },
  {
   "cell_type": "code",
   "execution_count": 3,
   "metadata": {
    "collapsed": true
   },
   "outputs": [],
   "source": [
    "# Create directories\n",
    "fdir = root_dir + '/mandarin_ffr/fig/' + subj\n",
    "odir = root_dir + '/output/' + subj\n",
    "\n",
    "if not exists(fdir):\n",
    "    makedirs(fdir)\n",
    "if not exists(odir):\n",
    "    makedirs(odir)"
   ]
  },
  {
   "cell_type": "code",
   "execution_count": 4,
   "metadata": {
    "collapsed": true
   },
   "outputs": [],
   "source": [
    "# Where are the data?\n",
    "dir_data = ''.join([root_dir, '/', subj, '/data'])\n",
    "file_ECoG = ''.join([dir_data, '/', subj, '_dat_FFR_noCAR_notch_hp_allTrials.mat'])\n",
    "# file_ECoG = ''.join([dir_data, '/', subj, '_dat_FFR.mat'])\n",
    "\n",
    "# Load the .mat file\n",
    "f = h5py.File(file_ECoG, 'r')\n",
    "\n",
    "# Read ECoG data\n",
    "hg_stim = np.array(f['dat']['hg_stim']) # trial * tp * ch\n",
    "badChans = f['dat']['badChans'].value.flatten() - 1 # Correct for 0-indexing\n",
    "time_axis = (np.round(f['dat']['time_axis'].value.flatten(), 3) * 1000).astype(int) # Use int b/c float precision\n",
    "\n",
    "\n",
    "# Import behav\n",
    "list_col = ['accuracy', 'block', 'choice', 'rt', 'speaker', 'syllable', 'tone', 'trial']\n",
    "behav = pd.DataFrame(columns = list_col)\n",
    "for icol in list_col:\n",
    "    if np.in1d(icol, ['speaker', 'syllable']):\n",
    "        for i in range(0, behav.shape[0]):\n",
    "            behav.loc[i, icol] = ''.join(map(chr, f[f['dat']['behav'][icol][0,i]]))\n",
    "    else:\n",
    "        behav[icol] = np.array(f['dat']['behav'][icol]).flatten()\n",
    "        \n",
    "for icol in ['accuracy', 'block', 'choice', 'tone', 'trial']:\n",
    "    behav[icol] = behav[icol].astype(int)\n",
    "    \n",
    "f.close()\n",
    "\n",
    "#extract data from 0-500 ms \n",
    "\n",
    "\n",
    "# Get rid of NaN trials, if any\n",
    "if np.in1d(subj, ['EC157','EC159', 'UI399']):\n",
    "    nanTrial = np.unique(np.where(np.isnan(hg_stim))[0])\n",
    "    if nanTrial.shape[0] > 0: # perform only if NaN trials exist at all\n",
    "        hg_stim = np.delete(hg_stim, nanTrial, 0)\n",
    "        behav = behav.drop(nanTrial, axis = 0).reset_index(drop = True)\n",
    "\n",
    "# What are the \"good\" channels?\n",
    "good_ch_vector = np.ones((hg_stim.shape[2])).astype(int)\n",
    "good_ch_vector[badChans] = 0\n",
    "goodChans = np.where(good_ch_vector)[0]\n",
    "    \n",
    "# Create index for behav (not literally the trial)\n",
    "behav['Trial'] = range(0, behav.shape[0])\n",
    "\n",
    "# Add the \"file\" column\n",
    "behav['file'] = behav['syllable'].astype(str) + behav['tone'].astype(str) + '-' + behav['speaker'].astype(str) + 'N'"
   ]
  },
  {
   "cell_type": "code",
   "execution_count": null,
   "metadata": {
    "collapsed": true
   },
   "outputs": [],
   "source": [
    "## get list of tones\n",
    "tones = np.unique(behav['file'])\n",
    "tones = tones.tolist()"
   ]
  },
  {
   "cell_type": "markdown",
   "metadata": {},
   "source": [
    "## Read Stim"
   ]
  },
  {
   "cell_type": "code",
   "execution_count": 5,
   "metadata": {
    "collapsed": true
   },
   "outputs": [],
   "source": [
    "'''this reads each wav file, zero pads it to match the FFR, runs autocorr on all stimuli and then \n",
    "    normalizing from -1 to 1'''\n",
    "import scipy.io\n",
    "import os\n",
    "\n",
    "'''autocorr the stimulation wav files t = tone, p = b or h, male or female'''\n",
    "dirs = os.listdir('/Users/alia/Documents/dura/userdata/ashafi/alia_temp_1/stimwav/')\n",
    "dataStim = pd.DataFrame()\n",
    "for i in dirs:\n",
    "    y, sr= librosa.load('/Users/alia/Documents/dura/userdata/ashafi/alia_temp_1/stimwav/' + i, sr = 1000)\n",
    "    dataStim[i] = y\n",
    "    "
   ]
  },
  {
   "cell_type": "code",
   "execution_count": null,
   "metadata": {
    "collapsed": true
   },
   "outputs": [],
   "source": []
  },
  {
   "cell_type": "code",
   "execution_count": null,
   "metadata": {
    "collapsed": true
   },
   "outputs": [],
   "source": []
  },
  {
   "cell_type": "markdown",
   "metadata": {},
   "source": [
    "## Read FFR for all trials and put if df"
   ]
  },
  {
   "cell_type": "code",
   "execution_count": 6,
   "metadata": {
    "collapsed": true
   },
   "outputs": [],
   "source": [
    "import pandas as pd\n",
    "import itertools\n",
    "import matplotlib as pyplot\n",
    "\n",
    "def get_FFR(e,d):\n",
    "    '''takes elec and gets FFR data for ever stim assuming a 'd' ms delay'''\n",
    "    dataFFR = pd.DataFrame()\n",
    "    test = np.where((behav['block'] <22))[0]\n",
    "\n",
    "    for f in test:\n",
    "        file = behav['file'][f]\n",
    "        myhg = hg_stim[f, :, e] ## for only electrode 15\n",
    "        dataFFR[file + '_' + str(f)] = myhg[500+d:942+d] ###Assuming a 'd' ms delay\n",
    "\n",
    "    return dataFFR"
   ]
  },
  {
   "cell_type": "code",
   "execution_count": null,
   "metadata": {
    "collapsed": true
   },
   "outputs": [],
   "source": []
  },
  {
   "cell_type": "markdown",
   "metadata": {
    "collapsed": true
   },
   "source": [
    "## Use Scipy.Signal.Correlate to find estimated delay"
   ]
  },
  {
   "cell_type": "code",
   "execution_count": 7,
   "metadata": {
    "collapsed": true
   },
   "outputs": [],
   "source": [
    "def get_shift(stim,myhg):\n",
    "    ''' takes FFR, stim, and elec, and runs cross correlation and outputs the best shift'''\n",
    "    correlation_array = signal.correlate(stim,myhg, mode= \"same\", method = \"fft\")\n",
    "    best_shift = np.max(correlation_array)\n",
    "    shift_itself = correlation_array.tolist().index(best_shift);\n",
    "    return shift_itself"
   ]
  },
  {
   "cell_type": "code",
   "execution_count": null,
   "metadata": {
    "collapsed": true
   },
   "outputs": [],
   "source": [
    "## test my therory\n",
    "positive = np.zeros((558,))\n",
    "negative = np.zeros((500,))\n",
    "y = dataStim['ma1-bN.wav']\n",
    "y = np.append(y,positive)\n",
    "y = np.insert(y,0,negative)\n",
    "\n",
    "\n",
    "stim2 = y\n",
    "shift = get_shift(stim2,dataStim['ma1-bN.wav'])\n",
    "\n",
    "signal3 = stim2[shift-221:] # -221 half the stim period\n",
    "plt.plot(signal3)\n",
    "plt.plot(dataStim['ma1-bN.wav'])\n",
    "# plt.show()\n",
    "\n"
   ]
  },
  {
   "cell_type": "code",
   "execution_count": null,
   "metadata": {
    "collapsed": true
   },
   "outputs": [],
   "source": [
    "correlation_array = signal.correlate(stim,myhg, mode= \"same\", method = \"fft\")\n",
    "plt.plot(correlation_array)\n",
    "print(correlation_array.shape)\n",
    "plt.show()"
   ]
  },
  {
   "cell_type": "code",
   "execution_count": null,
   "metadata": {
    "collapsed": true
   },
   "outputs": [],
   "source": []
  },
  {
   "cell_type": "code",
   "execution_count": 5,
   "metadata": {},
   "outputs": [
    {
     "ename": "NameError",
     "evalue": "name 'dataStim' is not defined",
     "output_type": "error",
     "traceback": [
      "\u001b[0;31m---------------------------------------------------------------------------\u001b[0m",
      "\u001b[0;31mNameError\u001b[0m                                 Traceback (most recent call last)",
      "\u001b[0;32m<ipython-input-5-950613e464ee>\u001b[0m in \u001b[0;36m<module>\u001b[0;34m()\u001b[0m\n\u001b[1;32m      7\u001b[0m \u001b[0mc\u001b[0m \u001b[0;34m=\u001b[0m \u001b[0;34m[\u001b[0m\u001b[0;34m]\u001b[0m\u001b[0;34m\u001b[0m\u001b[0m\n\u001b[1;32m      8\u001b[0m \u001b[0;32mfor\u001b[0m \u001b[0melec\u001b[0m \u001b[0;32min\u001b[0m \u001b[0mbest_elecs\u001b[0m\u001b[0;34m:\u001b[0m\u001b[0;34m\u001b[0m\u001b[0m\n\u001b[0;32m----> 9\u001b[0;31m     \u001b[0;32mfor\u001b[0m \u001b[0mi\u001b[0m \u001b[0;32min\u001b[0m \u001b[0mdataStim\u001b[0m\u001b[0;34m:\u001b[0m\u001b[0;34m\u001b[0m\u001b[0m\n\u001b[0m\u001b[1;32m     10\u001b[0m         \u001b[0mindx\u001b[0m \u001b[0;34m=\u001b[0m \u001b[0mnp\u001b[0m\u001b[0;34m.\u001b[0m\u001b[0mwhere\u001b[0m\u001b[0;34m(\u001b[0m\u001b[0;34m(\u001b[0m\u001b[0mbehav\u001b[0m\u001b[0;34m[\u001b[0m\u001b[0;34m'file'\u001b[0m\u001b[0;34m]\u001b[0m \u001b[0;34m==\u001b[0m \u001b[0mi\u001b[0m\u001b[0;34m[\u001b[0m\u001b[0;36m0\u001b[0m\u001b[0;34m:\u001b[0m\u001b[0;36m6\u001b[0m\u001b[0;34m]\u001b[0m\u001b[0;34m)\u001b[0m\u001b[0;34m)\u001b[0m\u001b[0;34m[\u001b[0m\u001b[0;36m0\u001b[0m\u001b[0;34m]\u001b[0m\u001b[0;34m\u001b[0m\u001b[0m\n\u001b[1;32m     11\u001b[0m         \u001b[0;32mfor\u001b[0m \u001b[0mind\u001b[0m \u001b[0;32min\u001b[0m \u001b[0mindx\u001b[0m\u001b[0;34m:\u001b[0m\u001b[0;34m\u001b[0m\u001b[0m\n",
      "\u001b[0;31mNameError\u001b[0m: name 'dataStim' is not defined"
     ]
    }
   ],
   "source": [
    "## run the scipy.signal.spec to get delay\n",
    "import sklearn\n",
    "e = []\n",
    "s = []\n",
    "sh = []\n",
    "best_elecs = [14,15,17,34,119]\n",
    "c = []\n",
    "for elec in best_elecs:\n",
    "    for i in dataStim:\n",
    "        indx = np.where((behav['file'] == i[0:6]))[0]\n",
    "        for ind in indx:\n",
    "            myhg = hg_stim[ind,:, elec]\n",
    "            myhg = sklearn.preprocessing.scale(myhg)\n",
    "            stim = sklearn.preprocessing.scale(dataStim[i])\n",
    "            shift = get_shift(stim,myhg)\n",
    "            cor = np.corrcoef(stim,myhg[500+shift:942+shift])\n",
    "            c.append(cor)\n",
    "            e.append(elec)\n",
    "            s.append(i)\n",
    "            sh.append(shift-221)"
   ]
  },
  {
   "cell_type": "code",
   "execution_count": 92,
   "metadata": {
    "collapsed": true
   },
   "outputs": [],
   "source": [
    "newc = []\n",
    "test= [newc.append(i[0][1]) for i in c]\n",
    "## put in df\n",
    "data_shifts = pd.DataFrame()\n",
    "data_shifts['elec'] = e\n",
    "data_shifts['stim'] = s\n",
    "data_shifts['shifts'] = sh\n",
    "data_shifts['cors'] = newc"
   ]
  },
  {
   "cell_type": "code",
   "execution_count": 118,
   "metadata": {},
   "outputs": [
    {
     "data": {
      "text/plain": [
       "-0.00098515968635207824"
      ]
     },
     "execution_count": 118,
     "metadata": {},
     "output_type": "execute_result"
    }
   ],
   "source": [
    "d = data_shifts15[data_shifts15.shifts > 0]\n",
    "sum(d['cors'])/len(d['cors'])\n"
   ]
  },
  {
   "cell_type": "code",
   "execution_count": 117,
   "metadata": {},
   "outputs": [
    {
     "data": {
      "text/plain": [
       "-0.0026545957289229659"
      ]
     },
     "execution_count": 117,
     "metadata": {},
     "output_type": "execute_result"
    }
   ],
   "source": [
    "data_shifts15 = data_shifts[data_shifts.elec == 119]\n",
    "sum(data_shifts15['cors'])/len(data_shifts15['cors'])"
   ]
  },
  {
   "cell_type": "code",
   "execution_count": null,
   "metadata": {
    "collapsed": true
   },
   "outputs": [],
   "source": []
  },
  {
   "cell_type": "code",
   "execution_count": 32,
   "metadata": {},
   "outputs": [
    {
     "name": "stdout",
     "output_type": "stream",
     "text": [
      "      elec        stim  shifts\n",
      "1661    15  ma2-hN.wav      22\n",
      "1662    15  ma2-hN.wav      19\n",
      "1668    15  ma2-hN.wav      54\n",
      "1669    15  ma2-hN.wav      47\n",
      "1671    15  ma2-hN.wav       1\n",
      "1672    15  ma2-hN.wav      96\n",
      "1674    15  ma2-hN.wav      20\n",
      "1676    15  ma2-hN.wav     114\n",
      "1681    15  ma2-hN.wav      61\n",
      "1683    15  ma2-hN.wav      12\n",
      "1684    15  ma2-hN.wav      56\n",
      "1685    15  ma2-hN.wav      70\n",
      "1687    15  ma2-hN.wav      57\n",
      "1690    15  ma2-hN.wav      42\n",
      "1691    15  ma2-hN.wav      45\n",
      "1694    15  ma2-hN.wav      56\n",
      "1696    15  ma2-hN.wav      93\n",
      "1697    15  ma2-hN.wav      65\n",
      "1700    15  ma2-hN.wav      94\n",
      "1701    15  ma2-hN.wav     140\n",
      "1703    15  ma2-hN.wav      34\n",
      "1704    15  ma2-hN.wav      28\n",
      "1705    15  ma2-hN.wav      63\n",
      "1706    15  ma2-hN.wav     131\n",
      "1707    15  ma2-hN.wav     101\n",
      "1708    15  ma2-hN.wav      34\n",
      "1709    15  ma2-hN.wav      93\n",
      "1710    15  ma2-hN.wav      51\n",
      "1711    15  ma2-hN.wav      63\n",
      "1712    15  ma2-hN.wav     124\n",
      "...    ...         ...     ...\n",
      "3147    15  di3-aN.wav       8\n",
      "3148    15  di3-aN.wav      56\n",
      "3149    15  di3-aN.wav      78\n",
      "3150    15  di3-aN.wav      47\n",
      "3151    15  di3-aN.wav     102\n",
      "3152    15  di3-aN.wav      49\n",
      "3154    15  di3-aN.wav      75\n",
      "3155    15  di3-aN.wav      98\n",
      "3156    15  di3-aN.wav     131\n",
      "3157    15  mi2-bN.wav      56\n",
      "3159    15  mi2-bN.wav      77\n",
      "3216    15  di4-bN.wav       1\n",
      "3219    15  di4-bN.wav      13\n",
      "3221    15  di4-bN.wav      13\n",
      "3222    15  di4-bN.wav       7\n",
      "3228    15  di4-bN.wav      11\n",
      "3231    15  di4-bN.wav      23\n",
      "3232    15  di4-bN.wav      26\n",
      "3235    15  di4-bN.wav      11\n",
      "3238    15  di4-bN.wav       6\n",
      "3252    15  di4-bN.wav      41\n",
      "3255    15  di4-bN.wav       9\n",
      "3256    15  di4-bN.wav      29\n",
      "3264    15  di4-bN.wav      12\n",
      "3282    15  ma1-hN.wav      35\n",
      "3284    15  ma1-hN.wav      31\n",
      "3286    15  ma1-hN.wav      93\n",
      "3294    15  ma1-hN.wav     112\n",
      "3303    15  ma1-hN.wav      21\n",
      "3317    15  ma1-hN.wav      30\n",
      "\n",
      "[438 rows x 3 columns]\n"
     ]
    },
    {
     "data": {
      "text/plain": [
       "56.771689497716892"
      ]
     },
     "execution_count": 32,
     "metadata": {},
     "output_type": "execute_result"
    }
   ],
   "source": [
    "s = []\n",
    "data15 = data_shifts[data_shifts.elec == 15]\n",
    "data15 = data15[data15.shifts > 0]\n",
    "print(data15)\n",
    "ans = [s.append(shifts) for shifts in data15['shifts']]\n",
    "avg = sum(s)/len(s)\n",
    "avg"
   ]
  },
  {
   "cell_type": "code",
   "execution_count": 63,
   "metadata": {},
   "outputs": [
    {
     "name": "stdout",
     "output_type": "stream",
     "text": [
      "442\n",
      "442\n"
     ]
    },
    {
     "data": {
      "text/plain": [
       "array([-0.06508232,  0.21702208, -0.00607587,  0.16966917,  0.29246846,\n",
       "       -0.02469995,  0.09370402, -0.27052844, -0.30020811, -0.43881723])"
      ]
     },
     "execution_count": 63,
     "metadata": {},
     "output_type": "execute_result"
    }
   ],
   "source": [
    "indx = np.where((behav['file'] == 'ma2-hN'))[0]\n",
    "myhg = np.mean(hg_stim[indx, :, 15], axis = 0)\n",
    "print(len(y))\n",
    "print(len(myhg[556:998]))\n",
    "\n",
    "myhg[500:510]"
   ]
  },
  {
   "cell_type": "code",
   "execution_count": 64,
   "metadata": {},
   "outputs": [
    {
     "data": {
      "text/plain": [
       "array([[ 1.        , -0.13475228],\n",
       "       [-0.13475228,  1.        ]])"
      ]
     },
     "execution_count": 64,
     "metadata": {},
     "output_type": "execute_result"
    }
   ],
   "source": [
    "indx = np.where((behav['file'] == 'ma2-hN'))[0]\n",
    "myhg = np.mean(hg_stim[indx, :, 15], axis = 0)\n",
    "y = dataStim['ma2-hN.wav']\n",
    "np.corrcoef(y,myhg[556:998])"
   ]
  },
  {
   "cell_type": "code",
   "execution_count": null,
   "metadata": {
    "collapsed": true
   },
   "outputs": [],
   "source": [
    "data_delay = pd.DataFrame()\n",
    "data_delay['stim'] = np.zeros(80)\n",
    "data_delay['latency'] = np.zeros(80)\n",
    "data_delay['length'] = np.zeros(80)\n",
    "data_delay['elec'] = np.zeros(80)\n",
    "\n",
    "for s in range(80):\n",
    "    data_delay['stim'][s] = stim[s]\n",
    "    for elecs in range(len(best_elecs)):\n",
    "        data_delay['elec'][s] == best_elecs[elecs]\n",
    "        print(best_elecs[elecs])\n",
    "        latency = []\n",
    "        stims = []\n",
    "        for x in range(len(data_shifts['stim'])):\n",
    "            if data_shifts['stim'][x] == stim[s]:\n",
    "                if data_shifts['elec'][x] == best_elecs[elecs]:\n",
    "                    latency.append(data_shifts['shifts'][x])\n",
    "\n",
    "            data_delay['latency'][s] = sum(latency)/len(latency)\n",
    "            data_delay['length'][s] = len(latency)\n"
   ]
  },
  {
   "cell_type": "code",
   "execution_count": null,
   "metadata": {
    "collapsed": true
   },
   "outputs": [],
   "source": [
    "stim = []\n",
    "for s in dataStim:\n",
    "    stim.append(s)\n",
    "stim"
   ]
  },
  {
   "cell_type": "code",
   "execution_count": null,
   "metadata": {
    "collapsed": true
   },
   "outputs": [],
   "source": [
    "## find average for each elec\n",
    "A = []\n",
    "els = []\n",
    "for e in best_elecs:\n",
    "    ls = []\n",
    "    for n in range(len(data_shifts['stim'])):\n",
    "        if data_shifts['elec'][n] == e:\n",
    "            if data_shifts['shifts'][n] > 0:\n",
    "                ls.append(data_shifts['shifts'][n])\n",
    "    avg = sum(ls)/len(ls)\n",
    "    A.append(avg)\n",
    "    els.append(e)\n",
    "            \n",
    "        "
   ]
  },
  {
   "cell_type": "code",
   "execution_count": null,
   "metadata": {
    "collapsed": true
   },
   "outputs": [],
   "source": [
    "averages = pd.DataFrame()\n",
    "averages['elec'] = els\n",
    "averages['avg'] = A"
   ]
  },
  {
   "cell_type": "code",
   "execution_count": null,
   "metadata": {
    "collapsed": true
   },
   "outputs": [],
   "source": [
    "averages"
   ]
  },
  {
   "cell_type": "code",
   "execution_count": null,
   "metadata": {
    "collapsed": true
   },
   "outputs": [],
   "source": [
    "np.corrcoef(y,myhg[56:966])"
   ]
  },
  {
   "cell_type": "code",
   "execution_count": null,
   "metadata": {
    "collapsed": true
   },
   "outputs": [],
   "source": [
    "correlation_array = signal.correlate(y,myhg, mode= \"same\", method = \"fft\")\n",
    "plt.plot(correlation_array)\n",
    "plt.show()"
   ]
  },
  {
   "cell_type": "markdown",
   "metadata": {},
   "source": [
    "## Find psd for each trial"
   ]
  },
  {
   "cell_type": "code",
   "execution_count": 119,
   "metadata": {
    "collapsed": true
   },
   "outputs": [],
   "source": [
    "positive = np.zeros((558,))\n",
    "negative = np.zeros((500,))\n",
    "y = dataStim['ma1-bN.wav']\n",
    "# y = np.append(y,positive)\n",
    "# y = np.insert(y,0,negative)\n",
    "\n",
    "stim2 = y\n",
    "\n",
    "f,pxx_den = scipy.signal.welch(y,1000)"
   ]
  },
  {
   "cell_type": "code",
   "execution_count": 120,
   "metadata": {},
   "outputs": [
    {
     "data": {
      "image/png": "[encoded data removed]",
      "text/plain": [
       "<matplotlib.figure.Figure at 0x1c16e10390>"
      ]
     },
     "metadata": {},
     "output_type": "display_data"
    }
   ],
   "source": [
    "plt.semilogy(f,pxx_den)\n",
    "plt.show()"
   ]
  },
  {
   "cell_type": "code",
   "execution_count": 121,
   "metadata": {
    "collapsed": true
   },
   "outputs": [],
   "source": [
    "indx = np.where((behav['file'] == 'ma2-hN'))[0]\n",
    "myhg = np.mean(hg_stim[indx, :, 15], axis = 0)\n",
    "f,pxx_den = scipy.signal.welch(myhg[552:994],1000)"
   ]
  },
  {
   "cell_type": "code",
   "execution_count": 122,
   "metadata": {},
   "outputs": [
    {
     "data": {
      "image/png": "[encoded data removed]",
      "text/plain": [
       "<matplotlib.figure.Figure at 0x1c19d3a3c8>"
      ]
     },
     "metadata": {},
     "output_type": "display_data"
    }
   ],
   "source": [
    "plt.semilogy(f,pxx_den)\n",
    "plt.show()"
   ]
  },
  {
   "cell_type": "code",
   "execution_count": 123,
   "metadata": {},
   "outputs": [
    {
     "data": {
      "image/png": "[encoded data removed]",
      "text/plain": [
       "<matplotlib.figure.Figure at 0x1c19cf6780>"
      ]
     },
     "metadata": {},
     "output_type": "display_data"
    }
   ],
   "source": [
    "f, Pxy = signal.csd(myhg[552:994], y, 1000)\n",
    "plt.semilogy(f, np.abs(Pxy))\n",
    "plt.show()"
   ]
  },
  {
   "cell_type": "code",
   "execution_count": 124,
   "metadata": {
    "collapsed": true
   },
   "outputs": [],
   "source": [
    "cxy, fcoh = signal.coherence(myhg[552:994], y)"
   ]
  },
  {
   "cell_type": "code",
   "execution_count": 125,
   "metadata": {},
   "outputs": [
    {
     "data": {
      "image/png": "[encoded data removed]",
      "text/plain": [
       "<matplotlib.figure.Figure at 0x1c19054dd8>"
      ]
     },
     "metadata": {},
     "output_type": "display_data"
    }
   ],
   "source": [
    "plt.plot(cxy, fcoh, 'b-')\n",
    "plt.show()\n"
   ]
  },
  {
   "cell_type": "markdown",
   "metadata": {
    "collapsed": true
   },
   "source": [
    "## Try classifier online"
   ]
  },
  {
   "cell_type": "code",
   "execution_count": 5,
   "metadata": {},
   "outputs": [
    {
     "name": "stderr",
     "output_type": "stream",
     "text": [
      "/Users/alia/anaconda3/lib/python3.6/importlib/_bootstrap.py:219: RuntimeWarning:\n",
      "\n",
      "compiletime version 3.5 of module 'tensorflow.python.framework.fast_tensor_util' does not match runtime version 3.6\n",
      "\n"
     ]
    }
   ],
   "source": [
    "import glob\n",
    "import os\n",
    "import librosa\n",
    "import numpy as np\n",
    "import matplotlib.pyplot as plt\n",
    "import tensorflow as tf\n",
    "from matplotlib.pyplot import specgram"
   ]
  },
  {
   "cell_type": "code",
   "execution_count": 102,
   "metadata": {
    "collapsed": true
   },
   "outputs": [],
   "source": [
    "def extract_feature(file_name):\n",
    "    X, sample_rate = librosa.load(file_name)\n",
    "    stft = np.abs(librosa.stft(X))\n",
    "    mfccs = np.mean(librosa.feature.mfcc(y=X, sr=sample_rate, n_mfcc=40).T,axis=0)\n",
    "    chroma = np.mean(librosa.feature.chroma_stft(S=stft, sr=sample_rate).T,axis=0)\n",
    "    mel = np.mean(librosa.feature.melspectrogram(X, sr=sample_rate).T,axis=0)\n",
    "    contrast = np.mean(librosa.feature.spectral_contrast(S=stft, sr=sample_rate).T,axis=0)\n",
    "    tonnetz = np.mean(librosa.feature.tonnetz(y=librosa.effects.harmonic(X),\n",
    "    sr=sample_rate).T,axis=0)\n",
    "    return mfccs,chroma,mel,contrast,tonnetz\n",
    "\n",
    "\n",
    "def parse_audio_files(parent_dir,sub_dirs,file_ext=\"*.wav\"):\n",
    "    features, labels = np.empty((0,193)), np.empty(0)\n",
    "    c = 1\n",
    "    for label, sub_dir in enumerate(sub_dirs):\n",
    "        c+=1\n",
    "        for fn in glob.glob(os.path.join(parent_dir, sub_dir, file_ext)):\n",
    "            try:\n",
    "              mfccs, chroma, mel, contrast,tonnetz = extract_feature(fn)\n",
    "            except Exception as e:\n",
    "              print(\"Error encountered while parsing file: \", fn)\n",
    "              continue\n",
    "            ext_features = np.hstack([mfccs,chroma,mel,contrast,tonnetz])\n",
    "            features = np.vstack([features,ext_features])\n",
    "            labels = np.append(labels, c)\n",
    "            \n",
    "#             print(labels)\n",
    "    return np.array(features), np.array(labels)\n",
    "\n",
    "def one_hot_encode(labels):\n",
    "    n_labels = len(labels)\n",
    "    n_unique_labels = len(np.unique(labels))\n",
    "    one_hot_encode = np.zeros((n_labels,n_unique_labels))\n",
    "    one_hot_encode[np.arange(n_labels), labels] = 1\n",
    "    return (one_hot_encode)"
   ]
  },
  {
   "cell_type": "code",
   "execution_count": 57,
   "metadata": {},
   "outputs": [
    {
     "data": {
      "text/plain": [
       "'mi2-hN.wav'"
      ]
     },
     "execution_count": 57,
     "metadata": {},
     "output_type": "execute_result"
    }
   ],
   "source": [
    "fn = '/Users/alia/Documents/dura/userdata/ashafi/alia_temp_1/stimwav/mi2-hN.wav'\n",
    "fn.split('/')[9]"
   ]
  },
  {
   "cell_type": "code",
   "execution_count": 103,
   "metadata": {},
   "outputs": [
    {
     "name": "stderr",
     "output_type": "stream",
     "text": [
      "/Users/alia/anaconda3/lib/python3.6/site-packages/librosa/util/utils.py:1725: FutureWarning:\n",
      "\n",
      "Conversion of the second argument of issubdtype from `float` to `np.floating` is deprecated. In future, it will be treated as `np.float64 == np.dtype(float).type`.\n",
      "\n",
      "/Users/alia/anaconda3/lib/python3.6/site-packages/librosa/util/utils.py:1640: FutureWarning:\n",
      "\n",
      "Conversion of the second argument of issubdtype from `float` to `np.floating` is deprecated. In future, it will be treated as `np.float64 == np.dtype(float).type`.\n",
      "\n",
      "/Users/alia/anaconda3/lib/python3.6/site-packages/librosa/util/utils.py:1725: FutureWarning:\n",
      "\n",
      "Conversion of the second argument of issubdtype from `complex` to `np.complexfloating` is deprecated. In future, it will be treated as `np.complex128 == np.dtype(complex).type`.\n",
      "\n"
     ]
    }
   ],
   "source": [
    "import glob\n",
    "import os\n",
    "parent_dir = '/Users/alia/Documents/dura/userdata/ashafi/alia_temp_1/'\n",
    "tr_sub_dirs = [\"stimwav\"]\n",
    "ts_sub_dirs = [\"FFR\"]\n",
    "tr_features, tr_labels = parse_audio_files(parent_dir, tr_sub_dirs)\n",
    "ts_features, ts_labels = parse_audio_files(parent_dir,ts_sub_dirs)\n"
   ]
  },
  {
   "cell_type": "code",
   "execution_count": null,
   "metadata": {
    "collapsed": true
   },
   "outputs": [],
   "source": []
  },
  {
   "cell_type": "code",
   "execution_count": 101,
   "metadata": {
    "collapsed": true
   },
   "outputs": [],
   "source": [
    "training_epochs = 50\n",
    "n_dim = tr_features.shape[1]\n",
    "n_classes = 80\n",
    "n_hidden_units_one = 280 \n",
    "n_hidden_units_two = 300\n",
    "sd = 1 / np.sqrt(n_dim)\n",
    "learning_rate = 0.01"
   ]
  },
  {
   "cell_type": "code",
   "execution_count": 98,
   "metadata": {
    "collapsed": true
   },
   "outputs": [],
   "source": [
    "\n",
    "X = tf.placeholder(tf.float32,[None,n_dim])\n",
    "Y = tf.placeholder(tf.float32,[None,n_classes])\n",
    "\n",
    "W_1 = tf.Variable(tf.random_normal([n_dim,n_hidden_units_one], mean = 0, stddev=sd))\n",
    "b_1 = tf.Variable(tf.random_normal([n_hidden_units_one], mean = 0, stddev=sd))\n",
    "h_1 = tf.nn.tanh(tf.matmul(X,W_1) + b_1)\n",
    "\n",
    "W_2 = tf.Variable(tf.random_normal([n_hidden_units_one,n_hidden_units_two], \n",
    "mean = 0, stddev=sd))\n",
    "b_2 = tf.Variable(tf.random_normal([n_hidden_units_two], mean = 0, stddev=sd))\n",
    "h_2 = tf.nn.sigmoid(tf.matmul(h_1,W_2) + b_2)\n",
    "\n",
    "W = tf.Variable(tf.random_normal([n_hidden_units_two,n_classes], mean = 0, stddev=sd))\n",
    "b = tf.Variable(tf.random_normal([n_classes], mean = 0, stddev=sd))\n",
    "y_ = tf.nn.softmax(tf.matmul(h_2,W) + b)\n",
    "\n",
    "init = tf.initialize_all_variables()"
   ]
  },
  {
   "cell_type": "code",
   "execution_count": 99,
   "metadata": {
    "collapsed": true
   },
   "outputs": [],
   "source": [
    "cost_function = -tf.reduce_sum(Y * tf.log(y_))\n",
    "optimizer = tf.train.GradientDescentOptimizer(learning_rate).minimize(cost_function)\n",
    "\n",
    "correct_prediction = tf.equal(tf.argmax(y_,1), tf.argmax(Y,1))\n",
    "accuracy = tf.reduce_mean(tf.cast(correct_prediction, tf.float32))"
   ]
  },
  {
   "cell_type": "code",
   "execution_count": 100,
   "metadata": {},
   "outputs": [
    {
     "ename": "ValueError",
     "evalue": "could not convert string to float: 'ma2-hN.wav'",
     "output_type": "error",
     "traceback": [
      "\u001b[0;31m---------------------------------------------------------------------------\u001b[0m",
      "\u001b[0;31mValueError\u001b[0m                                Traceback (most recent call last)",
      "\u001b[0;32m<ipython-input-100-20e65d7fc764>\u001b[0m in \u001b[0;36m<module>\u001b[0;34m()\u001b[0m\n\u001b[1;32m      4\u001b[0m     \u001b[0msess\u001b[0m\u001b[0;34m.\u001b[0m\u001b[0mrun\u001b[0m\u001b[0;34m(\u001b[0m\u001b[0minit\u001b[0m\u001b[0;34m)\u001b[0m\u001b[0;34m\u001b[0m\u001b[0m\n\u001b[1;32m      5\u001b[0m     \u001b[0;32mfor\u001b[0m \u001b[0mepoch\u001b[0m \u001b[0;32min\u001b[0m \u001b[0mrange\u001b[0m\u001b[0;34m(\u001b[0m\u001b[0mtraining_epochs\u001b[0m\u001b[0;34m)\u001b[0m\u001b[0;34m:\u001b[0m\u001b[0;34m\u001b[0m\u001b[0m\n\u001b[0;32m----> 6\u001b[0;31m         \u001b[0m_\u001b[0m\u001b[0;34m,\u001b[0m\u001b[0mcost\u001b[0m \u001b[0;34m=\u001b[0m \u001b[0msess\u001b[0m\u001b[0;34m.\u001b[0m\u001b[0mrun\u001b[0m\u001b[0;34m(\u001b[0m\u001b[0;34m[\u001b[0m\u001b[0moptimizer\u001b[0m\u001b[0;34m,\u001b[0m\u001b[0mcost_function\u001b[0m\u001b[0;34m]\u001b[0m\u001b[0;34m,\u001b[0m\u001b[0mfeed_dict\u001b[0m\u001b[0;34m=\u001b[0m\u001b[0;34m{\u001b[0m\u001b[0mX\u001b[0m\u001b[0;34m:\u001b[0m\u001b[0mtr_features\u001b[0m\u001b[0;34m,\u001b[0m\u001b[0mY\u001b[0m\u001b[0;34m:\u001b[0m\u001b[0mtr_labels\u001b[0m\u001b[0;34m}\u001b[0m\u001b[0;34m)\u001b[0m\u001b[0;34m\u001b[0m\u001b[0m\n\u001b[0m\u001b[1;32m      7\u001b[0m         \u001b[0mcost_history\u001b[0m \u001b[0;34m=\u001b[0m \u001b[0mnp\u001b[0m\u001b[0;34m.\u001b[0m\u001b[0mappend\u001b[0m\u001b[0;34m(\u001b[0m\u001b[0mcost_history\u001b[0m\u001b[0;34m,\u001b[0m\u001b[0mcost\u001b[0m\u001b[0;34m)\u001b[0m\u001b[0;34m\u001b[0m\u001b[0m\n\u001b[1;32m      8\u001b[0m \u001b[0;34m\u001b[0m\u001b[0m\n",
      "\u001b[0;32m~/anaconda3/lib/python3.6/site-packages/tensorflow/python/client/session.py\u001b[0m in \u001b[0;36mrun\u001b[0;34m(self, fetches, feed_dict, options, run_metadata)\u001b[0m\n\u001b[1;32m    875\u001b[0m     \u001b[0;32mtry\u001b[0m\u001b[0;34m:\u001b[0m\u001b[0;34m\u001b[0m\u001b[0m\n\u001b[1;32m    876\u001b[0m       result = self._run(None, fetches, feed_dict, options_ptr,\n\u001b[0;32m--> 877\u001b[0;31m                          run_metadata_ptr)\n\u001b[0m\u001b[1;32m    878\u001b[0m       \u001b[0;32mif\u001b[0m \u001b[0mrun_metadata\u001b[0m\u001b[0;34m:\u001b[0m\u001b[0;34m\u001b[0m\u001b[0m\n\u001b[1;32m    879\u001b[0m         \u001b[0mproto_data\u001b[0m \u001b[0;34m=\u001b[0m \u001b[0mtf_session\u001b[0m\u001b[0;34m.\u001b[0m\u001b[0mTF_GetBuffer\u001b[0m\u001b[0;34m(\u001b[0m\u001b[0mrun_metadata_ptr\u001b[0m\u001b[0;34m)\u001b[0m\u001b[0;34m\u001b[0m\u001b[0m\n",
      "\u001b[0;32m~/anaconda3/lib/python3.6/site-packages/tensorflow/python/client/session.py\u001b[0m in \u001b[0;36m_run\u001b[0;34m(self, handle, fetches, feed_dict, options, run_metadata)\u001b[0m\n\u001b[1;32m   1067\u001b[0m             \u001b[0mfeed_handles\u001b[0m\u001b[0;34m[\u001b[0m\u001b[0msubfeed_t\u001b[0m\u001b[0;34m]\u001b[0m \u001b[0;34m=\u001b[0m \u001b[0msubfeed_val\u001b[0m\u001b[0;34m\u001b[0m\u001b[0m\n\u001b[1;32m   1068\u001b[0m           \u001b[0;32melse\u001b[0m\u001b[0;34m:\u001b[0m\u001b[0;34m\u001b[0m\u001b[0m\n\u001b[0;32m-> 1069\u001b[0;31m             \u001b[0mnp_val\u001b[0m \u001b[0;34m=\u001b[0m \u001b[0mnp\u001b[0m\u001b[0;34m.\u001b[0m\u001b[0masarray\u001b[0m\u001b[0;34m(\u001b[0m\u001b[0msubfeed_val\u001b[0m\u001b[0;34m,\u001b[0m \u001b[0mdtype\u001b[0m\u001b[0;34m=\u001b[0m\u001b[0msubfeed_dtype\u001b[0m\u001b[0;34m)\u001b[0m\u001b[0;34m\u001b[0m\u001b[0m\n\u001b[0m\u001b[1;32m   1070\u001b[0m \u001b[0;34m\u001b[0m\u001b[0m\n\u001b[1;32m   1071\u001b[0m           if (not is_tensor_handle_feed and\n",
      "\u001b[0;32m~/anaconda3/lib/python3.6/site-packages/numpy/core/numeric.py\u001b[0m in \u001b[0;36masarray\u001b[0;34m(a, dtype, order)\u001b[0m\n\u001b[1;32m    490\u001b[0m \u001b[0;34m\u001b[0m\u001b[0m\n\u001b[1;32m    491\u001b[0m     \"\"\"\n\u001b[0;32m--> 492\u001b[0;31m     \u001b[0;32mreturn\u001b[0m \u001b[0marray\u001b[0m\u001b[0;34m(\u001b[0m\u001b[0ma\u001b[0m\u001b[0;34m,\u001b[0m \u001b[0mdtype\u001b[0m\u001b[0;34m,\u001b[0m \u001b[0mcopy\u001b[0m\u001b[0;34m=\u001b[0m\u001b[0;32mFalse\u001b[0m\u001b[0;34m,\u001b[0m \u001b[0morder\u001b[0m\u001b[0;34m=\u001b[0m\u001b[0morder\u001b[0m\u001b[0;34m)\u001b[0m\u001b[0;34m\u001b[0m\u001b[0m\n\u001b[0m\u001b[1;32m    493\u001b[0m \u001b[0;34m\u001b[0m\u001b[0m\n\u001b[1;32m    494\u001b[0m \u001b[0;34m\u001b[0m\u001b[0m\n",
      "\u001b[0;31mValueError\u001b[0m: could not convert string to float: 'ma2-hN.wav'"
     ]
    }
   ],
   "source": [
    "cost_history = np.empty(shape=[1],dtype=float)\n",
    "y_true, y_pred = None, None\n",
    "with tf.Session() as sess:\n",
    "    sess.run(init)\n",
    "    for epoch in range(training_epochs):            \n",
    "        _,cost = sess.run([optimizer,cost_function],feed_dict={X:tr_features,Y:tr_labels})\n",
    "        cost_history = np.append(cost_history,cost)\n",
    "    \n",
    "    y_pred = sess.run(tf.argmax(y_,1),feed_dict={X: ts_features})\n",
    "    y_true = sess.run(tf.argmax(ts_labels,1))\n",
    "    print(\"Test accuracy: \",round(session.run(accuracy, \n",
    "    \tfeed_dict={X: ts_features,Y: ts_labels}),3))\n",
    "\n",
    "fig = plt.figure(figsize=(10,8))\n",
    "plt.plot(cost_history)\n",
    "plt.axis([0,training_epochs,0,np.max(cost_history)])\n",
    "plt.show()\n",
    "\n",
    "p,r,f,s = precision_recall_fscore_support(y_true, y_pred, average=\"micro\")\n",
    "print (\"F-Score:\", round(f,3))"
   ]
  },
  {
   "cell_type": "code",
   "execution_count": null,
   "metadata": {
    "collapsed": true
   },
   "outputs": [],
   "source": []
  }
 ],
 "metadata": {
  "kernelspec": {
   "display_name": "Python 3",
   "language": "python",
   "name": "python3"
  },
  "language_info": {
   "codemirror_mode": {
    "name": "ipython",
    "version": 3
   },
   "file_extension": ".py",
   "mimetype": "text/x-python",
   "name": "python",
   "nbconvert_exporter": "python",
   "pygments_lexer": "ipython3",
   "version": "3.7.1"
  }
 },
 "nbformat": 4,
 "nbformat_minor": 2
}
