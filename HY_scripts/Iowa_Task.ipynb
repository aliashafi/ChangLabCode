{
 "cells": [
  {
   "cell_type": "code",
   "execution_count": 1,
   "metadata": {
    "collapsed": true
   },
   "outputs": [],
   "source": [
    "subj = 'UI399'\n",
    "root_dir = '/Users/alia/Documents/mandarin'"
   ]
  },
  {
   "cell_type": "code",
   "execution_count": 2,
   "metadata": {
    "collapsed": true
   },
   "outputs": [],
   "source": [
    "import numpy as np\n",
    "import pandas as pd\n",
    "from sklearn.preprocessing import scale\n",
    "from os.path import join, exists\n",
    "from os import makedirs\n",
    "import h5py\n",
    "import matplotlib.pyplot as plt\n",
    "import seaborn as sns\n",
    "from scipy import fftpack\n",
    "import matplotlib.pyplot as plt\n",
    "from scipy import signal\n",
    "import matplotlib.pyplot as plt\n",
    "from sklearn.preprocessing import normalize\n",
    "from numpy import linalg as LA\n",
    "from sklearn.preprocessing import scale\n",
    "import random\n",
    "import librosa\n",
    "from scipy import stats"
   ]
  },
  {
   "cell_type": "code",
   "execution_count": 3,
   "metadata": {
    "collapsed": true
   },
   "outputs": [],
   "source": [
    "# Create directories\n",
    "fdir = root_dir + '/mandarin_ffr/fig/' + subj\n",
    "odir = root_dir + '/output/' + subj\n",
    "\n",
    "if not exists(fdir):\n",
    "    makedirs(fdir)\n",
    "if not exists(odir):\n",
    "    makedirs(odir)"
   ]
  },
  {
   "cell_type": "code",
   "execution_count": 4,
   "metadata": {
    "collapsed": true
   },
   "outputs": [],
   "source": [
    "# Where are the data?\n",
    "dir_data = ''.join([root_dir, '/', subj, '/data'])\n",
    "file_ECoG = ''.join([dir_data, '/', subj, '_dat_clicks_block_8.mat'])\n",
    "# file_ECoG = ''.join([dir_data, '/', subj, '_dat_FFR.mat'])\n",
    "\n",
    "# Load the .mat file\n",
    "f = h5py.File(file_ECoG, 'r')\n",
    "\n",
    "# Read ECoG data\n",
    "hg_stim = np.array(f['dat']['lfp']) # trial * tp * ch\n",
    "time_axis = (np.round(f['dat']['time_axis'].value.flatten(), 3) * 1000).astype(int) # Use int b/c float precision\n",
    "\n",
    "\n",
    "\n",
    "# Import behav\n",
    "behav = np.array(f['dat']['behav'])\n",
    "    \n",
    "f.close()\n"
   ]
  },
  {
   "cell_type": "code",
   "execution_count": null,
   "metadata": {
    "collapsed": true
   },
   "outputs": [],
   "source": [
    "elecs = [34,35,36,37,38,39]"
   ]
  },
  {
   "cell_type": "code",
   "execution_count": null,
   "metadata": {
    "collapsed": true
   },
   "outputs": [],
   "source": [
    "freq = [25,50,100,125,150,200]\n",
    "rows = [1,7,13,19,25,31,37,43,49,55,61]\n",
    "cols = [1,2,3,4,5,6]\n"
   ]
  },
  {
   "cell_type": "code",
   "execution_count": null,
   "metadata": {
    "collapsed": true,
    "scrolled": true
   },
   "outputs": [],
   "source": [
    "x = 1\n",
    "fig = plt.figure(figsize = (50,70)) \n",
    "for e in elecs:\n",
    "    for f in freq:\n",
    "        if x == 7:\n",
    "            x = 13\n",
    "        if x == 19:\n",
    "            x = 25\n",
    "        if x == 31:\n",
    "            x = 37\n",
    "        if x == 43:\n",
    "            x = 49\n",
    "        if x == 55:\n",
    "            x = 61\n",
    "\n",
    "        plt.subplot(12,6,x)\n",
    "        \n",
    "        ## plot spectrum\n",
    "        myidx = np.where(behav[1] == f)\n",
    "        myhg = np.mean(hg_stim[myidx[0], :, e], axis = 0)\n",
    "        myspec = np.fft.rfft(myhg[(time_axis >= 0) & (time_axis <= 150)], norm = 'ortho')\n",
    "        plt.plot(np.linspace(0, 500, myspec.shape[0]), abs(myspec))\n",
    "#         plt.xlim(10,40)\n",
    "        if x in rows:\n",
    "            plt.ylabel(e, fontsize=50)\n",
    "        if x in cols:\n",
    "            plt.title(str(f) + ' Hz',fontsize=50)\n",
    "        x +=1\n",
    "\n",
    "        plt.subplot(12,6,x+5)\n",
    "        ## calculate spectrogram\n",
    "        f,t, Sxx = signal.spectrogram(myhg, 1000, noverlap = 76, nperseg =90)\n",
    "        plt.pcolormesh(t,f,Sxx, vmax = np.percentile(Sxx.flatten(), 99.9))\n",
    "        \n",
    "        \n",
    "plt.tight_layout()\n",
    "plt.show()"
   ]
  },
  {
   "cell_type": "code",
   "execution_count": null,
   "metadata": {
    "collapsed": true
   },
   "outputs": [],
   "source": [
    "import matplotlib\n",
    "font = {'family' : 'normal',\n",
    "        'weight' : 'bold',\n",
    "        'size'   : 10}\n",
    "\n",
    "matplotlib.rc('font', **font)"
   ]
  },
  {
   "cell_type": "code",
   "execution_count": null,
   "metadata": {
    "collapsed": true
   },
   "outputs": [],
   "source": [
    "hz = np.unique(behav[1])\n",
    "behav[1][1]"
   ]
  },
  {
   "cell_type": "markdown",
   "metadata": {},
   "source": [
    "## find amp and run t test"
   ]
  },
  {
   "cell_type": "code",
   "execution_count": 5,
   "metadata": {},
   "outputs": [
    {
     "name": "stderr",
     "output_type": "stream",
     "text": [
      "/Users/alia/anaconda3/lib/python3.6/site-packages/ipykernel_launcher.py:22: SettingWithCopyWarning: \n",
      "A value is trying to be set on a copy of a slice from a DataFrame\n",
      "\n",
      "See the caveats in the documentation: http://pandas.pydata.org/pandas-docs/stable/indexing.html#indexing-view-versus-copy\n",
      "/Users/alia/anaconda3/lib/python3.6/site-packages/ipykernel_launcher.py:29: SettingWithCopyWarning: \n",
      "A value is trying to be set on a copy of a slice from a DataFrame\n",
      "\n",
      "See the caveats in the documentation: http://pandas.pydata.org/pandas-docs/stable/indexing.html#indexing-view-versus-copy\n"
     ]
    }
   ],
   "source": [
    "##run t-test for all elecs and all freq and all trials\n",
    "\n",
    "frame = pd.DataFrame()\n",
    "for elecs in range(256):\n",
    "    AmpData = pd.DataFrame()\n",
    "    AmpData['Trial'] = list(range(300))\n",
    "    AmpData['Freq'] = behav[1]\n",
    "    AmpData['Pre'] = np.zeros(300)\n",
    "    AmpData['Post'] = np.zeros(300)\n",
    "    for trials in range(300):\n",
    "\n",
    "        PreStim = pd.DataFrame()\n",
    "        myhgPre = hg_stim[trials,:,elecs]\n",
    "        myspecPre = np.fft.rfft(myhgPre[(time_axis >= -200) & (time_axis <= 0)])\n",
    "        PreStim['Freq'] = np.linspace(0, 500, myspecPre.shape[0])\n",
    "        PreStim['y'] = abs(myspecPre)\n",
    "        T = behav[1][trials]\n",
    "\n",
    "        freq = np.where(PreStim['Freq'] == T)\n",
    "        F = freq[0][0]\n",
    "\n",
    "        AmpData['Pre'][trials] = PreStim['y'][F]\n",
    "\n",
    "        PostStim = pd.DataFrame()\n",
    "        myhgPost = hg_stim[trials,:,15]\n",
    "        myspecPost = np.fft.rfft(myhgPost[(time_axis >= 0) & (time_axis <= 200)])\n",
    "        PostStim['Freq'] = np.linspace(0, 500, myspecPost.shape[0])\n",
    "        PostStim['y'] = abs(myspecPost)\n",
    "        AmpData['Post'][trials] = PostStim['y'][F]\n",
    "\n",
    "    Amp25 = AmpData[AmpData.Freq == 25.0]\n",
    "    Amp25 = Amp25.reset_index()\n",
    "\n",
    "    Amp50 = AmpData[AmpData.Freq == 50.0]\n",
    "    Amp50 = Amp50.reset_index()\n",
    "\n",
    "    Amp100 = AmpData[AmpData.Freq == 100.0]\n",
    "    Amp100 = Amp100.reset_index()\n",
    "\n",
    "    Amp125 = AmpData[AmpData.Freq == 125.0]\n",
    "    Amp125 = Amp125.reset_index()\n",
    "\n",
    "    Amp150 = AmpData[AmpData.Freq == 150.0]\n",
    "    Amp150 = Amp150.reset_index()\n",
    "\n",
    "    Amp200 = AmpData[AmpData.Freq == 200.0]\n",
    "    Amp200 = Amp200.reset_index()\n",
    "\n",
    "\n",
    "    dfs = [Amp25, Amp50, Amp100, Amp125, Amp150, Amp200]\n",
    "    stat = []\n",
    "    pvalue = []\n",
    "\n",
    "    Stats = pd.DataFrame()\n",
    "    Stats['elec'] = [elecs,elecs,elecs,elecs,elecs,elecs]\n",
    "    for d in dfs:\n",
    "        s= stats.ttest_rel(d['Post'], d['Pre'])\n",
    "        stat.append(s[0])\n",
    "        pvalue.append(s[1])\n",
    "\n",
    "    a = [25,50,100,125,150,200]\n",
    "\n",
    "    Stats['Freq'] = a\n",
    "    Stats['stat'] = stat\n",
    "    Stats['pvalue'] = pvalue\n",
    "    \n",
    "    frame = frame.append(Stats)\n",
    "    \n",
    "    "
   ]
  },
  {
   "cell_type": "code",
   "execution_count": 7,
   "metadata": {
    "collapsed": true
   },
   "outputs": [],
   "source": [
    "frame.to_csv('all_stats_post_pre.csv')"
   ]
  },
  {
   "cell_type": "code",
   "execution_count": 44,
   "metadata": {
    "collapsed": true
   },
   "outputs": [],
   "source": [
    "topstats25 = frame25.nsmallest(5,'pvalue')\n",
    "topstats50 = frame50.nsmallest(5,'pvalue')\n",
    "topstats100 = frame100.nsmallest(5,'pvalue')\n",
    "topstats125 = frame125.nsmallest(5,'pvalue')\n",
    "topstats150 = frame150.nsmallest(5,'pvalue')\n",
    "topstats200 = frame200.nsmallest(5,'pvalue')"
   ]
  },
  {
   "cell_type": "code",
   "execution_count": 47,
   "metadata": {},
   "outputs": [
    {
     "data": {
      "text/html": [
       "<div>\n",
       "<style>\n",
       "    .dataframe thead tr:only-child th {\n",
       "        text-align: right;\n",
       "    }\n",
       "\n",
       "    .dataframe thead th {\n",
       "        text-align: left;\n",
       "    }\n",
       "\n",
       "    .dataframe tbody tr th {\n",
       "        vertical-align: top;\n",
       "    }\n",
       "</style>\n",
       "<table border=\"1\" class=\"dataframe\">\n",
       "  <thead>\n",
       "    <tr style=\"text-align: right;\">\n",
       "      <th></th>\n",
       "      <th>index</th>\n",
       "      <th>elec</th>\n",
       "      <th>Freq</th>\n",
       "      <th>stat</th>\n",
       "      <th>pvalue</th>\n",
       "    </tr>\n",
       "  </thead>\n",
       "  <tbody>\n",
       "    <tr>\n",
       "      <th>185</th>\n",
       "      <td>0</td>\n",
       "      <td>185</td>\n",
       "      <td>25</td>\n",
       "      <td>9.204048</td>\n",
       "      <td>2.933380e-12</td>\n",
       "    </tr>\n",
       "    <tr>\n",
       "      <th>120</th>\n",
       "      <td>0</td>\n",
       "      <td>120</td>\n",
       "      <td>25</td>\n",
       "      <td>9.171006</td>\n",
       "      <td>3.283459e-12</td>\n",
       "    </tr>\n",
       "    <tr>\n",
       "      <th>87</th>\n",
       "      <td>0</td>\n",
       "      <td>87</td>\n",
       "      <td>25</td>\n",
       "      <td>9.078773</td>\n",
       "      <td>4.500629e-12</td>\n",
       "    </tr>\n",
       "    <tr>\n",
       "      <th>94</th>\n",
       "      <td>0</td>\n",
       "      <td>94</td>\n",
       "      <td>25</td>\n",
       "      <td>8.730573</td>\n",
       "      <td>1.491620e-11</td>\n",
       "    </tr>\n",
       "    <tr>\n",
       "      <th>74</th>\n",
       "      <td>0</td>\n",
       "      <td>74</td>\n",
       "      <td>25</td>\n",
       "      <td>8.657962</td>\n",
       "      <td>1.917902e-11</td>\n",
       "    </tr>\n",
       "    <tr>\n",
       "      <th>140</th>\n",
       "      <td>1</td>\n",
       "      <td>140</td>\n",
       "      <td>50</td>\n",
       "      <td>10.741917</td>\n",
       "      <td>1.773654e-14</td>\n",
       "    </tr>\n",
       "    <tr>\n",
       "      <th>0</th>\n",
       "      <td>1</td>\n",
       "      <td>0</td>\n",
       "      <td>50</td>\n",
       "      <td>10.306338</td>\n",
       "      <td>7.323094e-14</td>\n",
       "    </tr>\n",
       "    <tr>\n",
       "      <th>169</th>\n",
       "      <td>1</td>\n",
       "      <td>169</td>\n",
       "      <td>50</td>\n",
       "      <td>10.234544</td>\n",
       "      <td>9.272079e-14</td>\n",
       "    </tr>\n",
       "    <tr>\n",
       "      <th>193</th>\n",
       "      <td>1</td>\n",
       "      <td>193</td>\n",
       "      <td>50</td>\n",
       "      <td>9.820871</td>\n",
       "      <td>3.655596e-13</td>\n",
       "    </tr>\n",
       "    <tr>\n",
       "      <th>186</th>\n",
       "      <td>1</td>\n",
       "      <td>186</td>\n",
       "      <td>50</td>\n",
       "      <td>9.746811</td>\n",
       "      <td>4.683320e-13</td>\n",
       "    </tr>\n",
       "    <tr>\n",
       "      <th>142</th>\n",
       "      <td>2</td>\n",
       "      <td>142</td>\n",
       "      <td>100</td>\n",
       "      <td>10.566872</td>\n",
       "      <td>3.126892e-14</td>\n",
       "    </tr>\n",
       "    <tr>\n",
       "      <th>171</th>\n",
       "      <td>2</td>\n",
       "      <td>171</td>\n",
       "      <td>100</td>\n",
       "      <td>10.033236</td>\n",
       "      <td>1.802984e-13</td>\n",
       "    </tr>\n",
       "    <tr>\n",
       "      <th>120</th>\n",
       "      <td>2</td>\n",
       "      <td>120</td>\n",
       "      <td>100</td>\n",
       "      <td>9.539402</td>\n",
       "      <td>9.404761e-13</td>\n",
       "    </tr>\n",
       "    <tr>\n",
       "      <th>148</th>\n",
       "      <td>2</td>\n",
       "      <td>148</td>\n",
       "      <td>100</td>\n",
       "      <td>9.376521</td>\n",
       "      <td>1.631627e-12</td>\n",
       "    </tr>\n",
       "    <tr>\n",
       "      <th>186</th>\n",
       "      <td>2</td>\n",
       "      <td>186</td>\n",
       "      <td>100</td>\n",
       "      <td>9.331435</td>\n",
       "      <td>1.901422e-12</td>\n",
       "    </tr>\n",
       "    <tr>\n",
       "      <th>142</th>\n",
       "      <td>3</td>\n",
       "      <td>142</td>\n",
       "      <td>125</td>\n",
       "      <td>8.558365</td>\n",
       "      <td>2.709647e-11</td>\n",
       "    </tr>\n",
       "    <tr>\n",
       "      <th>74</th>\n",
       "      <td>3</td>\n",
       "      <td>74</td>\n",
       "      <td>125</td>\n",
       "      <td>8.348570</td>\n",
       "      <td>5.627565e-11</td>\n",
       "    </tr>\n",
       "    <tr>\n",
       "      <th>164</th>\n",
       "      <td>3</td>\n",
       "      <td>164</td>\n",
       "      <td>125</td>\n",
       "      <td>8.007183</td>\n",
       "      <td>1.862849e-10</td>\n",
       "    </tr>\n",
       "    <tr>\n",
       "      <th>239</th>\n",
       "      <td>3</td>\n",
       "      <td>239</td>\n",
       "      <td>125</td>\n",
       "      <td>7.880332</td>\n",
       "      <td>2.912703e-10</td>\n",
       "    </tr>\n",
       "    <tr>\n",
       "      <th>125</th>\n",
       "      <td>3</td>\n",
       "      <td>125</td>\n",
       "      <td>125</td>\n",
       "      <td>7.541602</td>\n",
       "      <td>9.655792e-10</td>\n",
       "    </tr>\n",
       "    <tr>\n",
       "      <th>126</th>\n",
       "      <td>4</td>\n",
       "      <td>126</td>\n",
       "      <td>150</td>\n",
       "      <td>9.424231</td>\n",
       "      <td>1.388036e-12</td>\n",
       "    </tr>\n",
       "    <tr>\n",
       "      <th>125</th>\n",
       "      <td>4</td>\n",
       "      <td>125</td>\n",
       "      <td>150</td>\n",
       "      <td>9.036579</td>\n",
       "      <td>5.200538e-12</td>\n",
       "    </tr>\n",
       "    <tr>\n",
       "      <th>5</th>\n",
       "      <td>4</td>\n",
       "      <td>5</td>\n",
       "      <td>150</td>\n",
       "      <td>-7.050945</td>\n",
       "      <td>5.531761e-09</td>\n",
       "    </tr>\n",
       "    <tr>\n",
       "      <th>4</th>\n",
       "      <td>4</td>\n",
       "      <td>4</td>\n",
       "      <td>150</td>\n",
       "      <td>-6.345686</td>\n",
       "      <td>6.846306e-08</td>\n",
       "    </tr>\n",
       "    <tr>\n",
       "      <th>120</th>\n",
       "      <td>4</td>\n",
       "      <td>120</td>\n",
       "      <td>150</td>\n",
       "      <td>6.099008</td>\n",
       "      <td>1.646856e-07</td>\n",
       "    </tr>\n",
       "    <tr>\n",
       "      <th>125</th>\n",
       "      <td>5</td>\n",
       "      <td>125</td>\n",
       "      <td>200</td>\n",
       "      <td>14.024302</td>\n",
       "      <td>8.841630e-19</td>\n",
       "    </tr>\n",
       "    <tr>\n",
       "      <th>126</th>\n",
       "      <td>5</td>\n",
       "      <td>126</td>\n",
       "      <td>200</td>\n",
       "      <td>13.257187</td>\n",
       "      <td>7.919589e-18</td>\n",
       "    </tr>\n",
       "    <tr>\n",
       "      <th>142</th>\n",
       "      <td>5</td>\n",
       "      <td>142</td>\n",
       "      <td>200</td>\n",
       "      <td>6.966797</td>\n",
       "      <td>7.467721e-09</td>\n",
       "    </tr>\n",
       "    <tr>\n",
       "      <th>74</th>\n",
       "      <td>5</td>\n",
       "      <td>74</td>\n",
       "      <td>200</td>\n",
       "      <td>6.708694</td>\n",
       "      <td>1.875665e-08</td>\n",
       "    </tr>\n",
       "    <tr>\n",
       "      <th>1</th>\n",
       "      <td>5</td>\n",
       "      <td>1</td>\n",
       "      <td>200</td>\n",
       "      <td>6.622078</td>\n",
       "      <td>2.555019e-08</td>\n",
       "    </tr>\n",
       "  </tbody>\n",
       "</table>\n",
       "</div>"
      ],
      "text/plain": [
       "     index  elec  Freq       stat        pvalue\n",
       "185      0   185    25   9.204048  2.933380e-12\n",
       "120      0   120    25   9.171006  3.283459e-12\n",
       "87       0    87    25   9.078773  4.500629e-12\n",
       "94       0    94    25   8.730573  1.491620e-11\n",
       "74       0    74    25   8.657962  1.917902e-11\n",
       "140      1   140    50  10.741917  1.773654e-14\n",
       "0        1     0    50  10.306338  7.323094e-14\n",
       "169      1   169    50  10.234544  9.272079e-14\n",
       "193      1   193    50   9.820871  3.655596e-13\n",
       "186      1   186    50   9.746811  4.683320e-13\n",
       "142      2   142   100  10.566872  3.126892e-14\n",
       "171      2   171   100  10.033236  1.802984e-13\n",
       "120      2   120   100   9.539402  9.404761e-13\n",
       "148      2   148   100   9.376521  1.631627e-12\n",
       "186      2   186   100   9.331435  1.901422e-12\n",
       "142      3   142   125   8.558365  2.709647e-11\n",
       "74       3    74   125   8.348570  5.627565e-11\n",
       "164      3   164   125   8.007183  1.862849e-10\n",
       "239      3   239   125   7.880332  2.912703e-10\n",
       "125      3   125   125   7.541602  9.655792e-10\n",
       "126      4   126   150   9.424231  1.388036e-12\n",
       "125      4   125   150   9.036579  5.200538e-12\n",
       "5        4     5   150  -7.050945  5.531761e-09\n",
       "4        4     4   150  -6.345686  6.846306e-08\n",
       "120      4   120   150   6.099008  1.646856e-07\n",
       "125      5   125   200  14.024302  8.841630e-19\n",
       "126      5   126   200  13.257187  7.919589e-18\n",
       "142      5   142   200   6.966797  7.467721e-09\n",
       "74       5    74   200   6.708694  1.875665e-08\n",
       "1        5     1   200   6.622078  2.555019e-08"
      ]
     },
     "execution_count": 47,
     "metadata": {},
     "output_type": "execute_result"
    }
   ],
   "source": [
    "topstats = pd.DataFrame()\n",
    "lists = [topstats25, topstats50, topstats100, topstats125, topstats150, topstats200]\n",
    "for s in lists: \n",
    "    topstats = topstats.append(s)\n",
    "topstats\n"
   ]
  },
  {
   "cell_type": "code",
   "execution_count": 48,
   "metadata": {
    "collapsed": true
   },
   "outputs": [],
   "source": [
    "topstats.to_csv('topstats.csv')"
   ]
  },
  {
   "cell_type": "code",
   "execution_count": 40,
   "metadata": {
    "collapsed": true
   },
   "outputs": [],
   "source": [
    "## look at top 5 t-stats\n",
    "frame25 = frame[frame.Freq == 25.0]\n",
    "frame25 = frame25.reset_index()\n",
    "\n",
    "frame50 = frame[frame.Freq == 50.0]\n",
    "frame50 = frame50.reset_index()\n",
    "\n",
    "frame100 = frame[frame.Freq == 100.0]\n",
    "frame100 = frame100.reset_index()\n",
    "\n",
    "frame125 = frame[frame.Freq == 125.0]\n",
    "frame125 = frame125.reset_index()\n",
    "\n",
    "frame150 = frame[frame.Freq == 150.0]\n",
    "frame150 = frame150.reset_index()\n",
    "\n",
    "frame200 = frame[frame.Freq == 200.0]\n",
    "frame200 = frame200.reset_index()"
   ]
  },
  {
   "cell_type": "code",
   "execution_count": null,
   "metadata": {
    "collapsed": true
   },
   "outputs": [],
   "source": [
    "Amp25 = AmpData[AmpData.Freq == 25.0]\n",
    "Amp25 = Amp25.reset_index()\n",
    "\n",
    "Amp50 = AmpData[AmpData.Freq == 50.0]\n",
    "Amp50 = Amp50.reset_index()\n",
    "\n",
    "Amp100 = AmpData[AmpData.Freq == 100.0]\n",
    "Amp100 = Amp100.reset_index()\n",
    "\n",
    "Amp125 = AmpData[AmpData.Freq == 125.0]\n",
    "Amp125 = Amp125.reset_index()\n",
    "\n",
    "Amp150 = AmpData[AmpData.Freq == 150.0]\n",
    "Amp150 = Amp150.reset_index()\n",
    "\n",
    "Amp200 = AmpData[AmpData.Freq == 200.0]\n",
    "Amp200 = Amp200.reset_index()\n",
    "\n",
    "\n",
    "stats.ttest_rel(Amp25['Pre'], Amp25['Post'])\n",
    "        "
   ]
  },
  {
   "cell_type": "code",
   "execution_count": null,
   "metadata": {
    "collapsed": true
   },
   "outputs": [],
   "source": [
    "from scipy import stats\n",
    "\n",
    "dfs = [Amp25, Amp50, Amp100, Amp125, Amp150, Amp200]\n",
    "stat = []\n",
    "pvalue = []\n",
    "\n",
    "Stats = pd.DataFrame()\n",
    "\n",
    "for d in dfs:\n",
    "    s= stats.ttest_rel(d['Pre'], d['Post'])\n",
    "    stat.append(s[0])\n",
    "    pvalue.append(s[1])\n",
    "\n",
    "a = [25,50,100,125,150,200]\n",
    "    \n",
    "Stats['Freq'] = a\n",
    "Stats['stat'] = stat\n",
    "Stats['pvalue'] = pvalue"
   ]
  },
  {
   "cell_type": "code",
   "execution_count": null,
   "metadata": {
    "collapsed": true
   },
   "outputs": [],
   "source": [
    "Stats.to_csv('Ttest_stats.csv')"
   ]
  },
  {
   "cell_type": "code",
   "execution_count": null,
   "metadata": {
    "collapsed": true
   },
   "outputs": [],
   "source": [
    "myidx = np.where(behav[1] == 150)\n",
    "myhg = np.mean(hg_stim[myidx[0], :, 15], axis = 0)\n",
    "myspec = np.fft.rfft(myhg[(time_axis >= -200) & (time_axis <= 0)])\n",
    "plt.plot(np.linspace(0, 500, myspec.shape[0]), abs(myspec), c = 'r', alpha = .5)\n",
    "t = np.where(df['x'] == 150)\n",
    "print(t)\n",
    "\n",
    "myspec = np.fft.rfft(myhg[(time_axis >= 0) & (time_axis <= 200)])\n",
    "plt.plot(np.linspace(0, 500, myspec.shape[0]), abs(myspec), c = 'b', alpha = .5)\n",
    "a = abs(myspec)\n",
    "t = np.where(abs(myspec) == max(abs(myspec)))\n",
    "plt.plot(150,df['y'][30], marker = 'o')\n",
    "\n",
    "plt.title('electrode 16 150hz')\n",
    "\n",
    "plt.show()\n"
   ]
  },
  {
   "cell_type": "code",
   "execution_count": null,
   "metadata": {
    "collapsed": true
   },
   "outputs": [],
   "source": [
    "df = pd.DataFrame()\n",
    "df['x'] = np.linspace(0, 500, myspec.shape[0])\n",
    "len(df['x'])\n",
    "df ['y'] = myspec"
   ]
  },
  {
   "cell_type": "code",
   "execution_count": null,
   "metadata": {
    "collapsed": true
   },
   "outputs": [],
   "source": [
    "df"
   ]
  },
  {
   "cell_type": "code",
   "execution_count": null,
   "metadata": {
    "collapsed": true
   },
   "outputs": [],
   "source": []
  },
  {
   "cell_type": "markdown",
   "metadata": {
    "collapsed": true
   },
   "source": [
    "### Block 10 English Syllable"
   ]
  },
  {
   "cell_type": "code",
   "execution_count": null,
   "metadata": {
    "collapsed": true
   },
   "outputs": [],
   "source": [
    "# Where are the data?\n",
    "dir_data = ''.join([root_dir, '/', subj, '/data'])\n",
    "file_ECoG = ''.join([dir_data, '/', subj, '_dat_clicks_block_10.mat'])\n",
    "# file_ECoG = ''.join([dir_data, '/', subj, '_dat_FFR.mat'])\n",
    "\n",
    "# Load the .mat file\n",
    "f = h5py.File(file_ECoG, 'r')\n",
    "\n",
    "# Read ECoG data\n",
    "hg_stim = np.array(f['dat']['lfp']) # trial * tp * ch\n",
    "time_axis = (np.round(f['dat']['time_axis'].value.flatten(), 3) * 1000).astype(int) # Use int b/c float precision\n",
    "\n",
    "\n",
    "\n",
    "# Import behav\n",
    "behav = np.array(f['dat']['behav'])\n",
    "    \n",
    "f.close()\n",
    "\n"
   ]
  },
  {
   "cell_type": "code",
   "execution_count": 5,
   "metadata": {},
   "outputs": [
    {
     "name": "stderr",
     "output_type": "stream",
     "text": [
      "/Users/alia/anaconda3/lib/python3.6/site-packages/numpy/core/_methods.py:59: RuntimeWarning: Mean of empty slice.\n",
      "  warnings.warn(\"Mean of empty slice.\", RuntimeWarning)\n",
      "/Users/alia/anaconda3/lib/python3.6/site-packages/numpy/core/_methods.py:68: RuntimeWarning: invalid value encountered in true_divide\n",
      "  ret, rcount, out=ret, casting='unsafe', subok=False)\n",
      "/Users/alia/anaconda3/lib/python3.6/site-packages/numpy/lib/function_base.py:3834: RuntimeWarning: Invalid value encountered in percentile\n",
      "  RuntimeWarning)\n",
      "/Users/alia/anaconda3/lib/python3.6/site-packages/numpy/ma/core.py:4185: UserWarning: Warning: converting a masked element to nan.\n",
      "  warnings.warn(\"Warning: converting a masked element to nan.\")\n"
     ]
    },
    {
     "data": {
      "image/png": "[encoded data removed]",
      "text/plain": [
       "<matplotlib.figure.Figure at 0x118e99278>"
      ]
     },
     "metadata": {},
     "output_type": "display_data"
    }
   ],
   "source": [
    "eng = list(range(9))\n",
    "fig = plt.figure(figsize = (30,20)) \n",
    "x = 1\n",
    "for e in eng:\n",
    "    plt.subplot(5,5,x)\n",
    "    myidx = np.where(behav[1] == e)\n",
    "    myhg = np.mean(hg_stim[myidx[0], :, 15], axis = 0)\n",
    "    f,t, Sxx = signal.spectrogram(myhg, 1000, noverlap = 76, nperseg =90)\n",
    "    plt.pcolormesh(t,f,Sxx, vmax = np.percentile(Sxx.flatten(), 99.9))\n",
    "    plt.title(e)\n",
    "    x+=1\n",
    "plt.show()"
   ]
  },
  {
   "cell_type": "code",
   "execution_count": null,
   "metadata": {
    "collapsed": true
   },
   "outputs": [],
   "source": []
  },
  {
   "cell_type": "code",
   "execution_count": 6,
   "metadata": {},
   "outputs": [
    {
     "name": "stderr",
     "output_type": "stream",
     "text": [
      "/Users/alia/anaconda3/lib/python3.6/site-packages/numpy/core/_methods.py:59: RuntimeWarning: Mean of empty slice.\n",
      "  warnings.warn(\"Mean of empty slice.\", RuntimeWarning)\n",
      "/Users/alia/anaconda3/lib/python3.6/site-packages/numpy/core/_methods.py:68: RuntimeWarning: invalid value encountered in true_divide\n",
      "  ret, rcount, out=ret, casting='unsafe', subok=False)\n",
      "/Users/alia/anaconda3/lib/python3.6/site-packages/numpy/lib/function_base.py:3834: RuntimeWarning: Invalid value encountered in percentile\n",
      "  RuntimeWarning)\n",
      "/Users/alia/anaconda3/lib/python3.6/site-packages/numpy/ma/core.py:4185: UserWarning: Warning: converting a masked element to nan.\n",
      "  warnings.warn(\"Warning: converting a masked element to nan.\")\n"
     ]
    },
    {
     "data": {
      "image/png": "[encoded data removed]",
      "text/plain": [
       "<matplotlib.figure.Figure at 0x118aeb320>"
      ]
     },
     "metadata": {},
     "output_type": "display_data"
    }
   ],
   "source": [
    "myidx = np.where(behav[1] == e)\n",
    "myhg = np.mean(hg_stim[myidx[0], :, 15], axis = 0)\n",
    "f,t, Sxx = signal.spectrogram(myhg, 1000, noverlap = 76, nperseg =90)\n",
    "plt.pcolormesh(t,f,Sxx, vmax = np.percentile(Sxx.flatten(), 99.9))\n",
    "plt.show()\n"
   ]
  },
  {
   "cell_type": "code",
   "execution_count": null,
   "metadata": {
    "collapsed": true
   },
   "outputs": [],
   "source": []
  }
 ],
 "metadata": {
  "kernelspec": {
   "display_name": "Python 3",
   "language": "python",
   "name": "python3"
  },
  "language_info": {
   "codemirror_mode": {
    "name": "ipython",
    "version": 3
   },
   "file_extension": ".py",
   "mimetype": "text/x-python",
   "name": "python",
   "nbconvert_exporter": "python",
   "pygments_lexer": "ipython3",
   "version": "3.7.1"
  }
 },
 "nbformat": 4,
 "nbformat_minor": 2
}
