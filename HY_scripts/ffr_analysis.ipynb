{
 "cells": [
  {
   "cell_type": "markdown",
   "metadata": {},
   "source": [
    "# Specify parameters"
   ]
  },
  {
   "cell_type": "code",
   "execution_count": 3,
   "metadata": {
    "collapsed": true
   },
   "outputs": [],
   "source": [
    "subj = 'UI399'\n",
    "root_dir = '/Users/alia/Documents/mandarin'"
   ]
  },
  {
   "cell_type": "markdown",
   "metadata": {},
   "source": [
    "# Import necessary packages"
   ]
  },
  {
   "cell_type": "code",
   "execution_count": 4,
   "metadata": {
    "collapsed": true
   },
   "outputs": [],
   "source": [
    "import numpy as np\n",
    "import pandas as pd\n",
    "from sklearn.preprocessing import scale\n",
    "from os.path import join, exists\n",
    "from os import makedirs\n",
    "import h5py\n",
    "import matplotlib.pyplot as plt\n",
    "import seaborn as sns\n",
    "from scipy import fftpack\n",
    "import matplotlib.pyplot as plt\n",
    "from scipy import signal\n",
    "import matplotlib.pyplot as plt\n",
    "from sklearn.preprocessing import normalize\n",
    "from numpy import linalg as LA\n",
    "from sklearn.preprocessing import scale\n",
    "import random\n",
    "import librosa"
   ]
  },
  {
   "cell_type": "markdown",
   "metadata": {},
   "source": [
    "# Create fig/output directories"
   ]
  },
  {
   "cell_type": "code",
   "execution_count": 5,
   "metadata": {
    "collapsed": true
   },
   "outputs": [],
   "source": [
    "# Create directories\n",
    "fdir = root_dir + '/mandarin_ffr/fig/' + subj\n",
    "odir = root_dir + '/output/' + subj\n",
    "\n",
    "if not exists(fdir):\n",
    "    makedirs(fdir)\n",
    "if not exists(odir):\n",
    "    makedirs(odir)"
   ]
  },
  {
   "cell_type": "markdown",
   "metadata": {},
   "source": [
    "# Read data"
   ]
  },
  {
   "cell_type": "code",
   "execution_count": 30,
   "metadata": {},
   "outputs": [],
   "source": [
    "# Where are the data?\n",
    "dir_data = ''.join([root_dir, '/', subj, '/data'])\n",
    "file_ECoG = ''.join([dir_data, '/', subj, '_dat_FFR_noCAR_notch_hp_allTrials.mat'])\n",
    "# file_ECoG = ''.join([dir_data, '/', subj, '_dat_FFR.mat'])\n",
    "\n",
    "# Load the .mat file\n",
    "f = h5py.File(file_ECoG, 'r')\n",
    "\n",
    "# Read ECoG data\n",
    "hg_stim = np.array(f['dat']['hg_stim']) # trial * tp * ch\n",
    "badChans = f['dat']['badChans'].value.flatten() - 1 # Correct for 0-indexing\n",
    "time_axis = (np.round(f['dat']['time_axis'].value.flatten(), 3) * 1000).astype(int) # Use int b/c float precision\n",
    "\n",
    "# Import behav\n",
    "list_col = ['accuracy', 'block', 'choice', 'rt', 'speaker', 'syllable', 'tone', 'trial']\n",
    "behav = pd.DataFrame(columns = list_col)\n",
    "for icol in list_col:\n",
    "    if np.in1d(icol, ['speaker', 'syllable']):\n",
    "        for i in range(0, behav.shape[0]):\n",
    "            behav.loc[i, icol] = ''.join(map(chr, f[f['dat']['behav'][icol][0,i]]))\n",
    "    else:\n",
    "        behav[icol] = np.array(f['dat']['behav'][icol]).flatten()\n",
    "        \n",
    "for icol in ['accuracy', 'block', 'choice', 'tone', 'trial']:\n",
    "    behav[icol] = behav[icol].astype(int)\n",
    "    \n",
    "f.close()\n",
    "\n",
    "#extract data from 0-500 ms \n",
    "\n",
    "\n",
    "# Get rid of NaN trials, if any\n",
    "if np.in1d(subj, ['EC157','EC159', 'UI399']):\n",
    "    nanTrial = np.unique(np.where(np.isnan(hg_stim))[0])\n",
    "    if nanTrial.shape[0] > 0: # perform only if NaN trials exist at all\n",
    "        hg_stim = np.delete(hg_stim, nanTrial, 0)\n",
    "        behav = behav.drop(nanTrial, axis = 0).reset_index(drop = True)\n",
    "\n",
    "# What are the \"good\" channels?\n",
    "good_ch_vector = np.ones((hg_stim.shape[2])).astype(int)\n",
    "good_ch_vector[badChans] = 0\n",
    "goodChans = np.where(good_ch_vector)[0]\n",
    "    \n",
    "# Create index for behav (not literally the trial)\n",
    "behav['Trial'] = range(0, behav.shape[0])\n",
    "\n",
    "# Add the \"file\" column\n",
    "behav['file'] = behav['syllable'].astype(str) + behav['tone'].astype(str) + '-' + behav['speaker'].astype(str) + 'N'"
   ]
  },
  {
   "cell_type": "code",
   "execution_count": null,
   "metadata": {
    "collapsed": true
   },
   "outputs": [],
   "source": [
    "test1 = behav[behav['block'] < 17]\n",
    "# test2 = test1[test1['tone'] == 1]\n",
    "# test = test2[test2['speaker'] == 'b']\n",
    "len(test1['trial'])"
   ]
  },
  {
   "cell_type": "code",
   "execution_count": null,
   "metadata": {
    "collapsed": true
   },
   "outputs": [],
   "source": [
    "plt.plot(time_axis, np.mean(hg_stim[np.where(behav['file'] == 'ma3-bN')[0], :, 38], axis = 0))\n",
    "plt.show()"
   ]
  },
  {
   "cell_type": "code",
   "execution_count": null,
   "metadata": {
    "collapsed": true
   },
   "outputs": [],
   "source": [
    "## make data frames with male speakers tone 1 and tone 2 files \n",
    "male_trials_T1 = pd.DataFrame()\n",
    "male_trials_T3 = pd.DataFrame()\n",
    "male_trials = pd.DataFrame()\n",
    "male_trials['tone'] = behav['tone']\n",
    "male_trials['file'] = behav['file']\n",
    "male_trials['speaker'] = behav['speaker']\n",
    "male_trials['syllable'] = behav['syllable']\n",
    "tone1 = male_trials[male_trials.tone == 1]\n",
    "tone2 = male_trials[male_trials.tone == 2]\n",
    "tone3 = male_trials[male_trials.tone == 3]\n",
    "tone4 = male_trials[male_trials.tone == 4]\n",
    "\n",
    "\n",
    "male_trials_h = male_trials[male_trials.speaker == 'b']\n",
    "#female tone 2 'di'\n",
    "female_tones = male_trials[male_trials.speaker == 'h']\n",
    "# female_tones1 = female_tones[female_tones.syllable == 'di']\n",
    "female_tones2 = female_tones[female_tones.tone == 2]\n",
    "\n",
    "male_trials_T3 = male_trials_h\n",
    "male_trials_T2 = male_trials_T3[male_trials.tone == 2]\n",
    "male_trials_T4 = male_trials_T3[male_trials.tone == 4]\n",
    "male_trials_T1 = male_trials_T3[male_trials.tone == 1]\n",
    "male_trials_T3 = male_trials_T3[male_trials.tone == 3]\n",
    "\n",
    "\n",
    "# print(tone1)\n",
    "# print(female_tones1)\n",
    "\n",
    "\n",
    "\n"
   ]
  },
  {
   "cell_type": "markdown",
   "metadata": {},
   "source": [
    "## Export neural response to sound file"
   ]
  },
  {
   "cell_type": "code",
   "execution_count": 21,
   "metadata": {},
   "outputs": [
    {
     "data": {
      "text/plain": [
       "7.0531307424236926"
      ]
     },
     "execution_count": 21,
     "metadata": {},
     "output_type": "execute_result"
    }
   ],
   "source": [
    "max(myhg)"
   ]
  },
  {
   "cell_type": "code",
   "execution_count": 33,
   "metadata": {},
   "outputs": [],
   "source": [
    "behav1 = behav.sort_values(['file'])"
   ]
  },
  {
   "cell_type": "code",
   "execution_count": 42,
   "metadata": {},
   "outputs": [
    {
     "data": {
      "text/plain": [
       "array(['bu1-aN', 'bu1-bN', 'bu1-hN', 'bu1-iN', 'bu2-aN', 'bu2-bN',\n",
       "       'bu2-hN', 'bu2-iN', 'bu3-aN', 'bu3-bN', 'bu3-hN', 'bu3-iN',\n",
       "       'bu4-aN', 'bu4-bN', 'bu4-hN', 'bu4-iN', 'di1-aN', 'di1-bN',\n",
       "       'di1-hN', 'di1-iN', 'di2-aN', 'di2-bN', 'di2-hN', 'di2-iN',\n",
       "       'di3-aN', 'di3-bN', 'di3-hN', 'di3-iN', 'di4-aN', 'di4-bN',\n",
       "       'di4-hN', 'di4-iN', 'lu1-aN', 'lu1-bN', 'lu1-hN', 'lu1-iN',\n",
       "       'lu2-aN', 'lu2-bN', 'lu2-hN', 'lu2-iN', 'lu3-aN', 'lu3-bN',\n",
       "       'lu3-hN', 'lu3-iN', 'lu4-aN', 'lu4-bN', 'lu4-hN', 'lu4-iN',\n",
       "       'ma1-aN', 'ma1-bN', 'ma1-hN', 'ma1-iN', 'ma2-aN', 'ma2-bN',\n",
       "       'ma2-hN', 'ma2-iN', 'ma3-aN', 'ma3-bN', 'ma3-hN', 'ma3-iN',\n",
       "       'ma4-aN', 'ma4-bN', 'ma4-hN', 'ma4-iN', 'mi1-aN', 'mi1-bN',\n",
       "       'mi1-hN', 'mi1-iN', 'mi2-aN', 'mi2-bN', 'mi2-hN', 'mi2-iN',\n",
       "       'mi3-aN', 'mi3-bN', 'mi3-hN', 'mi3-iN', 'mi4-aN', 'mi4-bN',\n",
       "       'mi4-hN', 'mi4-iN'], dtype=object)"
      ]
     },
     "execution_count": 42,
     "metadata": {},
     "output_type": "execute_result"
    }
   ],
   "source": [
    "tones = np.unique(behav['file'])\n",
    "tones"
   ]
  },
  {
   "cell_type": "code",
   "execution_count": 78,
   "metadata": {},
   "outputs": [],
   "source": [
    "myhg = hg_stim[i, :, 15]"
   ]
  },
  {
   "cell_type": "code",
   "execution_count": 81,
   "metadata": {},
   "outputs": [
    {
     "data": {
      "image/png": "[encoded data removed]",
      "text/plain": [
       "<matplotlib.figure.Figure at 0x1c1727bb00>"
      ]
     },
     "metadata": {},
     "output_type": "display_data"
    }
   ],
   "source": [
    "plt.plot(myhg)\n",
    "plt.show()"
   ]
  },
  {
   "cell_type": "code",
   "execution_count": 77,
   "metadata": {
    "scrolled": true
   },
   "outputs": [],
   "source": [
    "for ts in tones:\n",
    "    test = np.where(behav['file'] == ts)[0]\n",
    "    for x in test:\n",
    "        myhg = hg_stim[x, :, 15]\n",
    "        f,t, Sxx = signal.spectrogram(myhg, 1000, noverlap = 76, nperseg =90)\n",
    "        librosa.output.write_wav('/Users/alia/Desktop/FFR/' + str(ts) + '_' + str(x) +'.wav', Sxx, 20000)\n",
    "        \n",
    "\n",
    "# test = np.where((behav1['block'] < 22))[0]\n",
    "# for i in range(len(test)): \n",
    "#     print(behav1['file'][i])\n",
    "# #     myhg = hg_stim[i, :, 15]\n",
    "# #     librosa.output.write_wav('/Users/alia/Desktop/FFR/' + str(i) +'_'+ str(behav['file'][i]) +'.wav', myhg, 1000)"
   ]
  },
  {
   "cell_type": "code",
   "execution_count": null,
   "metadata": {
    "collapsed": true
   },
   "outputs": [],
   "source": [
    "# ## we want to average across each stimuli - so male tone 1, male tone 3\n",
    "# myhg = []\n",
    "# for i in male_trials_T1['file']:\n",
    "#     myidx = np.where(behav['file'] == i)[0]\n",
    "#     myhg1 = hg_stim[myidx, :, 15]\n",
    "#     myhg_mean = np.mean(myhg1, axis =0)\n",
    "# #     print(myhg_mean)\n",
    "#     myhg= np.append(myhg,myhg_mean)\n",
    "#     time_axis = np.linspace(-500, 500, 500).astype(int)\n",
    "\n",
    "# myspec = np.fft.rfft(myhg[(time_axis >= 0) & (time_axis <= 1000)])\n",
    "# # print(np.mean(myhg,axis=0))"
   ]
  },
  {
   "cell_type": "code",
   "execution_count": null,
   "metadata": {
    "collapsed": true
   },
   "outputs": [],
   "source": [
    "# Get indices of trials where \"file\" is a member of male_trials_T1['file']\n",
    "# myidx = np.where(np.in1d(behav['file'], female_tones2['file'].unique()))[0]\n",
    "myidx = np.where(np.in1d(behav['file'], male_trials_T4['file'].unique()))[0]\n",
    "\n",
    "# Average across the trials\n",
    "myhg = np.mean(hg_stim[myidx, :, 119], axis = 0)\n",
    "print(myhg)\n",
    "# myhg = np.mean(hg_stim, axis=0)\n",
    "# Perform FFT\n",
    "# myspec = np.fft.rfft(myhg)\n",
    "\n",
    "# this is to extract the times between 0 and 100 \n",
    "myspec = np.fft.rfft(myhg[(time_axis >= -500) & (time_axis <= 1000)])\n",
    "# myspec = np.fft.rfft(myhg,norm = \"ortho\")\n",
    "\n"
   ]
  },
  {
   "cell_type": "code",
   "execution_count": null,
   "metadata": {
    "collapsed": true,
    "scrolled": true
   },
   "outputs": [],
   "source": [
    "# fig, axes = plt.subplots(6, 2)\n",
    "plt.figure(figsize = (20,5))\n",
    "plt.plot(np.linspace(0, 500, myspec.shape[0]), abs(myspec))\n",
    "# plt.subplot(2,3,2)\n"
   ]
  },
  {
   "cell_type": "markdown",
   "metadata": {},
   "source": []
  },
  {
   "cell_type": "code",
   "execution_count": null,
   "metadata": {
    "collapsed": true
   },
   "outputs": [],
   "source": [
    "# plt.figure(figsize = (20,5))\n",
    "fig, axes = plt.subplots(5,2, sharex=True, sharey=True)\n",
    "a = 1\n",
    "plt.figure(figsize = (20,31))\n",
    "for i in range(17):\n",
    "    myidx = np.where(np.in1d(behav['file'], behav['file'].unique()))[0]\n",
    "    myhg = np.mean(hg_stim[myidx, :, i], axis = 0)\n",
    "    myspec = np.fft.rfft(myhg[(time_axis >= 0) & (time_axis <= 250)])\n",
    "    a+=1\n",
    "    plt.subplot(5,2,1)\n",
    "    myspec = np.fft.rfft(myhg,norm = \"ortho\")\n",
    "    plt.plot(np.linspace(0, 500, myspec.shape[0]), abs(myspec))\n",
    "#     plt.figure(figsize = (10,5))\n",
    "    plt.title(i)\n",
    "\n",
    "# plt.tight_layout(pad=0.4, w_pad=0.5, h_pad=5)\n",
    "plt.show()"
   ]
  },
  {
   "cell_type": "code",
   "execution_count": null,
   "metadata": {
    "collapsed": true
   },
   "outputs": [],
   "source": [
    "print(hg_sitm.shape)"
   ]
  },
  {
   "cell_type": "code",
   "execution_count": null,
   "metadata": {
    "collapsed": true
   },
   "outputs": [],
   "source": [
    "## normalize fft \n",
    "myhg = np.mean(hg_stim[myidx, :, 15], axis = 0)\n",
    "myspec = np.fft.rfft(myhg[(time_axis >= -500) & (time_axis <= 1000)])\n",
    "# myspec = np.fft.rfft(myhg,norm = \"ortho\")\n",
    "plt.figure(figsize = (20,5))\n",
    "plt.plot(np.linspace(0, 500, myspec.shape[0]), abs(myspec))\n",
    "plt.show()\n",
    "\n"
   ]
  },
  {
   "cell_type": "code",
   "execution_count": null,
   "metadata": {
    "collapsed": true
   },
   "outputs": [],
   "source": [
    "## plot all HG elec spectrums\n",
    "import matplotlib.gridspec as gridspec\n",
    "fig, axes = plt.subplots(nrows=2, ncols=4, sharex=True)\n",
    "axes[0, 0].plot(np.linspace(-500, 1000, myspec13.shape[0]), abs(myspec13))\n",
    "axes[0, 1].plot(np.linspace(-500, 1000, myspec14.shape[0]), abs(myspec14))\n",
    "axes[0, 2].plot(np.linspace(-500, 1000, myspec15.shape[0]), abs(myspec15))\n",
    "axes[0, 3].plot(np.linspace(-500, 1000, myspec16.shape[0]), abs(myspec16))\n",
    "axes[1, 0].plot(np.linspace(-500, 1000, myspec17.shape[0]), abs(myspec17))\n",
    "axes[1, 1].plot(np.linspace(-500, 1000, myspec18.shape[0]), abs(myspec18))\n",
    "axes[1, 2].plot(np.linspace(-500, 1000, myspec19.shape[0]), abs(myspec19))\n",
    "axes[1, 3].plot(np.linspace(-500, 1000, myspec22.shape[0]), abs(myspec22))\n",
    "# fig = \n",
    "# plt.subplot_tool()\n",
    "# fig.tight_layout()\n",
    "plt.show()\n",
    "\n"
   ]
  },
  {
   "cell_type": "code",
   "execution_count": null,
   "metadata": {
    "collapsed": true
   },
   "outputs": [],
   "source": [
    "#gets the mean for the raw data set for a given channel\n",
    "\n",
    "mymean = np.mean(hg_stim[:, :, 15], axis = 0)\n",
    "\n",
    "#calculates the square for the mean of the data set to get all values to be positive\n",
    "RMS_mymean = np.square(mymean)\n",
    "\n",
    "#get prestim and after stim means\n",
    "prestim = mymean[np.where(time_axis < 0)[0]]\n",
    "poststim = mymean[np.where(time_axis >= 0)[0]]\n",
    "\n",
    "#get prestim and after stim\n",
    "RMS_prestim = np.sqrt(np.mean(np.square(prestim)))\n",
    "RMS_poststim = np.sqrt(np.mean(np.square(poststim)))\n",
    "\n",
    "print(RMS_poststim/RMS_prestim)\n"
   ]
  },
  {
   "cell_type": "code",
   "execution_count": null,
   "metadata": {
    "collapsed": true
   },
   "outputs": [],
   "source": [
    "#this creates a dataframe with all the RMS scores for each channel \n",
    "data = pd.DataFrame()\n",
    "data['chan'] = range(1,257)\n",
    "data['RMS'] = 0.0\n",
    "for i in range(1,256):\n",
    "    mymean = np.mean(hg_stim[:, :, i], axis = 0)\n",
    "    prestim = mymean[np.where(time_axis < 0)[0]]\n",
    "    poststim = mymean[np.where(time_axis >= 0)[0]]\n",
    "    RMS_prestim = np.sqrt(np.mean(np.square(prestim)))\n",
    "    RMS_poststim = np.sqrt(np.mean(np.square(poststim)))\n",
    "    RMS = RMS_poststim/RMS_prestim\n",
    "    data['RMS'][i] = RMS\n",
    "\n",
    "#takes the data frame and gets all the channels that have a larger than one RMS\n",
    "        \n",
    "    \n",
    "\n"
   ]
  },
  {
   "cell_type": "code",
   "execution_count": null,
   "metadata": {
    "collapsed": true
   },
   "outputs": [],
   "source": [
    "#takes the data from RMS and exports chanels with greater than 1 RMS values\n",
    "data = data[data.RMS > 1]\n",
    "data.to_csv('data.csv')"
   ]
  },
  {
   "cell_type": "code",
   "execution_count": null,
   "metadata": {
    "collapsed": true
   },
   "outputs": [],
   "source": [
    "for i in range(13,19):\n",
    "    mymean = np.mean(hg_stim[:, :, i], axis = 0)\n",
    "    preRMS = np.sqrt(np.mean(np.square(mymean[time_axis < 0])))\n",
    "    plt.title(data['chan'][i])\n",
    "#     plt.xlim(-100, 200)\n",
    "    time_axis = np.linspace(-500, 1000, 1501)\n",
    "    plt.plot(time_axis, mymean, 'b')\n",
    "    plt.show()"
   ]
  },
  {
   "cell_type": "code",
   "execution_count": null,
   "metadata": {
    "collapsed": true
   },
   "outputs": [],
   "source": [
    "#plot each raw file for the HG that has a RMS above 1\n",
    "for i in range(135,136):\n",
    "    mymean = np.mean(hg_stim[:, :, i], axis = 0)\n",
    "    preRMS = np.sqrt(np.mean(np.square(mymean[time_axis < 0])))\n",
    "    postRMS = np.sqrt(np.mean(np.square(mymean[time_axis >= 0])))\n",
    "    plt.plot(time_axis[time_axis >= 0], np.repeat(postRMS, len(time_axis[time_axis >= 0])), 'r')\n",
    "    plt.title(data['chan'][i])\n",
    "    plt.xlim(-100, 200)\n",
    "    time_axis = np.linspace(-500, 1000, 1501)\n",
    "    plt.plot(time_axis, mymean, 'b')\n",
    "    plt.show()\n",
    "#     prestim = mymean[np.where(time_axis < 0)[0]]\n",
    "#     poststim = mymean[np.where(time_axis >= 0)[0]]\n",
    "#     RMS_prestim = np.sqrt(np.mean(np.square(prestim)))\n",
    "#     RMS_poststim = np.sqrt(np.mean(np.square(poststim)))\n",
    "#     RMS = RMS_poststim/RMS_prestim"
   ]
  },
  {
   "cell_type": "code",
   "execution_count": null,
   "metadata": {
    "collapsed": true
   },
   "outputs": [],
   "source": [
    "#plot sqrt data\n",
    "for i in range(214,215):\n",
    "    mymean = np.mean(hg_stim[:, :, i], axis = 0)\n",
    "    RMS_mymean = np.square(mymean)\n",
    "    preRMS = np.sqrt(np.mean(np.square(RMS_mymean[time_axis < 0])))\n",
    "    postRMS = np.sqrt(np.mean(np.square(RMS_mymean[time_axis >= 0])))\n",
    "    plt.plot(time_axis, RMS_mymean, 'b')\n",
    "    plt.plot(time_axis[time_axis >= 0], np.repeat(postRMS, len(time_axis[time_axis >= 0])), 'r')\n",
    "    plt.plot(time_axis[time_axis < 0], np.repeat(preRMS, len(time_axis[time_axis < 0])), 'g')\n",
    "    plt.title(data['chan'][i])\n",
    "    plt.xlim(-500, 1000)\n",
    "    time_axis = np.linspace(-500, 1000, 1501)\n",
    "    plt.show()"
   ]
  },
  {
   "cell_type": "code",
   "execution_count": null,
   "metadata": {
    "collapsed": true
   },
   "outputs": [],
   "source": [
    "# necessary packages\n",
    "import numpy as np\n",
    "import matplotlib.pyplot as plt\n",
    "\n",
    "# This is the time axis\n",
    "time_axis = np.linspace(-500, 1000, 1501)\n",
    "\n",
    "# Fake data\n",
    "# mymean = np.random.normal(size = len(time_axis))\n",
    "\n",
    "# Calculate RMS\n",
    "preRMS = np.sqrt(np.mean(np.square(mymean[time_axis < 0])))\n",
    "postRMS = np.sqrt(np.mean(np.square(mymean[time_axis >= 0])))\n",
    "\n",
    "# Plot the signal\n",
    "plt.plot(time_axis, mymean, 'b')\n",
    "plt.title('Electrode 16 Mean Waveform')\n",
    "\n",
    "# Plot pre-RMS\n",
    "# plt.plot(time_axis[time_axis < 0], np.repeat(preRMS, len(time_axis[time_axis < 0])), 'b')\n",
    "\n",
    "# Plot post-RMS\n",
    "# plt.plot(time_axis[time_axis >= 0], np.repeat(postRMS, len(time_axis[time_axis >= 0])), 'r')\n",
    "\n",
    "# Display\n",
    "plt.show()"
   ]
  },
  {
   "cell_type": "code",
   "execution_count": null,
   "metadata": {
    "collapsed": true
   },
   "outputs": [],
   "source": [
    "plt.figure(figsize = (20,5))\n",
    "time_axis = np.linspace(-500, 1000, 1501)\n",
    "fs = 1000\n",
    "myidx = np.where(np.in1d(behav['file'], female_tones1['file'].unique()))[0]\n",
    "myhg = np.mean(hg_stim[myidx, :, 119], axis = 0)\n",
    "RMS_mymean = np.square(myhg)\n",
    "myhg = RMS_mymean[(time_axis >= -500) & (time_axis <= 1000)]\n",
    "# norm2 = normalize(myhg[:,np.newaxis], axis=0).ravel()\n",
    "# plt.plot(time_axis,(myhg))\n",
    "plt.plot(time_axis,(myhg))\n",
    "plt.show()\n",
    "    "
   ]
  },
  {
   "cell_type": "code",
   "execution_count": null,
   "metadata": {
    "collapsed": true
   },
   "outputs": [],
   "source": [
    "time = pd.DataFrame()\n",
    "time['time_axis'] = time_axis\n",
    "time['means'] = np.mean(hg_stim[np.where(behav['file'] == 'ma3-bN')[0], :, 38], axis = 0)\n",
    "\n",
    "RMS_prestim = np.sqrt(np.mean(np.square(prestim)))\n",
    "RMS_poststim = np.sqrt(np.mean(np.square(poststim)))\n",
    "\n",
    "before = 0\n",
    "countb = 0\n",
    "after = 0\n",
    "counta = 0\n",
    "for i in range(0,len(time)):\n",
    "    if time['time_axis'][i] < 0: \n",
    "        before += time['means'][i]\n",
    "        countb += 1\n",
    "    else:\n",
    "        after += time['means'][i]\n",
    "        counta += 1\n",
    "average_before = before/countb\n",
    "average_after = after/counta\n",
    "\n",
    "RMS_before = np.sqrt(np.mean(np.square(average_before)))\n",
    "RMS_after = np.sqrt(np.mean(np.square(average_after)))\n",
    "\n",
    "print(RMS_before)\n",
    "print(RMS_after)\n",
    "\n",
    "SNR = RMS_after/RMS_before\n",
    "print(SNR)\n",
    "\n",
    "\n",
    "\n"
   ]
  },
  {
   "cell_type": "code",
   "execution_count": null,
   "metadata": {
    "collapsed": true
   },
   "outputs": [],
   "source": [
    "mystim = 'ma3-bN'\n",
    "myidx = np.where(behav['file'] == mystim)[0]"
   ]
  },
  {
   "cell_type": "code",
   "execution_count": null,
   "metadata": {
    "collapsed": true
   },
   "outputs": [],
   "source": [
    "myhg = hg_stim[myidx, :, 38]\n",
    "time_axis = np.linspace(-500, 1000, 1501).astype(int)"
   ]
  },
  {
   "cell_type": "code",
   "execution_count": null,
   "metadata": {
    "collapsed": true
   },
   "outputs": [],
   "source": [
    "np.mean(myhg, axis = 0)"
   ]
  },
  {
   "cell_type": "code",
   "execution_count": null,
   "metadata": {
    "collapsed": true
   },
   "outputs": [],
   "source": [
    "plt.figure(figsize = (20,5))\n",
    "plt.plot(time_axis,np.mean(myhg, axis = 0))\n",
    "plt.show()dd"
   ]
  },
  {
   "cell_type": "code",
   "execution_count": null,
   "metadata": {
    "collapsed": true
   },
   "outputs": [],
   "source": []
  },
  {
   "cell_type": "code",
   "execution_count": null,
   "metadata": {
    "collapsed": true
   },
   "outputs": [],
   "source": [
    "myspec = np.fft.rfft(np.mean(myhg, axis = 0))\n"
   ]
  },
  {
   "cell_type": "code",
   "execution_count": null,
   "metadata": {
    "collapsed": true
   },
   "outputs": [],
   "source": [
    "plt.figure(figsize = (20,5))\n",
    "plt.plot(np.linspace(0, 500, myspec.shape[0]), np.abs(myspec))\n",
    "plt.show()"
   ]
  },
  {
   "cell_type": "code",
   "execution_count": null,
   "metadata": {
    "collapsed": true
   },
   "outputs": [],
   "source": [
    "# https://docs.scipy.org/doc/scipy/reference/generated/scipy.signal.spectrogram.html"
   ]
  },
  {
   "cell_type": "code",
   "execution_count": null,
   "metadata": {
    "collapsed": true
   },
   "outputs": [],
   "source": [
    "import numpy as np\n",
    "import soundfile as sf\n",
    "import matplotlib.pyplot as plt\n",
    "import seaborn as sns\n",
    "import librosa\n",
    "import librosa.display"
   ]
  },
  {
   "cell_type": "code",
   "execution_count": null,
   "metadata": {
    "collapsed": true
   },
   "outputs": [],
   "source": [
    "#list info\n",
    "list_sp = ['a', 'i']\n",
    "list_syll = ['bu', 'di', 'bu', 'ma', 'mi']\n",
    "list_tone = ['1', '2', '3', '4']\n"
   ]
  },
  {
   "cell_type": "code",
   "execution_count": null,
   "metadata": {
    "collapsed": true
   },
   "outputs": [],
   "source": [
    "plt.figure(figsize = (16,16))\n",
    "iter_plot = 1\n",
    "\n",
    "for i in range(160,168):\n",
    "    myidx = np.where(np.in1d(behav['file'], behav['file'].unique()))[0]\n",
    "    myhg = np.mean(hg_stim[myidx, :, i], axis = 0)\n",
    "    myhg = myhg[(time_axis >= 0) & (time_axis <= 1000)]\n",
    "    sound = myhg\n",
    "    sound = np.asarray(sound)\n",
    "    samprate = 1000\n",
    "    myfmax = 500\n",
    "    \n",
    "#     appendlen = sound.shape[0]\n",
    "#     sound = np.append(np.zeros(appendlen), sound)\n",
    "#     sound = np.append(sound , np.zeros(appendlen))\n",
    "\n",
    "    # Generate the spectrogram\n",
    "    D = np.abs(librosa.stft(sound)) ** 2\n",
    "    S = librosa.feature.melspectrogram(y = sound, sr = samprate, fmax = myfmax, fmin = 80, hop_length = 28)\n",
    "    dbS = librosa.power_to_db(S, ref=np.max)\n",
    "    print(dbS.shape)\n",
    "\n",
    "    plt.subplot(2, 5, iter_plot)\n",
    "    iter_plot = iter_plot + 1\n",
    "                # \n",
    "\n",
    "    librosa.display.specshow(dbS, y_axis = 'mel', fmax = myfmax)\n",
    "#     plt.imshow(dbS[20:, :], origin = 'lower', cmap = 'PuOr_r', aspect = 'auto')    \n",
    "    plt.colorbar(format='%+2.0f dB')\n",
    "\n",
    "plt.show()\n"
   ]
  },
  {
   "cell_type": "code",
   "execution_count": null,
   "metadata": {
    "collapsed": true
   },
   "outputs": [],
   "source": [
    "from sklearn.preprocessing import scale\n",
    "\n",
    "myhg = []\n",
    "for i in range(16,25):\n",
    "    myidx = np.where(np.in1d(behav['file'], behav['file'].unique()))[0]\n",
    "    myhg1 = np.mean(hg_stim[myidx, :, i], axis = 0)\n",
    "    myhg = np.append(myhg,myhg1)\n",
    "print(myhg)\n",
    "\n",
    "\n",
    "#     #     myspec = np.fft.rfft(myhg[(time_axis >= -500) & (time_axis <= 1000)])\n",
    "sound = myhg\n",
    "sound = np.asarray(sound)\n",
    "samprate = 1000\n",
    "myfmax = 500\n",
    "    \n",
    "#     #     appendlen = sound.shape[0]\n",
    "#     #     sound = np.append(np.zeros(appendlen), sound)\n",
    "#     #     sound = np.append(sound , np.zeros(appendlen))\n",
    "\n",
    "#         # Generate the spectrogram\n",
    "D = np.abs(librosa.stft(sound)) ** 2\n",
    "S = librosa.feature.melspectrogram(y = sound, sr = samprate, fmax = myfmax, hop_length = 10)\n",
    "dbS = librosa.power_to_db(S, ref=np.max)\n",
    "dbS = scale(dbS, axis = 0)\n",
    "\n",
    "print(dbS.shape)\n",
    "# plt.subplot(2, 5, iter_plot)\n",
    "iter_plot = iter_plot + 1\n",
    "                # \n",
    "\n",
    "librosa.display.specshow(dbS, y_axis = 'mel', fmax = myfmax)\n",
    "#     plt.imshow(dbS[20:, :], origin = 'lower', cmap = 'PuOr_r', aspect = 'auto')    \n",
    "plt.colorbar(format='%+2.0f dB')\n",
    "\n",
    "plt.show()\n",
    "\n"
   ]
  },
  {
   "cell_type": "code",
   "execution_count": null,
   "metadata": {
    "collapsed": true
   },
   "outputs": [],
   "source": [
    "##try a different spec\n",
    "from scipy import signal\n",
    "import matplotlib.pyplot as plt\n",
    "from sklearn.preprocessing import normalize\n",
    "from numpy import linalg as LA\n",
    "from sklearn.preprocessing import scale\n",
    "import random\n",
    "\n",
    "# plt.figure(figsize = (100,30))\n",
    "iter_plot = 1\n",
    "plt.figure(figsize = (50,50))\n",
    "\n",
    "# plt.figure(figsize = (100,30))\n",
    "for i in range(15,16):\n",
    "#     print(i+1)\n",
    "    fs = 1000\n",
    "    # myidx = np.where(np.in1d(behav['file'], female_tones2['file'].unique()))[0]\n",
    "    for b in range(1,5):\n",
    "        for pb in range(17,21):\n",
    "            myidx = np.where((behav['block'] == pb)&(behav['tone'] == b) & (behav['speaker'] == 'b'))[0]\n",
    "            myhg = np.mean(hg_stim[myidx, :, i], axis = 0)\n",
    "            myhg = myhg[(time_axis >= -500) & (time_axis <= 1000)]\n",
    "\n",
    "            font = {'family' : 'normal',\n",
    "                'weight' : 'bold',\n",
    "                'size'   : 5}\n",
    "            plt.rc('font', **font)\n",
    "\n",
    "            plt.subplot(4, 4, iter_plot)\n",
    "            iter_plot = iter_plot + 1\n",
    "    #         myidx2 = myidx[0:60]\n",
    "\n",
    "            f,t, Sxx = signal.spectrogram(myhg, fs, noverlap = 76, nperseg =90)\n",
    "            newspec = Sxx\n",
    "            plt.pcolormesh(t - 0.5,f,newspec, vmax = np.percentile(Sxx.flatten(), 99.9))\n",
    "    #         plt.plot([0, 0], [0, 300], 'w')\n",
    "    #         plt.plot([0.050, 0.050], [0, 300], 'w')\n",
    "            plt.ylabel('Frequency [Hz]')\n",
    "            plt.xlabel('Time [sec]')\n",
    "            plt.title('Tone' + str(b))\n",
    "        plt.suptitle('Elec'+ str(i+1) + ' ' + 'Passive', fontsize = 30.0)\n",
    "    #         plt.show()\n",
    "    plt.show()\n",
    "\n"
   ]
  },
  {
   "cell_type": "code",
   "execution_count": null,
   "metadata": {
    "collapsed": true
   },
   "outputs": [],
   "source": [
    "###LOOK AT MINIMUM TRIALS FOR EACH ELEC\n",
    "from scipy import signal\n",
    "import matplotlib.pyplot as plt\n",
    "from sklearn.preprocessing import normalize\n",
    "from numpy import linalg as LA\n",
    "from sklearn.preprocessing import scale\n",
    "import random\n",
    "\n",
    "iter_plot = 1\n",
    "# plt.figure(figsize = (50,10))\n",
    "plt.figure(figsize = (100,30))\n",
    "for i in range(114,115):\n",
    "#     print(i+1)\n",
    "    fs = 1000\n",
    "    myidx = np.where((behav['tone'] == 4) & (behav['speaker'] == 'b'))[0]\n",
    "    np.random.shuffle(myidx)\n",
    "    for b in range(1,5):\n",
    "        myidx = np.where((behav['block'] > 17)&(behav['tone'] == b) & (behav['speaker'] == 'b'))[0]\n",
    "        np.random.shuffle(myidx)\n",
    "        print(len(myidx))\n",
    "#         for a in range(1,len(myidx)):\n",
    "        if b == 1:\n",
    "            myidx = myidx[0:60]\n",
    "        if b == 2:\n",
    "            myidx = myidx[0:45]\n",
    "        if b == 3:\n",
    "            myidx = myidx[0:60]\n",
    "        if b == 4:\n",
    "            myidx = myidx[0:45]\n",
    "    for a in range(1,len(myidx)):\n",
    "        myidx = np.where((behav['tone'] == 4) & (behav['speaker'] == 'b'))[0]\n",
    "        np.random.shuffle(myidx)\n",
    "        myidx = myidx[1:a]\n",
    "        myhg = np.mean(hg_stim[myidx, :, i], axis = 0)\n",
    "        myhg = myhg[(time_axis >= -500) & (time_axis <= 1000)]\n",
    "\n",
    "#         plt.subplot(1, 4, iter_plot)\n",
    "#         iter_plot = iter_plot + 1\n",
    "\n",
    "        f,t, Sxx = signal.spectrogram(myhg, fs, noverlap = 76, nperseg =90)\n",
    "        newspec = Sxx\n",
    "        plt.pcolormesh(t - 0.5,f,newspec, vmax = np.percentile(Sxx.flatten(), 99.9))\n",
    "        plt.ylabel('Frequency [Hz]')\n",
    "        plt.xlabel('Time [sec]')\n",
    "        plt.title(a)\n",
    "        plt.show()\n",
    "\n",
    "plt.show()\n"
   ]
  },
  {
   "cell_type": "code",
   "execution_count": null,
   "metadata": {
    "collapsed": true
   },
   "outputs": [],
   "source": [
    "###LOOK AT SPECIFIC TRIALS NEEDED FOR EACH ELEC\n",
    "from scipy import signal\n",
    "import matplotlib.pyplot as plt\n",
    "from sklearn.preprocessing import normalize\n",
    "from numpy import linalg as LA\n",
    "from sklearn.preprocessing import scale\n",
    "import random\n",
    "import librosa\n",
    "\n",
    "iter_plot = 1\n",
    "num = [8, 16, 32, 64, 128]\n",
    "# plt.figure(figsize = (50,10))\n",
    "fig = plt.figure(figsize = (200,100))\n",
    "# plt.subplots(4, 5, sharey =True)\n",
    "fig.subplots_adjust(hspace=0.4, wspace=0.4)\n",
    "# for i in range(119,120):\n",
    "#     #     print(i+1)\n",
    "fs = 1000\n",
    "for tone in range(1,5):\n",
    "    for a in num:\n",
    "        myidx = np.where((behav['tone'] == tone) & (behav['speaker'] == 'h'))[0]\n",
    "        np.random.shuffle(myidx)        #         for a in range(1,len(myidx)):\n",
    "                \n",
    "        myidx = myidx[0:a]\n",
    "        myhg = np.mean(hg_stim[myidx, :, 119], axis = 0)\n",
    "        myhg = myhg[(time_axis >= -500) & (time_axis <= 1000)]\n",
    "                \n",
    "        plt.subplot(4, 5, iter_plot)\n",
    "        iter_plot = iter_plot + 1\n",
    "#         print(tone)\n",
    "        f,t, Sxx = signal.spectrogram(myhg, fs, noverlap = 76, nperseg =90)\n",
    "        newspec = Sxx\n",
    "        plt.pcolormesh(t - 0.5,f,newspec, vmax = np.percentile(Sxx.flatten(), 99.9))\n",
    "    #             plt.ylabel('Frequency [Hz]', fontsize = 100.0)\n",
    "        plt.xlabel('Time [sec]', fontsize = 100.0)\n",
    "        plt.title(str(a) + ' trials/' + ' tone' + str(tone))\n",
    "\n",
    "            \n",
    "            \n",
    "        font = {'family' : 'normal',\n",
    "        'weight' : 'bold',\n",
    "        'size'   : 80}\n",
    "#         label = [2,7,12,17]\n",
    "#     if iter_plot in label:\n",
    "#         plt.ylabel('T' + str(tone) + '', rotation = 'vertical', fontsize = 200.0)\n",
    "#     if iter_plot in range(2,7):\n",
    "#         plt.title(str(a) + ' trials', fontsize = 200.0)\n",
    "                \n",
    "      \n",
    "\n",
    "    plt.rc('font', **font)\n",
    "\n",
    "          \n",
    "\n",
    "plt.suptitle('Elec120' + ' ' + 'Female', fontsize = 400.0)\n",
    "#     plt.tight_layout()\n",
    "plt.show()"
   ]
  },
  {
   "cell_type": "code",
   "execution_count": null,
   "metadata": {
    "collapsed": true
   },
   "outputs": [],
   "source": [
    "##Normalize within freq band \n",
    "import matplotlib as pylot\n",
    "# x = matplotlib.pyplot.psd(myhg,scale_by_freq=True)\n",
    "myidx = np.where((behav['tone'] == 2) & (behav['speaker'] == 'b'))[0]\n",
    "myhg = np.mean(hg_stim[myidx, :, 100], axis = 0)\n",
    "myhg = myhg[(time_axis >= -500) & (time_axis <= 1000)]\n",
    "Pxx, freqs, bins, im = plt.specgram(myhg, Fs=1000, scale_by_freq=None,noverlap = 250, scale = 'linear', pad_to = 76, mode = 'psd')\n",
    "plt.show()\n",
    "Pxx, freqs, bins, im = plt.specgram(myhg, Fs=1000, scale_by_freq=True,noverlap = 250, scale = 'linear', pad_to = 76, mode = 'psd')\n",
    "plt.show()"
   ]
  },
  {
   "cell_type": "code",
   "execution_count": null,
   "metadata": {
    "collapsed": true
   },
   "outputs": [],
   "source": [
    "for i in range(0, Sxx.shape[0]):\n",
    "    newspec = (Sxx[i, :] - np.mean(Sxx[i, :]) ) / np.std(Sxx[i,:])\n"
   ]
  },
  {
   "cell_type": "code",
   "execution_count": null,
   "metadata": {
    "collapsed": true
   },
   "outputs": [],
   "source": []
  },
  {
   "cell_type": "code",
   "execution_count": null,
   "metadata": {
    "collapsed": true
   },
   "outputs": [],
   "source": [
    "# myidx = np.where((behav['tone'] == 1) & (behav['speaker'] == 'b'))[0]\n",
    "myidx = np.where((behav['tone'] == 2) & (behav['speaker'] == 'b'))[0]\n",
    "print(myidx)\n",
    "myhg = np.mean(hg_stim[myidx, :, 15], axis = 0)\n",
    "myhg = myhg[(time_axis >= -500) & (time_axis <= 1000)]\n",
    "fs = 1000\n",
    "# font = {'family' : 'normal',\n",
    "#         'weight' : 'bold',\n",
    "#         'size'   : 10}\n",
    "# plt.rc('font', **font)\n",
    "# #         print(tone)\n",
    "f,t, Sxx = signal.spectrogram(myhg, fs, noverlap = 76, nperseg =90)\n",
    "plt.pcolormesh(t,f,Sxx, vmax = np.percentile(Sxx.flatten(), 99.9))\n",
    "plt.title('Passive Block 2')\n",
    "# plt.pcolormesh(t - 0.5,f,Sxx, vmax = np.percentile(Sxx.flatten(), 99.9))\n",
    "# plt.show()\n"
   ]
  },
  {
   "cell_type": "code",
   "execution_count": null,
   "metadata": {
    "collapsed": true
   },
   "outputs": [],
   "source": [
    "def plots_active_passive(x,y):\n",
    "    fig = plt.figure(figsize = (20,5))\n",
    "    for i in range(1,x+1):\n",
    "        for j in range(y):\n",
    "            if j in range(14,16):\n",
    "                plt.subplot(1, x, i)\n",
    "                myidx = np.where((behav['tone'] == 1) & (behav['speaker'] == 'b') & (behav['block'] == j))[0]\n",
    "                myidx_rand = np.random.shuffle(myidx)\n",
    "                myidx_rand = myidx_rand[0:5]\n",
    "                myhg = np.mean(hg_stim[myidx_rand, :, 15], axis = 0)\n",
    "                myhg = myhg[(time_axis >= -500) & (time_axis <= 1000)]\n",
    "                fs = 1000\n",
    "                f,t, Sxx = signal.spectrogram(myhg, fs, noverlap = 76, nperseg =90)\n",
    "                plt.pcolormesh(t,f,Sxx, vmax = np.percentile(Sxx.flatten(), 99.9))\n",
    "                plt.title('Active Block'+ str(i))\n",
    "                y = y+1\n",
    "plt.show()"
   ]
  },
  {
   "cell_type": "code",
   "execution_count": null,
   "metadata": {
    "collapsed": true
   },
   "outputs": [],
   "source": [
    "myidx = np.where((behav['tone'] == 1) & (behav['speaker'] == 'b') & (behav['block'] == 17))[0]"
   ]
  },
  {
   "cell_type": "code",
   "execution_count": null,
   "metadata": {
    "collapsed": true
   },
   "outputs": [],
   "source": [
    "j = 17\n",
    "fig = plt.figure(figsize = (5,20))\n",
    "for i in range(1,5):\n",
    "        print(j)\n",
    "        plt.subplot(5, 1, i)\n",
    "        myidx = np.where((behav['tone'] == 2) & (behav['block'] == j))[0]\n",
    "        np.random.shuffle(myidx)\n",
    "        myidx_rand = myidx[0:15]\n",
    "        myhg = np.mean(hg_stim[myidx_rand, :, 15], axis = 0)\n",
    "        myhg = myhg[(time_axis >= -500) & (time_axis <= 1000)]\n",
    "        fs = 1000\n",
    "        f,t, Sxx = signal.spectrogram(myhg, fs, noverlap = 76, nperseg =90)\n",
    "        plt.pcolormesh(t,f,Sxx, vmax = np.percentile(Sxx.flatten(), 99.9))\n",
    "        plt.title('Tone 2 Passive Block'+ str(j) + (' [15 tirals Total]'))\n",
    "        j+=1\n",
    "plt.tight_layout()\n",
    "plt.show()\n",
    "\n",
    "\n",
    "a = 1\n",
    "fig = plt.figure(figsize = (20,20))\n",
    "for x in range(1,17):\n",
    "        print(a)\n",
    "        plt.subplot(4, 4, x)\n",
    "        myidx = np.where((behav['tone'] == 2) & (behav['block'] == a))[0]\n",
    "        np.random.shuffle(myidx)\n",
    "        myidx_rand = myidx[0:15]\n",
    "        myhg = np.mean(hg_stim[myidx_rand, :, 15], axis = 0)\n",
    "        myhg = myhg[(time_axis >= -500) & (time_axis <= 1000)]\n",
    "        fs = 1000\n",
    "        f,t, Sxx = signal.spectrogram(myhg, fs, noverlap = 76, nperseg =90)\n",
    "        plt.pcolormesh(t,f,Sxx, vmax = np.percentile(Sxx.flatten(), 99.9))\n",
    "        plt.title('Tone 2 Active Block'+ str(a) + (' [15 tirals Total]'))\n",
    "        a+=1\n",
    "plt.tight_layout()\n",
    "plt.show()"
   ]
  },
  {
   "cell_type": "code",
   "execution_count": null,
   "metadata": {
    "collapsed": true
   },
   "outputs": [],
   "source": [
    "def ind(blocks, T, A):\n",
    "    myidx = []\n",
    "    for j in blocks:\n",
    "        myidxR = np.where((behav['accuracy'] == A)&(behav['block'] == j)&(behav['tone'] == T)&(np.in1d(behav['speaker'], ['b'])))[0]\n",
    "        myidx.append(list(myidxR))\n",
    "    flat_list1 = [item for sublist in myidx for item in sublist]\n",
    "    return (flat_list1)"
   ]
  },
  {
   "cell_type": "code",
   "execution_count": null,
   "metadata": {
    "collapsed": true
   },
   "outputs": [],
   "source": [
    "T = 1\n",
    "i=1\n",
    "fig = plt.figure(figsize = (15,70))\n",
    "for j in range(1,17):\n",
    "    plt.subplot(16, 2, i)\n",
    "    myidx = np.where((behav['block'] == j)&(behav['tone'] == 1))[0]#&(np.in1d(behav['speaker'], ['a', 'b'])))[0]\n",
    "    print(len(myidx))\n",
    "    myhg = np.mean(hg_stim[myidx, :, 15], axis = 0)\n",
    "    myhg = myhg[(time_axis >= -500) & (time_axis <= 1000)]\n",
    "    f,t, Sxx = signal.spectrogram(myhg, fs, noverlap = 76, nperseg =90)\n",
    "    plt.pcolormesh(t,f,Sxx, vmax = np.percentile(Sxx.flatten(), 99.9))\n",
    "    plt.title('Tone 1, Block ' + str(j))\n",
    "    i+=1\n",
    "plt.tight_layout()\n",
    "plt.show()"
   ]
  },
  {
   "cell_type": "code",
   "execution_count": null,
   "metadata": {
    "collapsed": true
   },
   "outputs": [],
   "source": [
    "i = 1\n",
    "fs = 1000\n",
    "blocks = [10,11,12,13,14,15,16]\n",
    "fig = plt.figure(figsize = (15,20))\n",
    "\n",
    "\n",
    "C1 = ind(blocks, 1, 1)\n",
    "I1 = ind(blocks, 1, 0)\n",
    "\n",
    "C2 = ind(blocks, 2, 1)\n",
    "I2 = ind(blocks, 2, 0)\n",
    "\n",
    "C3 = ind(blocks, 3, 1)\n",
    "I3 = ind(blocks, 3, 0)\n",
    "\n",
    "C4 = ind(blocks, 4, 1)\n",
    "I4 = ind(blocks, 4, 0)\n",
    "\n",
    "a = 119\n",
    "\n",
    "plt.subplot(4, 2, 1)\n",
    "myhg = np.mean(hg_stim[C1, :, a], axis = 0)\n",
    "myhg = myhg[(time_axis >= -500) & (time_axis <= 1000)]\n",
    "f,t, Sxx = signal.spectrogram(myhg, fs, noverlap = 76, nperseg =90)\n",
    "plt.pcolormesh(t,f,Sxx, vmax = np.percentile(Sxx.flatten(), 99.9))\n",
    "plt.title('Correct Tone1')\n",
    "\n",
    "\n",
    "plt.subplot(4, 2, 2)\n",
    "myhg = np.mean(hg_stim[I1, :, a], axis = 0)\n",
    "myhg = myhg[(time_axis >= -500) & (time_axis <= 1000)]\n",
    "f,t, Sxx = signal.spectrogram(myhg, fs, noverlap = 76, nperseg =90)\n",
    "plt.pcolormesh(t,f,Sxx, vmax = np.percentile(Sxx.flatten(), 99.9))\n",
    "plt.title('Incorrect Tone1')\n",
    "\n",
    "plt.subplot(4, 2, 3)\n",
    "myhg = np.mean(hg_stim[C2, :, a], axis = 0)\n",
    "myhg = myhg[(time_axis >= -500) & (time_axis <= 1000)]\n",
    "f,t, Sxx = signal.spectrogram(myhg, fs, noverlap = 76, nperseg =90)\n",
    "plt.pcolormesh(t,f,Sxx, vmax = np.percentile(Sxx.flatten(), 99.9))\n",
    "plt.title('correct Tone2')\n",
    "\n",
    "plt.subplot(4, 2, 4)\n",
    "myhg = np.mean(hg_stim[I2, :, a], axis = 0)\n",
    "myhg = myhg[(time_axis >= -500) & (time_axis <= 1000)]\n",
    "f,t, Sxx = signal.spectrogram(myhg, fs, noverlap = 76, nperseg =90)\n",
    "plt.pcolormesh(t,f,Sxx, vmax = np.percentile(Sxx.flatten(), 99.9))\n",
    "plt.title('incorrect Tone2')\n",
    "\n",
    "\n",
    "plt.subplot(4, 2, 5)\n",
    "myhg = np.mean(hg_stim[C3, :, a], axis = 0)\n",
    "myhg = myhg[(time_axis >= -500) & (time_axis <= 1000)]\n",
    "f,t, Sxx = signal.spectrogram(myhg, fs, noverlap = 76, nperseg =90)\n",
    "plt.pcolormesh(t,f,Sxx, vmax = np.percentile(Sxx.flatten(), 99.9))\n",
    "plt.title('correct Tone3')\n",
    "\n",
    "plt.subplot(4, 2, 6)\n",
    "myhg = np.mean(hg_stim[I3, :, a], axis = 0)\n",
    "myhg = myhg[(time_axis >= -500) & (time_axis <= 1000)]\n",
    "f,t, Sxx = signal.spectrogram(myhg, fs, noverlap = 76, nperseg =90)\n",
    "plt.pcolormesh(t,f,Sxx, vmax = np.percentile(Sxx.flatten(), 99.9))\n",
    "plt.title('incorrect Tone3')\n",
    "\n",
    "\n",
    "plt.subplot(4, 2, 7)\n",
    "myhg = np.mean(hg_stim[C4, :, a], axis = 0)\n",
    "myhg = myhg[(time_axis >= -500) & (time_axis <= 1000)]\n",
    "f,t, Sxx = signal.spectrogram(myhg, fs, noverlap = 76, nperseg =90)\n",
    "plt.pcolormesh(t,f,Sxx, vmax = np.percentile(Sxx.flatten(), 99.9))\n",
    "plt.title('correct Tone4')\n",
    "\n",
    "\n",
    "plt.subplot(4, 2, 8)\n",
    "myhg = np.mean(hg_stim[I4, :, a], axis = 0)\n",
    "myhg = myhg[(time_axis >= -500) & (time_axis <= 1000)]\n",
    "f,t, Sxx = signal.spectrogram(myhg, fs, noverlap = 76, nperseg =90)\n",
    "plt.pcolormesh(t,f,Sxx, vmax = np.percentile(Sxx.flatten(), 99.9))\n",
    "plt.title('incorrect Tone4')\n",
    "\n",
    "\n",
    "plt.tight_layout()\n",
    "plt.show()\n",
    "\n",
    "print('length of Correct T1 = ' + str(len(C1)))\n",
    "print('length of Correct T2 = ' + str(len(C2)))\n",
    "print('length of Correct T3 = ' + str(len(C3)))\n",
    "print('length of Correct T4 = ' + str(len(C4)))\n",
    "\n",
    "print('length of Incorrect T1 = ' + str(len(I1)))\n",
    "print('length of Inorrect T2 = ' + str(len(I2)))\n",
    "print('length of Inorrect T3 = ' + str(len(I3)))\n",
    "print('length of Inorrect T4 = ' + str(len(I4)))"
   ]
  },
  {
   "cell_type": "code",
   "execution_count": null,
   "metadata": {
    "collapsed": true
   },
   "outputs": [],
   "source": [
    "def indP(blocks, T):\n",
    "    myidx = []\n",
    "    for j in blocks:\n",
    "        myidxR = np.where((behav['block'] == j)&(behav['tone'] == T)&(np.in1d(behav['speaker'], ['a', 'b'])))[0]\n",
    "        myidx.append(list(myidxR))\n",
    "    flat_list1 = [item for sublist in myidx for item in sublist]\n",
    "    np.random.shuffle(flat_list1)\n",
    "    return (flat_list1)"
   ]
  },
  {
   "cell_type": "code",
   "execution_count": null,
   "metadata": {
    "collapsed": true
   },
   "outputs": [],
   "source": [
    "i = 1\n",
    "fs = 1000\n",
    "blocks = [17,18,19,20]\n",
    "blocks1 = [1,2,3,4,5,6,7,8,9,10,11,12,13,14,15,16]\n",
    "fig = plt.figure(figsize = (15,20))\n",
    "\n",
    "\n",
    "C1 = indP(blocks, 1)\n",
    "I1 = indP(blocks1, 1)\n",
    "\n",
    "C2 = indP(blocks, 2)\n",
    "I2 = indP(blocks1, 2)\n",
    "\n",
    "C3 = indP(blocks, 3)\n",
    "I3 = indP(blocks1, 3)\n",
    "\n",
    "C4 = indP(blocks, 4)\n",
    "I4 = indP(blocks1, 4)\n",
    "\n",
    "a = 15\n",
    "\n",
    "plt.subplot(4, 2, 1)\n",
    "myhg = np.mean(hg_stim[C1[1:84], :, a], axis = 0)\n",
    "myhg = myhg[(time_axis >= -500) & (time_axis <= 1000)]\n",
    "f,t, Sxx = signal.spectrogram(myhg, fs, noverlap = 76, nperseg =90)\n",
    "plt.pcolormesh(t,f,Sxx, vmax = np.percentile(Sxx.flatten(), 99.9))\n",
    "plt.title('Passive Tone1')\n",
    "\n",
    "\n",
    "plt.subplot(4, 2, 2)\n",
    "myhg = np.mean(hg_stim[I1[1:84], :, a], axis = 0)\n",
    "myhg = myhg[(time_axis >= -500) & (time_axis <= 1000)]\n",
    "f,t, Sxx = signal.spectrogram(myhg, fs, noverlap = 76, nperseg =90)\n",
    "plt.pcolormesh(t,f,Sxx, vmax = np.percentile(Sxx.flatten(), 99.9))\n",
    "plt.title('Active Tone1')\n",
    "\n",
    "plt.subplot(4, 2, 3)\n",
    "myhg = np.mean(hg_stim[C2[1:84], :, a], axis = 0)\n",
    "myhg = myhg[(time_axis >= -500) & (time_axis <= 1000)]\n",
    "f,t, Sxx = signal.spectrogram(myhg, fs, noverlap = 76, nperseg =90)\n",
    "plt.pcolormesh(t,f,Sxx, vmax = np.percentile(Sxx.flatten(), 99.9))\n",
    "plt.title('Passive Tone2')\n",
    "\n",
    "plt.subplot(4, 2, 4)\n",
    "myhg = np.mean(hg_stim[I2[1:84], :, a], axis = 0)\n",
    "myhg = myhg[(time_axis >= -500) & (time_axis <= 1000)]\n",
    "f,t, Sxx = signal.spectrogram(myhg, fs, noverlap = 76, nperseg =90)\n",
    "plt.pcolormesh(t,f,Sxx, vmax = np.percentile(Sxx.flatten(), 99.9))\n",
    "plt.title('Active Tone2')\n",
    "\n",
    "\n",
    "plt.subplot(4, 2, 5)\n",
    "myhg = np.mean(hg_stim[C3[1:84], :, a], axis = 0)\n",
    "myhg = myhg[(time_axis >= -500) & (time_axis <= 1000)]\n",
    "f,t, Sxx = signal.spectrogram(myhg, fs, noverlap = 76, nperseg =90)\n",
    "plt.pcolormesh(t,f,Sxx, vmax = np.percentile(Sxx.flatten(), 99.9))\n",
    "plt.title('Passive Tone3')\n",
    "\n",
    "plt.subplot(4, 2, 6)\n",
    "myhg = np.mean(hg_stim[I3[1:84], :, a], axis = 0)\n",
    "myhg = myhg[(time_axis >= -500) & (time_axis <= 1000)]\n",
    "f,t, Sxx = signal.spectrogram(myhg, fs, noverlap = 76, nperseg =90)\n",
    "plt.pcolormesh(t,f,Sxx, vmax = np.percentile(Sxx.flatten(), 99.9))\n",
    "plt.title('Active Tone3')\n",
    "\n",
    "\n",
    "plt.subplot(4, 2, 7)\n",
    "myhg = np.mean(hg_stim[C4[1:84], :, a], axis = 0)\n",
    "myhg = myhg[(time_axis >= -500) & (time_axis <= 1000)]\n",
    "f,t, Sxx = signal.spectrogram(myhg, fs, noverlap = 76, nperseg =90)\n",
    "plt.pcolormesh(t,f,Sxx, vmax = np.percentile(Sxx.flatten(), 99.9))\n",
    "plt.title('Passive Tone4')\n",
    "\n",
    "\n",
    "plt.subplot(4, 2, 8)\n",
    "myhg = np.mean(hg_stim[I4[1:84], :, a], axis = 0)\n",
    "myhg = myhg[(time_axis >= -500) & (time_axis <= 1000)]\n",
    "f,t, Sxx = signal.spectrogram(myhg, fs, noverlap = 76, nperseg =90)\n",
    "plt.pcolormesh(t,f,Sxx, vmax = np.percentile(Sxx.flatten(), 99.9))\n",
    "plt.title('Active Tone4')\n",
    "\n",
    "\n",
    "plt.tight_layout()\n",
    "plt.show()\n",
    "\n",
    "print('length of Correct T1 = ' + str(len(C1)))\n",
    "print('length of Correct T2 = ' + str(len(C2)))\n",
    "print('length of Correct T3 = ' + str(len(C3)))\n",
    "print('length of Correct T4 = ' + str(len(C4)))\n",
    "\n",
    "print('length of Incorrect T1 = ' + str(len(I1)))\n",
    "print('length of Inorrect T2 = ' + str(len(I2)))\n",
    "print('length of Inorrect T3 = ' + str(len(I3)))\n",
    "print('length of Inorrect T4 = ' + str(len(I4)))"
   ]
  },
  {
   "cell_type": "code",
   "execution_count": null,
   "metadata": {
    "collapsed": true
   },
   "outputs": [],
   "source": [
    "stim_foc = ['ma1-bN', 'di1-bN', 'ma2-bN']\n",
    "print(stims)"
   ]
  },
  {
   "cell_type": "code",
   "execution_count": null,
   "metadata": {
    "collapsed": true
   },
   "outputs": [],
   "source": [
    "i = 1\n",
    "stims = np.unique(behav['file'])\n",
    "stim_foc = ['ma1-bN', 'di1-bN', 'ma2-bN']\n",
    "fig = plt.figure(figsize = (20,20))\n",
    "for s in stim_foc: \n",
    "    myidxR = np.where((behav['file'] == s) & (behav['accuracy'] == 0))[0]\n",
    "    if len(myidxR) > 0:\n",
    "        for t in myidxR:\n",
    "            plt.subplot(15, 10, i)\n",
    "            myhg = hg_stim[t, :, 15]\n",
    "            myhg = myhg[(time_axis >= -500) & (time_axis <= 1000)]\n",
    "            fs = 1000\n",
    "            f,t, Sxx = signal.spectrogram(myhg, fs, noverlap = 76, nperseg =90)\n",
    "            plt.pcolormesh(t,f,Sxx, vmax = np.percentile(Sxx.flatten(), 99.9))\n",
    "            plt.title('incorrect__' + str(s))\n",
    "            i+=1\n",
    "# plt.suptitle('Block 17 x Stim', fontsize = 10.0)\n",
    "plt.tight_layout()\n",
    "plt.show()"
   ]
  },
  {
   "cell_type": "code",
   "execution_count": null,
   "metadata": {
    "collapsed": true
   },
   "outputs": [],
   "source": [
    "##Make a DF to list # of trials per tone\n",
    "trials_per_tone = pd.DataFrame()\n",
    "trials_per_tone['T1'] = np.zeros(21)\n",
    "trials_per_tone['T2'] = np.zeros(21)\n",
    "trials_per_tone['T3'] = np.zeros(21)\n",
    "trials_per_tone['T4'] = np.zeros(21)\n",
    "for j in range(17,18):\n",
    "        myidx1 = np.where((behav['tone'] == 1) & (behav['block'] == j))[0]\n",
    "        myidx2 = np.where((behav['tone'] == 2) & (behav['block'] == j))[0]\n",
    "        myidx3 = np.where((behav['tone'] == 3)  & (behav['block'] == j))[0]\n",
    "        myidx4 = np.where((behav['tone'] == 4) & (behav['block'] == j))[0]\n",
    "        trials_per_tone['T1'][j] = len(myidx1)\n",
    "        trials_per_tone['T2'][j] = len(myidx2)\n",
    "        trials_per_tone['T3'][j] = len(myidx3)\n",
    "        trials_per_tone['T4'][j] = len(myidx4)\n",
    "print(trials_per_tone)\n",
    "        "
   ]
  },
  {
   "cell_type": "code",
   "execution_count": null,
   "metadata": {
    "collapsed": true
   },
   "outputs": [],
   "source": [
    "## subset unique stimuli \n",
    "stimuli = np.unique(behav['file'])\n",
    "index = []\n",
    "ls = []\n",
    "stim = pd.DataFrame()\n",
    "fig = plt.figure(figsize = (20,30))\n",
    "for block in range(16):\n",
    "    for s in stimuli:\n",
    "        myidx1 = np.where((behav['block'] == block) &(behav['file'] == s))[0]\n",
    "        if len(myidx1) > 2:\n",
    "                blocks.append(block)\n",
    "                lengths.append(len(myidx1))\n",
    "                ls.append(s)\n",
    "                myidx1 = list(myidx1)\n",
    "                stim[s] = myidx1\n",
    "    for i in ls:\n",
    "        myhg = np.mean(hg_stim[stim[i], :, 15], axis = 0)\n",
    "        myhg = myhg[(time_axis >= -500) & (time_axis <= 1000)]\n",
    "        fs = 1000\n",
    "        plt.subplot(8, 3, block)\n",
    "        f,t, Sxx = signal.spectrogram(myhg, fs, noverlap = 76, nperseg =90)\n",
    "        plt.pcolormesh(t,f,Sxx, vmax = np.percentile(Sxx.flatten(), 99.9))\n",
    "        plt.title('Tone 2 Block'+ str(block) + '_'+ str(i))\n",
    "        x+=1\n",
    "print(ls)\n",
    "plt.tight_layout()\n",
    "plt.show()\n"
   ]
  },
  {
   "cell_type": "code",
   "execution_count": null,
   "metadata": {
    "collapsed": true
   },
   "outputs": [],
   "source": [
    "trials1 = []\n",
    "blocks1 = []\n",
    "stims1 = []\n",
    "for blocks in range(21):\n",
    "    blocks1.append(blocks)\n",
    "    behavs = behav[behav['block'] == blocks]\n",
    "    stims = np.unique(behavs['file'])\n",
    "    stims1.append(len(stims))\n",
    "    trials = np.unique(behavs['Trial'])\n",
    "    trials1.append(len(trials))\n",
    "print(trials1)\n",
    "print(blocks1)\n",
    "print(stims1)\n",
    "\n",
    "info = pd.DataFrame()\n",
    "info['Block'] = blocks1\n",
    "info['# Trials'] = trials1\n",
    "info['# Stims'] = stims1\n",
    "\n",
    "info.to_csv('info.csv')"
   ]
  },
  {
   "cell_type": "code",
   "execution_count": null,
   "metadata": {
    "collapsed": true,
    "scrolled": true
   },
   "outputs": [],
   "source": [
    "\n",
    "test = pd.DataFrame()\n",
    "test['blocks'] = blocks\n",
    "test['num trials'] = lengths\n",
    "\n",
    "test.to_csv('num_trials.csv')"
   ]
  },
  {
   "cell_type": "markdown",
   "metadata": {
    "collapsed": true
   },
   "source": []
  },
  {
   "cell_type": "code",
   "execution_count": null,
   "metadata": {
    "collapsed": true
   },
   "outputs": [],
   "source": [
    "##plot stimuli\n",
    "dirs = os.listdir('/Users/alia/Documents/dura/userdata/ashafi/alia_temp_1/stimwav/')\n",
    "for file in dirs:\n",
    "    if '1' in file:\n",
    "        if 'b' in file[-7:-1]:\n",
    "            print(file)\n"
   ]
  },
  {
   "cell_type": "code",
   "execution_count": null,
   "metadata": {
    "collapsed": true
   },
   "outputs": [],
   "source": [
    "\n",
    "\n",
    "plt.plot(myhg)\n",
    "plt.show()"
   ]
  },
  {
   "cell_type": "code",
   "execution_count": null,
   "metadata": {
    "collapsed": true
   },
   "outputs": [],
   "source": [
    "import librosa"
   ]
  },
  {
   "cell_type": "code",
   "execution_count": null,
   "metadata": {
    "collapsed": true
   },
   "outputs": [],
   "source": [
    "librosa.output.write_wav('/Users/alia/Desktop/thing.wav', myhg 1000)"
   ]
  },
  {
   "cell_type": "markdown",
   "metadata": {},
   "source": [
    "## Autocorr"
   ]
  },
  {
   "cell_type": "code",
   "execution_count": 5,
   "metadata": {
    "collapsed": true
   },
   "outputs": [],
   "source": [
    "## this is the Periodicity detection via Autocorrelation algorithm \n",
    "###AutoCorrelation\n",
    "\n",
    "def autocorr(x):\n",
    "    result = np.correlate(x, x, mode='full')\n",
    "    #\"full\" mode returns results for every t where both a and v have some overlap.\n",
    "    #\"same\" mode returns a result with the same length as the shortest vector (a or v).\n",
    "    #\"valid\" mode returns results only when a and v completely overlap each other. The documentation for numpy.convolve gives more detail on the modes.\n",
    "    return result[result.size/2:]\n",
    "\n",
    "##have to divide by 2 because the correlation is starting at a negative time difference, closes to zero, and then goes positive\n",
    "\n",
    "\n",
    "# myauto = np.correlate(myhg, myhg, 'same')\n",
    "\n",
    "# plt.figure(figsize=(10,4))\n",
    "# cor = autocorr(myhg)\n",
    "# plt.plot(cor)\n",
    "# plt.xlim(0, 40)\n",
    "# plt.show()"
   ]
  },
  {
   "cell_type": "code",
   "execution_count": null,
   "metadata": {
    "collapsed": true
   },
   "outputs": [],
   "source": []
  },
  {
   "cell_type": "markdown",
   "metadata": {},
   "source": [
    "## Autocorr on overlapping time bins for neuro response"
   ]
  },
  {
   "cell_type": "code",
   "execution_count": 7,
   "metadata": {
    "collapsed": true
   },
   "outputs": [],
   "source": [
    "files = np.unique(behav['file'])"
   ]
  },
  {
   "cell_type": "code",
   "execution_count": null,
   "metadata": {
    "collapsed": true
   },
   "outputs": [],
   "source": []
  },
  {
   "cell_type": "code",
   "execution_count": 6,
   "metadata": {},
   "outputs": [
    {
     "ename": "NameError",
     "evalue": "name 'myidx' is not defined",
     "output_type": "error",
     "traceback": [
      "\u001b[0;31m---------------------------------------------------------------------------\u001b[0m",
      "\u001b[0;31mNameError\u001b[0m                                 Traceback (most recent call last)",
      "\u001b[0;32m<ipython-input-6-8463e288b87b>\u001b[0m in \u001b[0;36m<module>\u001b[0;34m()\u001b[0m\n\u001b[1;32m      6\u001b[0m \u001b[0;31m# myidx = np.where((behav['file'] == ) & (behav['speaker'] == 'b'))[0]\u001b[0m\u001b[0;34m\u001b[0m\u001b[0;34m\u001b[0m\u001b[0m\n\u001b[1;32m      7\u001b[0m \u001b[0;31m# myidx = np.where((behav['block'] == 13) & (behav['accuracy'] == 1) &(behav['tone'] == 1))[0]\u001b[0m\u001b[0;34m\u001b[0m\u001b[0;34m\u001b[0m\u001b[0m\n\u001b[0;32m----> 8\u001b[0;31m \u001b[0mmyhg\u001b[0m \u001b[0;34m=\u001b[0m \u001b[0mnp\u001b[0m\u001b[0;34m.\u001b[0m\u001b[0mmean\u001b[0m\u001b[0;34m(\u001b[0m\u001b[0mhg_stim\u001b[0m\u001b[0;34m[\u001b[0m\u001b[0mmyidx\u001b[0m\u001b[0;34m,\u001b[0m \u001b[0;34m:\u001b[0m\u001b[0;34m,\u001b[0m \u001b[0;36m15\u001b[0m\u001b[0;34m]\u001b[0m\u001b[0;34m,\u001b[0m \u001b[0maxis\u001b[0m \u001b[0;34m=\u001b[0m \u001b[0;36m0\u001b[0m\u001b[0;34m)\u001b[0m\u001b[0;34m\u001b[0m\u001b[0m\n\u001b[0m\u001b[1;32m      9\u001b[0m \u001b[0mstart\u001b[0m \u001b[0;34m=\u001b[0m \u001b[0;34m-\u001b[0m\u001b[0;36m500\u001b[0m\u001b[0;34m\u001b[0m\u001b[0m\n\u001b[1;32m     10\u001b[0m \u001b[0mend\u001b[0m \u001b[0;34m=\u001b[0m \u001b[0;34m-\u001b[0m\u001b[0;36m420\u001b[0m\u001b[0;34m\u001b[0m\u001b[0m\n",
      "\u001b[0;31mNameError\u001b[0m: name 'myidx' is not defined"
     ]
    }
   ],
   "source": [
    "##Create overlaping time bins (40ms time bins overlaped by 20ms)\n",
    "import pandas as pd\n",
    "import itertools\n",
    "import matplotlib as pyplot\n",
    "\n",
    "# myidx = np.where((behav['file'] == ) & (behav['speaker'] == 'b'))[0]\n",
    "# myidx = np.where((behav['block'] == 13) & (behav['accuracy'] == 1) &(behav['tone'] == 1))[0]\n",
    "myhg = np.mean(hg_stim[myidx, :, 15], axis = 0)\n",
    "start = -500 \n",
    "end = -420\n",
    "cor = np.zeros((73,41))\n",
    "d = np.zeros((73,41))\n",
    "lag = []\n",
    "#separate the data into times\n",
    "for x in range(0,73):\n",
    "    index = np.where((time_axis <= end) & (time_axis >= start))[0]\n",
    "    d[x,:] = myhg[index]\n",
    "#     d[\"bin{0}\".format(x)]= myhg[index]\n",
    "    end += 20\n",
    "    start += 20\n",
    "    \n",
    "data2 = pd.DataFrame()\n",
    "# # do autocorr on all bins \n",
    "for bins in range(0,d.shape[0]): \n",
    "    cor[bins,:] = autocorr(d[bins,:])\n",
    "a = []\n",
    "b = []\n",
    "for bins in range(1,cor.shape[0]): \n",
    "    maxx = max(cor[bins,2:])\n",
    "    lags = np.where(cor[bins] == maxx)\n",
    "    if maxx > .2:\n",
    "        if maxx < 6:\n",
    "            lag1 = np.array(lags).tolist()\n",
    "            lag.extend(lag1)\n",
    "            a.append(maxx)\n",
    "            b.append(bins)\n",
    "\n",
    "### get lags-1\n",
    "lag = list(itertools.chain.from_iterable(lag))\n",
    "print(lag)\n",
    "lags = [1/x for x in lag]\n",
    "# plt.imshow(cor.T, aspect='auto')\n",
    "# plt.show()\n",
    "# plt.title('Lags')\n",
    "# plt.plot(b,lags)\n",
    "# plt.xlabel('Time [sec]', fontsize = 100.0)\n",
    "# plt.show()\n",
    "\n",
    "# for bins in range(1,cor.shape[0]):\n",
    "#     plt.plot(cor[bins])\n",
    "#     plt.title('bin' + str(bins))\n",
    "#     plt.show()\n",
    "        \n",
    "    \n",
    "# FFR = data\n",
    "# #export data to csv        \n",
    "# data.to_csv('autocorr_tone'+ str(t) + '.csv')"
   ]
  },
  {
   "cell_type": "code",
   "execution_count": 56,
   "metadata": {
    "scrolled": true
   },
   "outputs": [
    {
     "data": {
      "text/plain": [
       "array([ 1,  2,  3,  4,  5,  6,  7,  8,  9, 10, 11, 12, 13, 14, 15, 16, 17,\n",
       "       18, 19, 20, 21, 22, 23, 24, 25, 26, 27, 28, 29, 30])"
      ]
     },
     "execution_count": 56,
     "metadata": {},
     "output_type": "execute_result"
    }
   ],
   "source": [
    "trials_active = []\n",
    "for t in range(1661):\n",
    "    if behav['block'][t] == 7:\n",
    "        trials_active.append(behav['trial'][t])\n",
    "\n",
    "test = np.unique(trials_active)\n",
    "test"
   ]
  },
  {
   "cell_type": "markdown",
   "metadata": {},
   "source": [
    "# Auto Corr by Trial"
   ]
  },
  {
   "cell_type": "code",
   "execution_count": 31,
   "metadata": {},
   "outputs": [
    {
     "data": {
      "text/plain": [
       "[0, 1, 3, 6, 9, 10, 13, 15, 17, 19, 21, 22, 23, 24, 28]"
      ]
     },
     "execution_count": 31,
     "metadata": {},
     "output_type": "execute_result"
    }
   ],
   "source": [
    "test = np.where((behav['tone'] == 2))[0]\n",
    "test.tolist()"
   ]
  },
  {
   "cell_type": "code",
   "execution_count": 22,
   "metadata": {
    "collapsed": true
   },
   "outputs": [],
   "source": [
    "## get list of tones\n",
    "tones = np.unique(behav['file'])\n",
    "tones = tones.tolist()"
   ]
  },
  {
   "cell_type": "code",
   "execution_count": 60,
   "metadata": {},
   "outputs": [
    {
     "name": "stderr",
     "output_type": "stream",
     "text": [
      "/Users/alia/anaconda3/lib/python3.6/site-packages/ipykernel_launcher.py:9: VisibleDeprecationWarning: using a non-integer number instead of an integer will result in an error in the future\n",
      "  if __name__ == '__main__':\n"
     ]
    }
   ],
   "source": [
    "##Create overlaping time bins (40ms time bins overlaped by 20ms)\n",
    "##this exports a dataframe for each trial, autocorrelated and normalized from -1 to 1\n",
    "import pandas as pd\n",
    "import itertools\n",
    "import matplotlib as pyplot\n",
    "\n",
    "dataFFR = pd.DataFrame()\n",
    "dataLag = pd.DataFrame()\n",
    "\n",
    "test = np.where((behav['block'] == 1))[0]\n",
    "test.tolist()\n",
    "\n",
    "# myhg = np.mean(hg_stim[myidx, :, 15], axis = 0)\n",
    "\n",
    "\n",
    "for i in test:\n",
    "    file = behav['file'][i]\n",
    "#     data[file] = np.zeros(23)\n",
    "    myhg = hg_stim[i, :, 15]\n",
    "#     print(len(myhg))\n",
    "    start = -500 \n",
    "    end = -420\n",
    "\n",
    "    cor = np.zeros((72,81))\n",
    "    d = np.zeros((72,81))\n",
    "    dataLag = pd.DataFrame()\n",
    "    dataLag[i] = np.zeros(76)\n",
    "\n",
    "# #separate the data into times\n",
    "    for x in range(0,72):\n",
    "        index = np.where((time_axis <= end) & (time_axis >= start))[0]\n",
    "        d[x,:] = myhg[index]\n",
    "    #     d[\"bin{0}\".format(x)]= myhg[index]\n",
    "        end += 20\n",
    "        start += 20\n",
    "\n",
    "# data2 = pd.DataFrame()\n",
    "# # do autocorr on all bins\n",
    "    maxs = []\n",
    "    lag = []\n",
    "    for bins in range(0,d.shape[0]):\n",
    "        cor[bins,:] = autocorr(d[bins,:]) ## run autocorrelation\n",
    "    for bins in range(1,cor.shape[0]): \n",
    "        maxx = max(cor[bins][2:15]) ##find the max\n",
    "        maxs.append(maxx) #add max to a list\n",
    "        lags = np.where(cor[bins] == maxx) ##finding the lag\n",
    "        lag.append(lags[0].tolist())\n",
    "        for time in range(2,15):\n",
    "                if cor[bins,time] == maxx:\n",
    "                    dataLag[i][time] = 1/time\n",
    "\n",
    "##Normalized from -1 to 1\n",
    "    norms = []\n",
    "    for m in maxs:\n",
    "        high = max(maxs)\n",
    "        low = min(maxs)\n",
    "        n = 2*((m-low)/(high-low)) - 1\n",
    "        norms.append(n)\n",
    "    dataFFR[file + '_'+ str(i)] = norms\n",
    "    bins = [item for sublist in lag for item in sublist]\n",
    "    lags = [1/x for x in bins]\n",
    "    dataFFR['bin_' + str(i)] = bins\n",
    "    dataFFR['lag_' + str(i)] = lags\n",
    "\n",
    "dataFFR = dataFFR\n",
    "    ### get lags-1\n",
    "#     lag = list(itertools.chain.from_iterable(lag))\n",
    "#     print(lag)\n",
    "#     lags = [1/x for x in lag]\n"
   ]
  },
  {
   "cell_type": "code",
   "execution_count": null,
   "metadata": {
    "collapsed": true
   },
   "outputs": [],
   "source": []
  },
  {
   "cell_type": "code",
   "execution_count": 14,
   "metadata": {},
   "outputs": [
    {
     "ename": "KeyError",
     "evalue": "'lag_1'",
     "output_type": "error",
     "traceback": [
      "\u001b[0;31m---------------------------------------------------------------------------\u001b[0m",
      "\u001b[0;31mKeyError\u001b[0m                                  Traceback (most recent call last)",
      "\u001b[0;32m~/anaconda3/lib/python3.6/site-packages/pandas/core/indexes/base.py\u001b[0m in \u001b[0;36mget_loc\u001b[0;34m(self, key, method, tolerance)\u001b[0m\n\u001b[1;32m   2441\u001b[0m             \u001b[0;32mtry\u001b[0m\u001b[0;34m:\u001b[0m\u001b[0;34m\u001b[0m\u001b[0m\n\u001b[0;32m-> 2442\u001b[0;31m                 \u001b[0;32mreturn\u001b[0m \u001b[0mself\u001b[0m\u001b[0;34m.\u001b[0m\u001b[0m_engine\u001b[0m\u001b[0;34m.\u001b[0m\u001b[0mget_loc\u001b[0m\u001b[0;34m(\u001b[0m\u001b[0mkey\u001b[0m\u001b[0;34m)\u001b[0m\u001b[0;34m\u001b[0m\u001b[0m\n\u001b[0m\u001b[1;32m   2443\u001b[0m             \u001b[0;32mexcept\u001b[0m \u001b[0mKeyError\u001b[0m\u001b[0;34m:\u001b[0m\u001b[0;34m\u001b[0m\u001b[0m\n",
      "\u001b[0;32mpandas/_libs/index.pyx\u001b[0m in \u001b[0;36mpandas._libs.index.IndexEngine.get_loc\u001b[0;34m()\u001b[0m\n",
      "\u001b[0;32mpandas/_libs/index.pyx\u001b[0m in \u001b[0;36mpandas._libs.index.IndexEngine.get_loc\u001b[0;34m()\u001b[0m\n",
      "\u001b[0;32mpandas/_libs/hashtable_class_helper.pxi\u001b[0m in \u001b[0;36mpandas._libs.hashtable.PyObjectHashTable.get_item\u001b[0;34m()\u001b[0m\n",
      "\u001b[0;32mpandas/_libs/hashtable_class_helper.pxi\u001b[0m in \u001b[0;36mpandas._libs.hashtable.PyObjectHashTable.get_item\u001b[0;34m()\u001b[0m\n",
      "\u001b[0;31mKeyError\u001b[0m: 'lag_1'",
      "\nDuring handling of the above exception, another exception occurred:\n",
      "\u001b[0;31mKeyError\u001b[0m                                  Traceback (most recent call last)",
      "\u001b[0;32m<ipython-input-14-44e18ca0bc33>\u001b[0m in \u001b[0;36m<module>\u001b[0;34m()\u001b[0m\n\u001b[1;32m      7\u001b[0m     \u001b[0mfile\u001b[0m \u001b[0;34m=\u001b[0m \u001b[0mbehav\u001b[0m\u001b[0;34m[\u001b[0m\u001b[0;34m'file'\u001b[0m\u001b[0;34m]\u001b[0m\u001b[0;34m[\u001b[0m\u001b[0mj\u001b[0m\u001b[0;34m]\u001b[0m\u001b[0;34m\u001b[0m\u001b[0m\n\u001b[1;32m      8\u001b[0m     \u001b[0mfiles\u001b[0m\u001b[0;34m.\u001b[0m\u001b[0mappend\u001b[0m\u001b[0;34m(\u001b[0m\u001b[0mfile\u001b[0m\u001b[0;34m)\u001b[0m\u001b[0;34m\u001b[0m\u001b[0m\n\u001b[0;32m----> 9\u001b[0;31m     \u001b[0mlags\u001b[0m \u001b[0;34m=\u001b[0m \u001b[0mdataFFR\u001b[0m\u001b[0;34m[\u001b[0m\u001b[0;34m'lag_'\u001b[0m \u001b[0;34m+\u001b[0m \u001b[0mstr\u001b[0m\u001b[0;34m(\u001b[0m\u001b[0mj\u001b[0m\u001b[0;34m)\u001b[0m\u001b[0;34m]\u001b[0m\u001b[0;34m\u001b[0m\u001b[0m\n\u001b[0m\u001b[1;32m     10\u001b[0m     \u001b[0mbins\u001b[0m \u001b[0;34m=\u001b[0m \u001b[0mlist\u001b[0m\u001b[0;34m(\u001b[0m\u001b[0mrange\u001b[0m\u001b[0;34m(\u001b[0m\u001b[0;36m71\u001b[0m\u001b[0;34m)\u001b[0m\u001b[0;34m)\u001b[0m\u001b[0;34m\u001b[0m\u001b[0m\n\u001b[1;32m     11\u001b[0m     \u001b[0mLagData\u001b[0m\u001b[0;34m[\u001b[0m\u001b[0mfile\u001b[0m \u001b[0;34m+\u001b[0m\u001b[0;34m'_'\u001b[0m\u001b[0;34m+\u001b[0m \u001b[0mstr\u001b[0m\u001b[0;34m(\u001b[0m\u001b[0mj\u001b[0m\u001b[0;34m)\u001b[0m\u001b[0;34m+\u001b[0m \u001b[0;34m'_lags'\u001b[0m\u001b[0;34m]\u001b[0m \u001b[0;34m=\u001b[0m \u001b[0mlags\u001b[0m\u001b[0;34m\u001b[0m\u001b[0m\n",
      "\u001b[0;32m~/anaconda3/lib/python3.6/site-packages/pandas/core/frame.py\u001b[0m in \u001b[0;36m__getitem__\u001b[0;34m(self, key)\u001b[0m\n\u001b[1;32m   1962\u001b[0m             \u001b[0;32mreturn\u001b[0m \u001b[0mself\u001b[0m\u001b[0;34m.\u001b[0m\u001b[0m_getitem_multilevel\u001b[0m\u001b[0;34m(\u001b[0m\u001b[0mkey\u001b[0m\u001b[0;34m)\u001b[0m\u001b[0;34m\u001b[0m\u001b[0m\n\u001b[1;32m   1963\u001b[0m         \u001b[0;32melse\u001b[0m\u001b[0;34m:\u001b[0m\u001b[0;34m\u001b[0m\u001b[0m\n\u001b[0;32m-> 1964\u001b[0;31m             \u001b[0;32mreturn\u001b[0m \u001b[0mself\u001b[0m\u001b[0;34m.\u001b[0m\u001b[0m_getitem_column\u001b[0m\u001b[0;34m(\u001b[0m\u001b[0mkey\u001b[0m\u001b[0;34m)\u001b[0m\u001b[0;34m\u001b[0m\u001b[0m\n\u001b[0m\u001b[1;32m   1965\u001b[0m \u001b[0;34m\u001b[0m\u001b[0m\n\u001b[1;32m   1966\u001b[0m     \u001b[0;32mdef\u001b[0m \u001b[0m_getitem_column\u001b[0m\u001b[0;34m(\u001b[0m\u001b[0mself\u001b[0m\u001b[0;34m,\u001b[0m \u001b[0mkey\u001b[0m\u001b[0;34m)\u001b[0m\u001b[0;34m:\u001b[0m\u001b[0;34m\u001b[0m\u001b[0m\n",
      "\u001b[0;32m~/anaconda3/lib/python3.6/site-packages/pandas/core/frame.py\u001b[0m in \u001b[0;36m_getitem_column\u001b[0;34m(self, key)\u001b[0m\n\u001b[1;32m   1969\u001b[0m         \u001b[0;31m# get column\u001b[0m\u001b[0;34m\u001b[0m\u001b[0;34m\u001b[0m\u001b[0m\n\u001b[1;32m   1970\u001b[0m         \u001b[0;32mif\u001b[0m \u001b[0mself\u001b[0m\u001b[0;34m.\u001b[0m\u001b[0mcolumns\u001b[0m\u001b[0;34m.\u001b[0m\u001b[0mis_unique\u001b[0m\u001b[0;34m:\u001b[0m\u001b[0;34m\u001b[0m\u001b[0m\n\u001b[0;32m-> 1971\u001b[0;31m             \u001b[0;32mreturn\u001b[0m \u001b[0mself\u001b[0m\u001b[0;34m.\u001b[0m\u001b[0m_get_item_cache\u001b[0m\u001b[0;34m(\u001b[0m\u001b[0mkey\u001b[0m\u001b[0;34m)\u001b[0m\u001b[0;34m\u001b[0m\u001b[0m\n\u001b[0m\u001b[1;32m   1972\u001b[0m \u001b[0;34m\u001b[0m\u001b[0m\n\u001b[1;32m   1973\u001b[0m         \u001b[0;31m# duplicate columns & possible reduce dimensionality\u001b[0m\u001b[0;34m\u001b[0m\u001b[0;34m\u001b[0m\u001b[0m\n",
      "\u001b[0;32m~/anaconda3/lib/python3.6/site-packages/pandas/core/generic.py\u001b[0m in \u001b[0;36m_get_item_cache\u001b[0;34m(self, item)\u001b[0m\n\u001b[1;32m   1643\u001b[0m         \u001b[0mres\u001b[0m \u001b[0;34m=\u001b[0m \u001b[0mcache\u001b[0m\u001b[0;34m.\u001b[0m\u001b[0mget\u001b[0m\u001b[0;34m(\u001b[0m\u001b[0mitem\u001b[0m\u001b[0;34m)\u001b[0m\u001b[0;34m\u001b[0m\u001b[0m\n\u001b[1;32m   1644\u001b[0m         \u001b[0;32mif\u001b[0m \u001b[0mres\u001b[0m \u001b[0;32mis\u001b[0m \u001b[0;32mNone\u001b[0m\u001b[0;34m:\u001b[0m\u001b[0;34m\u001b[0m\u001b[0m\n\u001b[0;32m-> 1645\u001b[0;31m             \u001b[0mvalues\u001b[0m \u001b[0;34m=\u001b[0m \u001b[0mself\u001b[0m\u001b[0;34m.\u001b[0m\u001b[0m_data\u001b[0m\u001b[0;34m.\u001b[0m\u001b[0mget\u001b[0m\u001b[0;34m(\u001b[0m\u001b[0mitem\u001b[0m\u001b[0;34m)\u001b[0m\u001b[0;34m\u001b[0m\u001b[0m\n\u001b[0m\u001b[1;32m   1646\u001b[0m             \u001b[0mres\u001b[0m \u001b[0;34m=\u001b[0m \u001b[0mself\u001b[0m\u001b[0;34m.\u001b[0m\u001b[0m_box_item_values\u001b[0m\u001b[0;34m(\u001b[0m\u001b[0mitem\u001b[0m\u001b[0;34m,\u001b[0m \u001b[0mvalues\u001b[0m\u001b[0;34m)\u001b[0m\u001b[0;34m\u001b[0m\u001b[0m\n\u001b[1;32m   1647\u001b[0m             \u001b[0mcache\u001b[0m\u001b[0;34m[\u001b[0m\u001b[0mitem\u001b[0m\u001b[0;34m]\u001b[0m \u001b[0;34m=\u001b[0m \u001b[0mres\u001b[0m\u001b[0;34m\u001b[0m\u001b[0m\n",
      "\u001b[0;32m~/anaconda3/lib/python3.6/site-packages/pandas/core/internals.py\u001b[0m in \u001b[0;36mget\u001b[0;34m(self, item, fastpath)\u001b[0m\n\u001b[1;32m   3588\u001b[0m \u001b[0;34m\u001b[0m\u001b[0m\n\u001b[1;32m   3589\u001b[0m             \u001b[0;32mif\u001b[0m \u001b[0;32mnot\u001b[0m \u001b[0misnull\u001b[0m\u001b[0;34m(\u001b[0m\u001b[0mitem\u001b[0m\u001b[0;34m)\u001b[0m\u001b[0;34m:\u001b[0m\u001b[0;34m\u001b[0m\u001b[0m\n\u001b[0;32m-> 3590\u001b[0;31m                 \u001b[0mloc\u001b[0m \u001b[0;34m=\u001b[0m \u001b[0mself\u001b[0m\u001b[0;34m.\u001b[0m\u001b[0mitems\u001b[0m\u001b[0;34m.\u001b[0m\u001b[0mget_loc\u001b[0m\u001b[0;34m(\u001b[0m\u001b[0mitem\u001b[0m\u001b[0;34m)\u001b[0m\u001b[0;34m\u001b[0m\u001b[0m\n\u001b[0m\u001b[1;32m   3591\u001b[0m             \u001b[0;32melse\u001b[0m\u001b[0;34m:\u001b[0m\u001b[0;34m\u001b[0m\u001b[0m\n\u001b[1;32m   3592\u001b[0m                 \u001b[0mindexer\u001b[0m \u001b[0;34m=\u001b[0m \u001b[0mnp\u001b[0m\u001b[0;34m.\u001b[0m\u001b[0marange\u001b[0m\u001b[0;34m(\u001b[0m\u001b[0mlen\u001b[0m\u001b[0;34m(\u001b[0m\u001b[0mself\u001b[0m\u001b[0;34m.\u001b[0m\u001b[0mitems\u001b[0m\u001b[0;34m)\u001b[0m\u001b[0;34m)\u001b[0m\u001b[0;34m[\u001b[0m\u001b[0misnull\u001b[0m\u001b[0;34m(\u001b[0m\u001b[0mself\u001b[0m\u001b[0;34m.\u001b[0m\u001b[0mitems\u001b[0m\u001b[0;34m)\u001b[0m\u001b[0;34m]\u001b[0m\u001b[0;34m\u001b[0m\u001b[0m\n",
      "\u001b[0;32m~/anaconda3/lib/python3.6/site-packages/pandas/core/indexes/base.py\u001b[0m in \u001b[0;36mget_loc\u001b[0;34m(self, key, method, tolerance)\u001b[0m\n\u001b[1;32m   2442\u001b[0m                 \u001b[0;32mreturn\u001b[0m \u001b[0mself\u001b[0m\u001b[0;34m.\u001b[0m\u001b[0m_engine\u001b[0m\u001b[0;34m.\u001b[0m\u001b[0mget_loc\u001b[0m\u001b[0;34m(\u001b[0m\u001b[0mkey\u001b[0m\u001b[0;34m)\u001b[0m\u001b[0;34m\u001b[0m\u001b[0m\n\u001b[1;32m   2443\u001b[0m             \u001b[0;32mexcept\u001b[0m \u001b[0mKeyError\u001b[0m\u001b[0;34m:\u001b[0m\u001b[0;34m\u001b[0m\u001b[0m\n\u001b[0;32m-> 2444\u001b[0;31m                 \u001b[0;32mreturn\u001b[0m \u001b[0mself\u001b[0m\u001b[0;34m.\u001b[0m\u001b[0m_engine\u001b[0m\u001b[0;34m.\u001b[0m\u001b[0mget_loc\u001b[0m\u001b[0;34m(\u001b[0m\u001b[0mself\u001b[0m\u001b[0;34m.\u001b[0m\u001b[0m_maybe_cast_indexer\u001b[0m\u001b[0;34m(\u001b[0m\u001b[0mkey\u001b[0m\u001b[0;34m)\u001b[0m\u001b[0;34m)\u001b[0m\u001b[0;34m\u001b[0m\u001b[0m\n\u001b[0m\u001b[1;32m   2445\u001b[0m \u001b[0;34m\u001b[0m\u001b[0m\n\u001b[1;32m   2446\u001b[0m         \u001b[0mindexer\u001b[0m \u001b[0;34m=\u001b[0m \u001b[0mself\u001b[0m\u001b[0;34m.\u001b[0m\u001b[0mget_indexer\u001b[0m\u001b[0;34m(\u001b[0m\u001b[0;34m[\u001b[0m\u001b[0mkey\u001b[0m\u001b[0;34m]\u001b[0m\u001b[0;34m,\u001b[0m \u001b[0mmethod\u001b[0m\u001b[0;34m=\u001b[0m\u001b[0mmethod\u001b[0m\u001b[0;34m,\u001b[0m \u001b[0mtolerance\u001b[0m\u001b[0;34m=\u001b[0m\u001b[0mtolerance\u001b[0m\u001b[0;34m)\u001b[0m\u001b[0;34m\u001b[0m\u001b[0m\n",
      "\u001b[0;32mpandas/_libs/index.pyx\u001b[0m in \u001b[0;36mpandas._libs.index.IndexEngine.get_loc\u001b[0;34m()\u001b[0m\n",
      "\u001b[0;32mpandas/_libs/index.pyx\u001b[0m in \u001b[0;36mpandas._libs.index.IndexEngine.get_loc\u001b[0;34m()\u001b[0m\n",
      "\u001b[0;32mpandas/_libs/hashtable_class_helper.pxi\u001b[0m in \u001b[0;36mpandas._libs.hashtable.PyObjectHashTable.get_item\u001b[0;34m()\u001b[0m\n",
      "\u001b[0;32mpandas/_libs/hashtable_class_helper.pxi\u001b[0m in \u001b[0;36mpandas._libs.hashtable.PyObjectHashTable.get_item\u001b[0;34m()\u001b[0m\n",
      "\u001b[0;31mKeyError\u001b[0m: 'lag_1'"
     ]
    }
   ],
   "source": [
    "files = []\n",
    "LagData = pd.DataFrame()\n",
    "x = 1\n",
    "bins1 = []\n",
    "fig = plt.figure(figsize = (40,20))\n",
    "for j in range(1, 1661):\n",
    "    file = behav['file'][j]\n",
    "    files.append(file)\n",
    "    lags = dataFFR['lag_' + str(j)]\n",
    "    bins = list(range(71))\n",
    "    LagData[file +'_'+ str(j)+ '_lags'] = lags\n",
    "    if file == 'di3-bN':\n",
    "#         myhg = hg_stim[j, :, 15]\n",
    "#         myhg = myhg[(time_axis >= -500) & (time_axis <= 1000)]\n",
    "#         fs = 1000\n",
    "#         f,t, Sxx = signal.spectrogram(myhg, fs, noverlap = 76, nperseg =90)\n",
    "#         plt.pcolormesh(t,f,Sxx, vmax = np.percentile(Sxx.flatten(), 99.9))\n",
    "        print(x)\n",
    "        plt.subplot(10,10,x)\n",
    "        plt.title(file + '_'+ str(j))\n",
    "        bins1.append(lags)\n",
    "        plt.scatter(bins,lags)\n",
    "        x+=1\n",
    "plt.show()\n",
    "# h = np.mean(bins1,axis = 0)\n",
    "# h.tolist()\n",
    "# bins = list(range(71))\n",
    "# plt.scatter(bins, h)\n",
    "# plt.title('di2-aN')\n",
    "# plt.show()"
   ]
  },
  {
   "cell_type": "code",
   "execution_count": null,
   "metadata": {
    "collapsed": true
   },
   "outputs": [],
   "source": []
  },
  {
   "cell_type": "code",
   "execution_count": 23,
   "metadata": {
    "collapsed": true
   },
   "outputs": [],
   "source": [
    "test = np.unique(files)\n",
    "# print(test)"
   ]
  },
  {
   "cell_type": "code",
   "execution_count": 16,
   "metadata": {},
   "outputs": [
    {
     "ename": "IndexError",
     "evalue": "invalid index to scalar variable.",
     "output_type": "error",
     "traceback": [
      "\u001b[0;31m---------------------------------------------------------------------------\u001b[0m",
      "\u001b[0;31mIndexError\u001b[0m                                Traceback (most recent call last)",
      "\u001b[0;32m<ipython-input-16-0364032743f3>\u001b[0m in \u001b[0;36m<module>\u001b[0;34m()\u001b[0m\n\u001b[1;32m      1\u001b[0m \u001b[0;32mimport\u001b[0m \u001b[0mpandas\u001b[0m \u001b[0;32mas\u001b[0m \u001b[0mpd\u001b[0m\u001b[0;34m\u001b[0m\u001b[0m\n\u001b[1;32m      2\u001b[0m \u001b[0;31m##plot corr vs lag\u001b[0m\u001b[0;34m\u001b[0m\u001b[0;34m\u001b[0m\u001b[0m\n\u001b[0;32m----> 3\u001b[0;31m \u001b[0mplt\u001b[0m\u001b[0;34m.\u001b[0m\u001b[0mplot\u001b[0m\u001b[0;34m(\u001b[0m\u001b[0mcor\u001b[0m\u001b[0;34m[\u001b[0m\u001b[0;36m1\u001b[0m\u001b[0;34m]\u001b[0m\u001b[0;34m)\u001b[0m\u001b[0;34m\u001b[0m\u001b[0m\n\u001b[0m\u001b[1;32m      4\u001b[0m \u001b[0mplt\u001b[0m\u001b[0;34m.\u001b[0m\u001b[0mxlabel\u001b[0m\u001b[0;34m(\u001b[0m\u001b[0;34m'lag'\u001b[0m\u001b[0;34m)\u001b[0m\u001b[0;34m\u001b[0m\u001b[0m\n\u001b[1;32m      5\u001b[0m \u001b[0mplt\u001b[0m\u001b[0;34m.\u001b[0m\u001b[0mylabel\u001b[0m\u001b[0;34m(\u001b[0m\u001b[0;34m'cor'\u001b[0m\u001b[0;34m)\u001b[0m\u001b[0;34m\u001b[0m\u001b[0m\n",
      "\u001b[0;31mIndexError\u001b[0m: invalid index to scalar variable."
     ]
    }
   ],
   "source": [
    "import pandas as pd\n",
    "##plot corr vs lag\n",
    "plt.plot(cor[1])\n",
    "plt.xlabel('lag')\n",
    "plt.ylabel('cor')\n",
    "# plt.show()\n",
    "freq = []\n",
    "m = []\n",
    "data = pd.DataFrame()\n",
    "data['1/lag'] = np.zeros(76)\n",
    "data['max'] = np.zeros(76)\n",
    "lags = []\n",
    "# data['lag'] = np.zeros(5)\n",
    "##find 1/lag\n",
    "for i in range(0,cor.shape[1]):\n",
    "    lags.append(i)\n",
    "    if i > 0:\n",
    "        freqs = 1/i\n",
    "        freq.append(freqs)\n",
    "        \n",
    "\n",
    "for j in range(0,cor.shape[0]):\n",
    "    nozero = cor[j,2:8]\n",
    "    maxes = max(nozero)\n",
    "    for time in range(2,8):\n",
    "        if cor[j,time] == maxes:\n",
    "            data['1/lag'][j] = 1/time\n",
    "            data['max'][j] = cor[j,time]\n",
    "a = [x for x in range(len(data))]\n",
    "data['bin'] = a\n",
    "plt.scatter(data['bin'],data['1/lag'])\n",
    "plt.xlabel('bin#')\n",
    "plt.ylabel('1/lag')\n",
    "plt.title(' max 1/lag vs bin number, ignoring lag values higher than 6')\n",
    "# plt.show()\n",
    "\n",
    "where = np.where(data['1/lag'] == .2)\n",
    "dataFFR1 = data\n"
   ]
  },
  {
   "cell_type": "code",
   "execution_count": 18,
   "metadata": {},
   "outputs": [
    {
     "data": {
      "text/plain": [
       "71"
      ]
     },
     "execution_count": 18,
     "metadata": {},
     "output_type": "execute_result"
    }
   ],
   "source": []
  },
  {
   "cell_type": "markdown",
   "metadata": {},
   "source": [
    "## Read Wav File and run Autocorr by stimuli"
   ]
  },
  {
   "cell_type": "code",
   "execution_count": 7,
   "metadata": {},
   "outputs": [
    {
     "name": "stderr",
     "output_type": "stream",
     "text": [
      "/Users/alia/anaconda3/lib/python3.6/site-packages/ipykernel_launcher.py:9: VisibleDeprecationWarning: using a non-integer number instead of an integer will result in an error in the future\n",
      "  if __name__ == '__main__':\n"
     ]
    }
   ],
   "source": [
    "##read wav file \n",
    "\n",
    "'''this reads each wav file, zero pads it to match the FFR, runs autocorr on all stimuli and then \n",
    "    normalizing from -1 to 1'''\n",
    "import scipy.io\n",
    "import os\n",
    "\n",
    "'''autocorr the stimulation wav files t = tone, p = b or h, male or female'''\n",
    "dirs = os.listdir('/Users/alia/Documents/dura/userdata/ashafi/alia_temp_1/stimwav/')\n",
    "tone = []\n",
    "files = []\n",
    "lists = []\n",
    "tones = []\n",
    "# start = 0\n",
    "# end = 50\n",
    "positive = np.zeros((558,))\n",
    "negative = np.zeros((500,))\n",
    "\n",
    "data2 = pd.DataFrame()\n",
    "dataLag = pd.DataFrame()\n",
    "# dataLag['1/lag'] = np.zeros(76)\n",
    "# dataLag['max'] = np.zeros(76)\n",
    "\n",
    "# print(d.shape)\n",
    "for i in dirs:\n",
    "    y, sr= librosa.load('/Users/alia/Documents/dura/userdata/ashafi/alia_temp_1/stimwav/' + i, sr = 1000) ##changes the sr to 1000\n",
    "    a= librosa.load('/Users/alia/Documents/dura/userdata/ashafi/alia_temp_1/stimwav/' + i, sr = 1000) ##changes the sr to 1000\n",
    "    y = np.append(y,positive)\n",
    "    y = np.insert(y,0,negative)\n",
    "    start = 0 \n",
    "    end = 80\n",
    "    cor = np.zeros((72,80))\n",
    "    d = np.zeros((72,80))\n",
    "    dataLag[i] = np.zeros(76)\n",
    "    lag = []\n",
    "    #separate the data into times\n",
    "    for x in range(70):\n",
    "        index = list(range(start,end))\n",
    "        d[x,:] = y[index]        \n",
    "        end += 20\n",
    "        start += 20 \n",
    "\n",
    "    # # do autocorr on all bins \n",
    "    for bins in range(0,d.shape[0]): \n",
    "        cor[bins,:] = autocorr(d[bins,:])\n",
    "    data2[i] = np.zeros(71)\n",
    "    maxs = []\n",
    "    lags1 = []\n",
    "    for bins in range(1,cor.shape[0]): \n",
    "        maxx = max(cor[bins,:])\n",
    "        lags = np.where(cor[bins] == maxx)[0]\n",
    "#         lags = np.array(lags).tolist()\n",
    "        maxs.append(maxx)\n",
    "#     dataLag[i] = 1/lags\n",
    "\n",
    "    for j in range(0,cor.shape[0]):\n",
    "        nozero = cor[j,2:15]\n",
    "        maxes = max(nozero)\n",
    "        for time in range(2,15):\n",
    "            if cor[j,time] == maxes:\n",
    "                dataLag[i][j] = 1/time\n",
    "#                 dataLag['max_' + str(i)][j] = cor[j,time]\n",
    "    norms = []\n",
    "    for m in maxs:\n",
    "        high = max(maxs)\n",
    "        low = min(maxs)\n",
    "        n = 2*((m-low)/(high-low)) - 1\n",
    "        norms.append(n)\n",
    "    data2[i] = norms\n",
    "dataBin = pd.DataFrame()\n",
    "a = [x for x in range(len(dataLag))]\n",
    "dataBin['bin'] = a \n",
    "\n",
    "#     test.append(y)\n",
    "#     f,t, Sxx = signal.spectrogram(y, sr, noverlap = 76, nperseg =90)\n",
    "#     Sxx = np.array(Sxx).tolist()\n",
    "#     tones.append(Sxx)\n"
   ]
  },
  {
   "cell_type": "code",
   "execution_count": 71,
   "metadata": {},
   "outputs": [
    {
     "name": "stdout",
     "output_type": "stream",
     "text": [
      "[ -8.63500918e-06   2.61521345e-04  -4.40079981e-04   1.13998447e-03\n",
      "  -6.87448250e-04   1.64007710e-03  -1.12891814e-03   1.48929830e-03\n",
      "  -1.08945207e-03   7.66726676e-04  -4.37752431e-04  -1.72231218e-03\n",
      "  -4.27993873e-05  -1.71496794e-02  -1.48656936e-02  -4.55838256e-02\n",
      "  -3.15019973e-02  -1.07706003e-02  -2.64385808e-02   7.13690743e-03\n",
      "   1.10121928e-02   2.05411110e-02   1.93130784e-02   1.58290435e-02\n",
      "   4.24143709e-02   8.14703330e-02   9.79294777e-02   1.16192155e-01\n",
      "   1.27444699e-01   8.28920454e-02   7.15974793e-02  -5.41907027e-02\n",
      "  -2.74633974e-01  -2.44756326e-01  -5.53977527e-02  -5.14748693e-02\n",
      "  -1.78067237e-02   1.46352584e-02  -3.59074026e-02  -2.71918010e-02\n",
      "  -7.33065680e-02   1.05616927e-01   1.99395433e-01   6.27968162e-02\n",
      "  -7.08282134e-03  -7.03262389e-02  -1.18057951e-01  -9.76013988e-02\n",
      "   9.79639292e-02   3.74356024e-02  -2.65395753e-02  -3.39661613e-02\n",
      "  -1.28058583e-01   1.52561978e-01   1.11532435e-01  -4.23345007e-02\n",
      "  -1.06055522e-02  -1.44969344e-01   9.92245227e-02   1.58238336e-01\n",
      "  -4.24992442e-02   3.19182314e-03  -1.52623758e-01   1.18808430e-02\n",
      "   1.58576265e-01  -7.01780468e-02   3.73699330e-02  -8.44539925e-02\n",
      "   1.31319612e-02   2.07386091e-01  -1.13576196e-01  -1.96949150e-02\n",
      "  -7.66676143e-02  -1.33706620e-02   2.22084373e-01  -1.21032968e-01\n",
      "  -4.48945127e-02  -6.60449341e-02  -2.31237151e-02   2.24775285e-01\n",
      "  -1.25342041e-01  -5.35230264e-02  -5.80635294e-02  -2.05521993e-02\n",
      "   2.25458741e-01  -1.31341070e-01  -5.12615629e-02  -5.02896011e-02\n",
      "   1.84359141e-02   2.37648189e-01  -1.54286519e-01  -4.79832776e-02\n",
      "  -6.15904145e-02   6.02149516e-02   2.18406036e-01  -1.88736811e-01\n",
      "  -3.37289423e-02  -7.01229870e-02   1.36315539e-01   1.45627737e-01\n",
      "  -2.00469598e-01  -1.16067342e-02  -7.43826926e-02   2.17882797e-01\n",
      "   2.92888805e-02  -1.74386382e-01  -2.35811248e-02  -1.52337253e-02\n",
      "   2.50199407e-01  -1.07004337e-01  -1.09283060e-01  -4.92073707e-02\n",
      "   1.07138060e-01   1.62679091e-01  -1.83398187e-01  -5.72961494e-02\n",
      "  -4.87894081e-02   2.14078382e-01  -1.06642256e-02  -1.52912706e-01\n",
      "  -3.93239930e-02   5.40398210e-02   2.16848791e-01  -1.47791624e-01\n",
      "  -7.82348737e-02  -4.18277495e-02   1.87717035e-01   6.59109578e-02\n",
      "  -1.74950704e-01  -3.62901427e-02   2.23292280e-02   2.24910975e-01\n",
      "  -1.17592104e-01  -1.11140676e-01  -4.43367213e-02   1.47823602e-01\n",
      "   1.13072127e-01  -1.84708953e-01  -4.33742665e-02  -7.93224853e-03\n",
      "   2.22410768e-01  -6.86895922e-02  -1.25251666e-01  -4.06302512e-02\n",
      "   9.95246544e-02   1.62177101e-01  -1.72130272e-01  -5.55031300e-02\n",
      "  -3.02391350e-02   2.05238372e-01  -1.91585869e-02  -1.49095058e-01\n",
      "  -3.41710672e-02   5.86277954e-02   1.97228283e-01  -1.46767274e-01\n",
      "  -6.93396628e-02  -3.99551876e-02   1.75485194e-01   3.27160135e-02\n",
      "  -1.69663429e-01  -3.64049934e-02   1.85903087e-02   2.05770880e-01\n",
      "  -1.28451005e-01  -9.89661068e-02  -4.37307581e-02   1.52147755e-01\n",
      "   1.04067184e-01  -1.72594845e-01  -3.69166359e-02  -2.71143718e-03\n",
      "   2.17209563e-01  -7.52757639e-02  -1.19498625e-01  -4.64885831e-02\n",
      "   1.10182069e-01   1.47833228e-01  -1.69021398e-01  -4.76245768e-02\n",
      "  -1.99728943e-02   2.12074175e-01  -2.54721902e-02  -1.32747993e-01\n",
      "  -3.47705930e-02   7.68215060e-02   1.82149559e-01  -1.52155161e-01\n",
      "  -5.85537553e-02  -3.45253237e-02   1.76899239e-01   1.38488058e-02\n",
      "  -1.51796713e-01  -4.71980050e-02   3.06344274e-02   1.78276345e-01\n",
      "  -1.28699794e-01  -7.00742826e-02  -3.83513384e-02   1.58857316e-01\n",
      "   5.28662167e-02  -1.47742689e-01  -3.95165011e-02   2.62963269e-02\n",
      "   1.88128725e-01  -1.00201190e-01  -8.87526423e-02  -3.18882242e-02\n",
      "   1.45535395e-01   6.92777932e-02  -1.39165729e-01  -4.30726111e-02\n",
      "   3.10050994e-02   1.75005108e-01  -8.16207156e-02  -1.10208951e-01\n",
      "  -3.47661190e-02   1.38440609e-01   6.18331097e-02  -1.36409506e-01\n",
      "  -5.21677546e-02   5.50923385e-02   1.50734901e-01  -8.57689902e-02\n",
      "  -1.03789724e-01   7.50976964e-04   1.43845409e-01   2.95905452e-02\n",
      "  -1.43281743e-01  -4.54401448e-02   8.89995843e-02   1.11064009e-01\n",
      "  -1.10755920e-01  -1.06631100e-01   5.40062673e-02   1.50004670e-01\n",
      "  -2.39309780e-02  -1.38711140e-01  -9.25275125e-03   1.28051594e-01\n",
      "   4.91615832e-02  -1.38856381e-01  -6.28069788e-02   1.00772962e-01\n",
      "   1.02366462e-01  -1.01243310e-01  -1.11506037e-01   7.19973296e-02\n",
      "   1.28943816e-01  -4.23286371e-02  -1.48497507e-01   2.09628548e-02\n",
      "   1.38367176e-01   6.83994358e-03  -1.42794847e-01  -3.51409391e-02\n",
      "   1.34178370e-01   6.44220039e-02  -1.28696382e-01  -7.69572183e-02\n",
      "   1.18651494e-01   9.95803401e-02  -9.37477350e-02  -1.12049848e-01\n",
      "   8.32491592e-02   1.29378036e-01  -5.53583875e-02  -1.32693037e-01\n",
      "   4.15622257e-02   1.42727613e-01  -2.40933765e-02  -1.47008210e-01\n",
      "   4.71226824e-03   1.40825927e-01   1.08549278e-02  -1.46220714e-01\n",
      "  -2.92013288e-02   1.35859132e-01   3.45797837e-02  -1.32347211e-01\n",
      "  -5.65799102e-02   1.23866946e-01   6.65873662e-02  -1.21476404e-01\n",
      "  -7.68776089e-02   1.20412827e-01   9.43346769e-02  -1.05508596e-01\n",
      "  -9.43713412e-02   1.06412098e-01   1.06966682e-01  -9.30371806e-02\n",
      "  -1.04869626e-01   8.77355933e-02   1.08259901e-01  -8.64253938e-02\n",
      "  -1.19600803e-01   7.60940909e-02   1.16034433e-01  -7.72188976e-02\n",
      "  -1.30563274e-01   5.22348136e-02   1.16065651e-01  -6.02667667e-02\n",
      "  -1.23136476e-01   5.78602999e-02   1.29268795e-01  -4.73371223e-02\n",
      "  -1.19989812e-01   4.97584790e-02   1.24517381e-01  -4.76521775e-02\n",
      "  -1.25953242e-01   4.30564210e-02   1.17368236e-01  -4.48648147e-02\n",
      "  -1.21473201e-01   4.30860594e-02   1.17766768e-01  -4.73745614e-02\n",
      "  -1.15258478e-01   5.09611405e-02   1.14126809e-01  -5.56193739e-02\n",
      "  -1.06523328e-01   5.97763583e-02   1.05072424e-01  -6.03952520e-02\n",
      "  -9.35198814e-02   7.37807527e-02   8.63924623e-02  -7.60849416e-02\n",
      "  -7.76155889e-02   8.54774565e-02   7.50125647e-02  -9.09065902e-02\n",
      "  -6.02448061e-02   9.65562388e-02   4.53650691e-02  -9.62416902e-02\n",
      "  -3.16868834e-02   9.76794139e-02   1.82733499e-02  -1.01939350e-01\n",
      "  -3.97923868e-03   9.46560055e-02  -1.65097173e-02  -8.93369764e-02\n",
      "   2.76914891e-02   7.73941427e-02  -4.58153971e-02  -7.21356645e-02\n",
      "   5.66147268e-02   5.78577034e-02  -7.23301768e-02  -4.13028859e-02\n",
      "   7.81660751e-02   2.23670565e-02  -7.52470940e-02   1.70517352e-03\n",
      "   7.81569406e-02  -1.87823400e-02  -6.55994341e-02   3.45671028e-02\n",
      "   5.15082292e-02  -5.25437035e-02  -3.99953984e-02   6.21864684e-02\n",
      "   1.61695611e-02  -6.95033520e-02   1.73161144e-03   6.69723749e-02\n",
      "  -3.24366726e-02  -4.72301282e-02   3.08981389e-02   2.88626458e-02\n",
      "  -2.26982869e-02  -1.83071494e-02   2.71209385e-02   1.04495315e-02\n",
      "  -2.99697891e-02   4.86098090e-03   2.69319676e-02  -1.31651005e-02\n",
      "  -1.92297250e-02   2.13361289e-02   1.38088446e-02  -2.70524733e-02\n",
      "   2.34564813e-03   2.28480380e-02  -9.86439548e-03  -1.73280910e-02\n",
      "   1.49942534e-02   8.99342541e-03  -1.90869141e-02   6.88815606e-04\n",
      "   1.55069949e-02  -6.45948155e-03  -1.25392415e-02   1.22449379e-02\n",
      "   7.49944663e-03  -1.48466369e-02   3.34286451e-04   1.04076182e-02\n",
      "  -4.97191772e-03  -8.47017951e-03   7.53586087e-03   3.15030129e-03\n",
      "  -6.79052435e-03   1.09415094e-03   5.67179359e-03  -1.35869661e-03\n",
      "  -3.19314329e-03   3.66500742e-03   1.69278111e-03  -2.89430213e-03\n",
      "   4.97240166e-04   3.70263308e-03  -8.88192386e-04  -1.59628806e-03\n",
      "   1.09943119e-03   8.53325240e-04  -5.77536004e-04  -9.42559156e-04\n",
      "  -4.82783158e-04   3.52664269e-04  -3.94617527e-04  -1.64950581e-03\n",
      "  -7.11504021e-04   1.14011476e-04  -8.13234015e-04  -4.45712096e-04\n",
      "   1.39378230e-04  -3.64250009e-04  -1.83646232e-04   4.83981625e-04\n",
      "  -3.47769208e-04  -5.13339124e-04   1.15396571e-04   1.29405289e-05\n",
      "  -8.42667723e-05   0.00000000e+00]\n"
     ]
    },
    {
     "ename": "NameError",
     "evalue": "name 'positive' is not defined",
     "output_type": "error",
     "traceback": [
      "\u001b[0;31m---------------------------------------------------------------------------\u001b[0m",
      "\u001b[0;31mNameError\u001b[0m                                 Traceback (most recent call last)",
      "\u001b[0;32m<ipython-input-71-d15ef56cac58>\u001b[0m in \u001b[0;36m<module>\u001b[0;34m()\u001b[0m\n\u001b[1;32m      1\u001b[0m \u001b[0my\u001b[0m\u001b[0;34m,\u001b[0m \u001b[0msr\u001b[0m\u001b[0;34m=\u001b[0m \u001b[0mlibrosa\u001b[0m\u001b[0;34m.\u001b[0m\u001b[0mload\u001b[0m\u001b[0;34m(\u001b[0m\u001b[0;34m'/Users/alia/Documents/dura/userdata/ashafi/alia_temp_1/stimwav/bu2-hN.wav'\u001b[0m\u001b[0;34m,\u001b[0m \u001b[0msr\u001b[0m \u001b[0;34m=\u001b[0m \u001b[0;36m1000\u001b[0m\u001b[0;34m)\u001b[0m \u001b[0;31m##changes the sr to 1000\u001b[0m\u001b[0;34m\u001b[0m\u001b[0m\n\u001b[1;32m      2\u001b[0m \u001b[0mprint\u001b[0m\u001b[0;34m(\u001b[0m\u001b[0my\u001b[0m\u001b[0;34m)\u001b[0m\u001b[0;34m\u001b[0m\u001b[0m\n\u001b[0;32m----> 3\u001b[0;31m \u001b[0my\u001b[0m \u001b[0;34m=\u001b[0m \u001b[0mnp\u001b[0m\u001b[0;34m.\u001b[0m\u001b[0mappend\u001b[0m\u001b[0;34m(\u001b[0m\u001b[0my\u001b[0m\u001b[0;34m,\u001b[0m\u001b[0mpositive\u001b[0m\u001b[0;34m)\u001b[0m\u001b[0;34m\u001b[0m\u001b[0m\n\u001b[0m\u001b[1;32m      4\u001b[0m \u001b[0my\u001b[0m \u001b[0;34m=\u001b[0m \u001b[0mnp\u001b[0m\u001b[0;34m.\u001b[0m\u001b[0minsert\u001b[0m\u001b[0;34m(\u001b[0m\u001b[0my\u001b[0m\u001b[0;34m,\u001b[0m\u001b[0;36m0\u001b[0m\u001b[0;34m,\u001b[0m\u001b[0mnegative\u001b[0m\u001b[0;34m)\u001b[0m\u001b[0;34m\u001b[0m\u001b[0m\n\u001b[1;32m      5\u001b[0m \u001b[0mf\u001b[0m\u001b[0;34m,\u001b[0m\u001b[0mt\u001b[0m\u001b[0;34m,\u001b[0m \u001b[0mSxx\u001b[0m \u001b[0;34m=\u001b[0m \u001b[0msignal\u001b[0m\u001b[0;34m.\u001b[0m\u001b[0mspectrogram\u001b[0m\u001b[0;34m(\u001b[0m\u001b[0my\u001b[0m\u001b[0;34m,\u001b[0m \u001b[0msr\u001b[0m\u001b[0;34m,\u001b[0m \u001b[0mnoverlap\u001b[0m \u001b[0;34m=\u001b[0m \u001b[0;36m76\u001b[0m\u001b[0;34m,\u001b[0m \u001b[0mnperseg\u001b[0m \u001b[0;34m=\u001b[0m\u001b[0;36m90\u001b[0m\u001b[0;34m)\u001b[0m\u001b[0;34m\u001b[0m\u001b[0m\n",
      "\u001b[0;31mNameError\u001b[0m: name 'positive' is not defined"
     ]
    }
   ],
   "source": [
    "y, sr= librosa.load('/Users/alia/Documents/dura/userdata/ashafi/alia_temp_1/stimwav/bu2-hN.wav', sr = 1000) ##changes the sr to 1000\n",
    "print(y)\n",
    "y = np.append(y,positive)\n",
    "y = np.insert(y,0,negative)\n",
    "f,t, Sxx = signal.spectrogram(y, sr, noverlap = 76, nperseg =90)\n",
    "plt.pcolormesh(t,f,Sxx, vmax = np.percentile(Sxx.flatten(), 99.9))\n",
    "plt.show()"
   ]
  },
  {
   "cell_type": "code",
   "execution_count": 72,
   "metadata": {},
   "outputs": [
    {
     "name": "stdout",
     "output_type": "stream",
     "text": [
      "[[[-0.54964532 -0.85089145  0.15630756 ..., -0.30462549 -0.58544247\n",
      "   -2.08180229]\n",
      "  [-0.8449198  -1.49285576  1.30485145 ..., -0.1935044   0.21097803\n",
      "   -0.7230616 ]\n",
      "  [-1.09739037 -2.83126331 -2.76813271 ..., -0.90556531  0.3625331\n",
      "    4.31566008]\n",
      "  ..., \n",
      "  [-1.33725296 -0.33379846  1.07321698 ...,  1.6047827   0.06649576\n",
      "   -2.0008033 ]\n",
      "  [ 0.63636581  0.38340961  0.90760189 ..., -1.83472153 -3.95737283\n",
      "   -3.73681052]\n",
      "  [-1.66031409 -0.12344937  1.47235915 ...,  0.0267786   3.86246069\n",
      "    3.32014262]]]\n"
     ]
    }
   ],
   "source": [
    "print(myhg)"
   ]
  },
  {
   "cell_type": "code",
   "execution_count": 158,
   "metadata": {},
   "outputs": [
    {
     "data": {
      "image/png": "[encoded data removed]",
      "text/plain": [
       "<matplotlib.figure.Figure at 0x1c2255dc88>"
      ]
     },
     "metadata": {},
     "output_type": "display_data"
    }
   ],
   "source": [
    "p = 1\n",
    "fig = plt.figure(figsize = (30,30))\n",
    "for i in dataLag:\n",
    "    plt.subplot(10,8,p)\n",
    "    plt.scatter(dataBin['bin'],dataLag[i])\n",
    "    plt.title(i)\n",
    "    plt.ylabel('1/lag')\n",
    "    plt.xlabel('bin#')\n",
    "    p += 1 \n",
    "plt.tight_layout()\n",
    "plt.show()"
   ]
  },
  {
   "cell_type": "code",
   "execution_count": 40,
   "metadata": {},
   "outputs": [
    {
     "name": "stdout",
     "output_type": "stream",
     "text": [
      "80\n"
     ]
    }
   ],
   "source": [
    "print(len(tones))"
   ]
  },
  {
   "cell_type": "markdown",
   "metadata": {},
   "source": [
    "## Autocorr wav file x stim"
   ]
  },
  {
   "cell_type": "markdown",
   "metadata": {},
   "source": [
    "### trial x correlation coefficient for 60 ms delay"
   ]
  },
  {
   "cell_type": "code",
   "execution_count": 11,
   "metadata": {},
   "outputs": [
    {
     "name": "stderr",
     "output_type": "stream",
     "text": [
      "/Users/alia/anaconda3/lib/python3.6/site-packages/ipykernel_launcher.py:9: VisibleDeprecationWarning: using a non-integer number instead of an integer will result in an error in the future\n",
      "  if __name__ == '__main__':\n"
     ]
    }
   ],
   "source": [
    "##Create overlaping time bins (40ms time bins overlaped by 20ms)\n",
    "##this exports a dataframe for each trial, autocorrelated and normalized from -1 to 1\n",
    "import pandas as pd\n",
    "import itertools\n",
    "import matplotlib as pyplot\n",
    "\n",
    "dataFFR = pd.DataFrame()\n",
    "dataLag = pd.DataFrame()\n",
    "\n",
    "test = np.where((behav['block'] < 11))[0]\n",
    "# test.tolist()\n",
    "# print(test)\n",
    "\n",
    "# myhg = np.mean(hg_stim[myidx, :, 15], axis = 0)\n",
    "\n",
    "\n",
    "for i in test:\n",
    "    file = behav['file'][i]\n",
    "#     data[file] = np.zeros(23)\n",
    "    myhg = hg_stim[i, :, 15]\n",
    "#     print(len(myhg))\n",
    "    start = -500 \n",
    "    end = -420\n",
    "\n",
    "    cor = np.zeros((72,81))\n",
    "    d = np.zeros((72,81))\n",
    "    dataLag = pd.DataFrame()\n",
    "    dataLag[i] = np.zeros(76)\n",
    "\n",
    "# #separate the data into times\n",
    "    for x in range(0,72):\n",
    "        index = np.where((time_axis <= end) & (time_axis >= start))[0]\n",
    "        d[x,:] = myhg[index]\n",
    "    #     d[\"bin{0}\".format(x)]= myhg[index]\n",
    "        end += 20\n",
    "        start += 20\n",
    "\n",
    "# data2 = pd.DataFrame()\n",
    "# # do autocorr on all bins\n",
    "    maxs = []\n",
    "    lag = []\n",
    "    for bins in range(0,d.shape[0]):\n",
    "        cor[bins,:] = autocorr(d[bins,:]) ## run autocorrelation\n",
    "    for bins in range(1,cor.shape[0]): \n",
    "        maxx = max(cor[bins][2:15]) ##find the max\n",
    "        maxs.append(maxx) #add max to a list\n",
    "        lags = np.where(cor[bins] == maxx) ##finding the lag\n",
    "        lag.append(lags[0].tolist())\n",
    "        for time in range(2,15):\n",
    "                if cor[bins,time] == maxx:\n",
    "                    dataLag[i][time] = 1/time\n",
    "\n",
    "##Normalized from -1 to 1\n",
    "    norms = []\n",
    "    for m in maxs:\n",
    "        high = max(maxs)\n",
    "        low = min(maxs)\n",
    "        n = 2*((m-low)/(high-low)) - 1\n",
    "        norms.append(n)\n",
    "    dataFFR[file + '_'+ str(i)] = norms\n",
    "    bins = [item for sublist in lag for item in sublist]\n",
    "    lags = [1/x for x in bins]\n",
    "    dataFFR['bin_' + str(i)] = bins\n",
    "    dataFFR['lag_' + str(i)] = lags\n",
    "\n",
    "dataFFR = dataFFR\n",
    "    ### get lags-1\n",
    "#     lag = list(itertools.chain.from_iterable(lag))\n",
    "#     print(lag)\n",
    "#     lags = [1/x for x in lag]"
   ]
  },
  {
   "cell_type": "code",
   "execution_count": null,
   "metadata": {
    "collapsed": true
   },
   "outputs": [],
   "source": []
  },
  {
   "cell_type": "code",
   "execution_count": 248,
   "metadata": {},
   "outputs": [
    {
     "name": "stdout",
     "output_type": "stream",
     "text": [
      "yes\n",
      "yes\n",
      "yes\n",
      "yes\n",
      "yes\n",
      "yes\n",
      "yes\n",
      "yes\n",
      "yes\n",
      "yes\n",
      "yes\n",
      "yes\n"
     ]
    }
   ],
   "source": [
    "import statsmodels.api as sm\n",
    "\n",
    "## read through the stim autocorr\n",
    "'''data2 is the individual stim, dataFFR is the neural response'''\n",
    "f = 1\n",
    "corr_trial = pd.DataFrame()\n",
    "trial = 0\n",
    "cors = []\n",
    "trials = []\n",
    "l = 1\n",
    "corr_trial[tones[t]] = np.zeros(80)\n",
    "corr_trial['trials'] = np.zeros(80)\n",
    "for j in data2:\n",
    "    for i in dataFFR:\n",
    "        if 'ma1-hN.wav' == j:\n",
    "            if j[0:5] in i:\n",
    "                print('yes')\n",
    "                cor = np.corrcoef(dataFFR[i][28:43],data2[j][25:40])[0][1]\n",
    "                ##this elicits a trial x correlation coefficient \n",
    "                cors.append(cor)\n",
    "                trials.append(trial)\n",
    "                trial+=1\n",
    "                l += 1\n",
    "corr_trial[tones[t]][0:len(cors)] = cors[0:len(cors)]\n",
    "corr_trial['trials'][0:len(trials)] = trials[0:len(trials)]\n",
    "f+=1\n",
    "        # #             if cor > 8:\n",
    "        #             plt.scatter(trial, cor)\n",
    "\n",
    "\n",
    "\n",
    "# plt.tight_layout()\n",
    "# plt.show()"
   ]
  },
  {
   "cell_type": "code",
   "execution_count": null,
   "metadata": {
    "collapsed": true
   },
   "outputs": [],
   "source": []
  },
  {
   "cell_type": "code",
   "execution_count": 249,
   "metadata": {},
   "outputs": [
    {
     "data": {
      "image/png": "[encoded data removed]",
      "text/plain": [
       "<matplotlib.figure.Figure at 0x1c30644c88>"
      ]
     },
     "metadata": {},
     "output_type": "display_data"
    }
   ],
   "source": [
    "fig = plt.figure(figsize = (20,10))\n",
    "trials = corr_trial['trials']\n",
    "cors = corr_trial[c]\n",
    "plt.scatter(corr_trial['trials'],corr_trial[c])\n",
    "z = np.polyfit(trials, cors, 1)\n",
    "p = np.poly1d(z)\n",
    "plt.plot(trials,p(trials),\"r--\")\n",
    "plt.title('ma2-hN.wav')\n",
    "plt.ylabel('correlation coefficient')\n",
    "plt.xlabel('trial')\n",
    "tx += 1\n",
    "f+=1\n",
    "plt.show()"
   ]
  },
  {
   "cell_type": "code",
   "execution_count": 26,
   "metadata": {},
   "outputs": [
    {
     "data": {
      "image/png": "[encoded data removed]",
      "text/plain": [
       "<matplotlib.figure.Figure at 0x1c15dc6828>"
      ]
     },
     "metadata": {},
     "output_type": "display_data"
    }
   ],
   "source": [
    "import statsmodels.api as sm\n",
    "\n",
    "## read through the stim autocorr\n",
    "'''data2 is the individual stim, dataFFR is the neural response'''\n",
    "corr_trial = pd.DataFrame()\n",
    "trial = 0\n",
    "fig = plt.figure(figsize = (50,20))\n",
    "cors = []\n",
    "trials = []\n",
    "l = 1\n",
    "for j in data2:\n",
    "    for i in dataFFR_block18:\n",
    "        if j[0:5] in i:\n",
    "            cor = np.corrcoef(dataFFR_block18[i][28:43],data2[j][25:40])[0][1]\n",
    "            ##this elicits a trial x correlation coefficient \n",
    "            corr_trial[i] = cor\n",
    "#             z = max(cor)\n",
    "            cors.append(cor)\n",
    "            trials.append(trial)\n",
    "#           plt.plot(cor)\n",
    "            trial+=1\n",
    "            l += 1\n",
    "# #             if cor > 8:\n",
    "#          plt.scatter(trial, cor)\n",
    "plt.subplot(2,5,1)\n",
    "plt.scatter(trials, cors)\n",
    "plt.title('Trial x Correlation Coefficient for 60 ms delay Block 18')\n",
    "z = np.polyfit(trials, cors, 1)\n",
    "p = np.poly1d(z)\n",
    "plt.plot(trials,p(trials),\"r--\")\n",
    "corr_trial\n",
    "\n",
    "## read through the stim autocorr\n",
    "'''data2 is the individual stim, dataFFR is the neural response'''\n",
    "corr_trial = pd.DataFrame()\n",
    "trial = 0\n",
    "cors = []\n",
    "trials = []\n",
    "l = 1\n",
    "for j in data2:\n",
    "    for i in dataFFR_block19:\n",
    "        if j[0:5] in i:\n",
    "            cor = np.corrcoef(dataFFR_block19[i][28:43],data2[j][25:40])[0][1]\n",
    "            ##this elicits a trial x correlation coefficient \n",
    "            corr_trial[i] = cor\n",
    "#             z = max(cor)\n",
    "            cors.append(cor)\n",
    "            trials.append(trial)\n",
    "#           plt.plot(cor)\n",
    "            trial+=1\n",
    "            l += 1\n",
    "# #             if cor > 8:\n",
    "#          plt.scatter(trial, cor)\n",
    "plt.subplot(2,5,2)\n",
    "plt.scatter(trials, cors)\n",
    "plt.title('Trial x Correlation Coefficient for 60 ms delay Block 19')\n",
    "z = np.polyfit(trials, cors, 1)\n",
    "p = np.poly1d(z)\n",
    "plt.plot(trials,p(trials),\"r--\")\n",
    "corr_trial\n",
    "\n",
    "## read through the stim autocorr\n",
    "'''data2 is the individual stim, dataFFR is the neural response'''\n",
    "corr_trial = pd.DataFrame()\n",
    "trial = 0\n",
    "cors = []\n",
    "trials = []\n",
    "l = 1\n",
    "for j in data2:\n",
    "    for i in dataFFR_block20:\n",
    "        if j[0:5] in i:\n",
    "            cor = np.corrcoef(dataFFR_block20[i][28:43],data2[j][25:40])[0][1]\n",
    "            ##this elicits a trial x correlation coefficient \n",
    "            corr_trial[i] = cor\n",
    "#             z = max(cor)\n",
    "            cors.append(cor)\n",
    "            trials.append(trial)\n",
    "#           plt.plot(cor)\n",
    "            trial+=1\n",
    "            l += 1\n",
    "# #             if cor > 8:\n",
    "#          plt.scatter(trial, cor)\n",
    "plt.subplot(2,5,3)\n",
    "plt.scatter(trials, cors)\n",
    "plt.title('Trial x Correlation Coefficient for 60 ms delay Block 20')\n",
    "z = np.polyfit(trials, cors, 1)\n",
    "p = np.poly1d(z)\n",
    "plt.plot(trials,p(trials),\"r--\")\n",
    "corr_trial\n",
    "\n",
    "\n",
    "# ## read through the stim autocorr\n",
    "# '''data2 is the individual stim, dataFFR is the neural response'''\n",
    "# corr_trial = pd.DataFrame()\n",
    "# trial = 0\n",
    "# cors = []\n",
    "# trials = []\n",
    "# l = 1\n",
    "# for j in data2:\n",
    "#     for i in dataFFR_block4:\n",
    "#         if j[0:5] in i:\n",
    "#             cor = np.corrcoef(dataFFR_block4[i][28:43],data2[j][25:40])[0][1]\n",
    "#             ##this elicits a trial x correlation coefficient \n",
    "#             corr_trial[i] = cor\n",
    "# #             z = max(cor)\n",
    "#             cors.append(cor)\n",
    "#             trials.append(trial)\n",
    "# #           plt.plot(cor)\n",
    "#             trial+=1\n",
    "#             l += 1\n",
    "# # #             if cor > 8:\n",
    "# #          plt.scatter(trial, cor)\n",
    "# plt.subplot(2,5,4)\n",
    "# plt.scatter(trials, cors)\n",
    "# plt.title('Trial x Correlation Coefficient for 60 ms delay Block 4')\n",
    "# z = np.polyfit(trials, cors, 1)\n",
    "# p = np.poly1d(z)\n",
    "# plt.plot(trials,p(trials),\"r--\")\n",
    "# corr_trial\n",
    "\n",
    "\n",
    "# ## read through the stim autocorr\n",
    "# '''data2 is the individual stim, dataFFR is the neural response'''\n",
    "# corr_trial = pd.DataFrame()\n",
    "# trial = 0\n",
    "# cors = []\n",
    "# trials = []\n",
    "# l = 1\n",
    "# for j in data2:\n",
    "#     for i in dataFFR_block5:\n",
    "#         if j[0:5] in i:\n",
    "#             cor = np.corrcoef(dataFFR_block5[i][28:43],data2[j][25:40])[0][1]\n",
    "#             ##this elicits a trial x correlation coefficient \n",
    "#             corr_trial[i] = cor\n",
    "# #             z = max(cor)\n",
    "#             cors.append(cor)\n",
    "#             trials.append(trial)\n",
    "# #           plt.plot(cor)\n",
    "#             trial+=1\n",
    "#             l += 1\n",
    "# # #             if cor > 8:\n",
    "# #          plt.scatter(trial, cor)\n",
    "# plt.subplot(2,5,5)\n",
    "# plt.scatter(trials, cors)\n",
    "# plt.title('Trial x Correlation Coefficient for 60 ms delay Block 5')\n",
    "# z = np.polyfit(trials, cors, 1)\n",
    "# p = np.poly1d(z)\n",
    "# plt.plot(trials,p(trials),\"r--\")\n",
    "# corr_trial\n",
    "\n",
    "\n",
    "# ## read through the stim autocorr\n",
    "# '''data2 is the individual stim, dataFFR is the neural response'''\n",
    "# corr_trial = pd.DataFrame()\n",
    "# trial = 0\n",
    "# cors = []\n",
    "# trials = []\n",
    "# l = 1\n",
    "# for j in data2:\n",
    "#     for i in dataFFR_block6:\n",
    "#         if j[0:5] in i:\n",
    "#             cor = np.corrcoef(dataFFR_block6[i][28:43],data2[j][25:40])[0][1]\n",
    "#             ##this elicits a trial x correlation coefficient \n",
    "#             corr_trial[i] = cor\n",
    "# #             z = max(cor)\n",
    "#             cors.append(cor)\n",
    "#             trials.append(trial)\n",
    "# #           plt.plot(cor)\n",
    "#             trial+=1\n",
    "#             l += 1\n",
    "# # #             if cor > 8:\n",
    "# #          plt.scatter(trial, cor)\n",
    "# plt.subplot(2,5,6)\n",
    "# plt.scatter(trials, cors)\n",
    "# plt.title('Trial x Correlation Coefficient for 60 ms delay Block 6')\n",
    "# z = np.polyfit(trials, cors, 1)\n",
    "# p = np.poly1d(z)\n",
    "# plt.plot(trials,p(trials),\"r--\")\n",
    "# corr_trial\n",
    "\n",
    "\n",
    "# ## read through the stim autocorr\n",
    "# '''data2 is the individual stim, dataFFR is the neural response'''\n",
    "# corr_trial = pd.DataFrame()\n",
    "# trial = 0\n",
    "# cors = []\n",
    "# trials = []\n",
    "# l = 1\n",
    "# for j in data2:\n",
    "#     for i in dataFFR_block7:\n",
    "#         if j[0:5] in i:\n",
    "#             cor = np.corrcoef(dataFFR_block7[i][28:43],data2[j][25:40])[0][1]\n",
    "#             ##this elicits a trial x correlation coefficient \n",
    "#             corr_trial[i] = cor\n",
    "# #             z = max(cor)\n",
    "#             cors.append(cor)\n",
    "#             trials.append(trial)\n",
    "# #           plt.plot(cor)\n",
    "#             trial+=1\n",
    "#             l += 1\n",
    "# # #             if cor > 8:\n",
    "# #          plt.scatter(trial, cor)\n",
    "# plt.subplot(2,5,7)\n",
    "# plt.scatter(trials, cors)\n",
    "# plt.title('Trial x Correlation Coefficient for 60 ms delay Block 7')\n",
    "# z = np.polyfit(trials, cors, 1)\n",
    "# p = np.poly1d(z)\n",
    "# plt.plot(trials,p(trials),\"r--\")\n",
    "# corr_trial\n",
    "\n",
    "\n",
    "# ## read through the stim autocorr\n",
    "# '''data2 is the individual stim, dataFFR is the neural response'''\n",
    "# corr_trial = pd.DataFrame()\n",
    "# trial = 0\n",
    "# cors = []\n",
    "# trials = []\n",
    "# l = 1\n",
    "# for j in data2:\n",
    "#     for i in dataFFR_block8:\n",
    "#         if j[0:5] in i:\n",
    "#             cor = np.corrcoef(dataFFR_block8[i][28:43],data2[j][25:40])[0][1]\n",
    "#             ##this elicits a trial x correlation coefficient \n",
    "#             corr_trial[i] = cor\n",
    "# #             z = max(cor)\n",
    "#             cors.append(cor)\n",
    "#             trials.append(trial)\n",
    "# #           plt.plot(cor)\n",
    "#             trial+=1\n",
    "#             l += 1\n",
    "# # #             if cor > 8:\n",
    "# #          plt.scatter(trial, cor)\n",
    "# plt.subplot(2,5,8)\n",
    "# plt.scatter(trials, cors)\n",
    "# plt.title('Trial x Correlation Coefficient for 60 ms delay Block 8')\n",
    "# z = np.polyfit(trials, cors, 1)\n",
    "# p = np.poly1d(z)\n",
    "# plt.plot(trials,p(trials),\"r--\")\n",
    "# corr_trial\n",
    "\n",
    "\n",
    "# ## read through the stim autocorr\n",
    "# '''data2 is the individual stim, dataFFR is the neural response'''\n",
    "# corr_trial = pd.DataFrame()\n",
    "# trial = 0\n",
    "# cors = []\n",
    "# trials = []\n",
    "# l = 1\n",
    "# for j in data2:\n",
    "#     for i in dataFFR_block9:\n",
    "#         if j[0:5] in i:\n",
    "#             cor = np.corrcoef(dataFFR_block9[i][28:43],data2[j][25:40])[0][1]\n",
    "#             ##this elicits a trial x correlation coefficient \n",
    "#             corr_trial[i] = cor\n",
    "# #             z = max(cor)\n",
    "#             cors.append(cor)\n",
    "#             trials.append(trial)\n",
    "# #           plt.plot(cor)\n",
    "#             trial+=1\n",
    "#             l += 1\n",
    "# # #             if cor > 8:\n",
    "# #          plt.scatter(trial, cor)\n",
    "# plt.subplot(2,5,9)\n",
    "# plt.scatter(trials, cors)\n",
    "# plt.title('Trial x Correlation Coefficient for 60 ms delay Block 9')\n",
    "# z = np.polyfit(trials, cors, 1)\n",
    "# p = np.poly1d(z)\n",
    "# plt.plot(trials,p(trials),\"r--\")\n",
    "\n",
    "plt.show()\n",
    "\n",
    "# corr_trial\n",
    "\n",
    "\n"
   ]
  },
  {
   "cell_type": "code",
   "execution_count": 180,
   "metadata": {},
   "outputs": [
    {
     "name": "stdout",
     "output_type": "stream",
     "text": [
      "1540\n"
     ]
    }
   ],
   "source": [
    "for y in range(len(cors)):\n",
    "    if cors[y] == max(cors):\n",
    "        print(y)"
   ]
  },
  {
   "cell_type": "code",
   "execution_count": 184,
   "metadata": {},
   "outputs": [
    {
     "data": {
      "image/png": "[encoded data removed]",
      "text/plain": [
       "<matplotlib.figure.Figure at 0x1c20f07ef0>"
      ]
     },
     "metadata": {},
     "output_type": "display_data"
    },
    {
     "name": "stdout",
     "output_type": "stream",
     "text": [
      "bu2-hN\n"
     ]
    }
   ],
   "source": [
    "myhg = hg_stim[1540, :, 15]\n",
    "myhg = myhg[(time_axis >= -500) & (time_axis <= 1000)]\n",
    "fs = 1000\n",
    "f,t, Sxx = signal.spectrogram(myhg, fs, noverlap = 76, nperseg =90)\n",
    "plt.pcolormesh(t,f,Sxx, vmax = np.percentile(Sxx.flatten(), 99.9))\n",
    "plt.show()\n",
    "\n",
    "print(behav['file'][1540])"
   ]
  },
  {
   "cell_type": "code",
   "execution_count": null,
   "metadata": {
    "collapsed": true
   },
   "outputs": [],
   "source": [
    "for j in data2:\n",
    "    for i in dataFFR:\n",
    "        if j[0:5] in i:\n",
    "            cor = np.corrcoef(dataFFR[i][28:43],data2[j][25:40])[0][1]\n",
    "            ##this elicits a trial x correlation coefficient \n",
    "            corr_trial[i] = cor\n",
    "#             z = max(cor)\n",
    "            cors.append(cor)\n",
    "            trials.append(trial)\n",
    "#           plt.plot(cor)\n",
    "            trial+=1\n",
    "# #             if cor > 8:\n",
    "#             plt.scatter(trial, cor)\n",
    "plt.boxplot(trials, cors)\n",
    "plt.title('Trial x Correlation Coefficient for 60 ms delay')\n",
    "plt.show()\n",
    "corr_trial\n"
   ]
  },
  {
   "cell_type": "markdown",
   "metadata": {},
   "source": [
    "## Autocorr Wav File x Stim"
   ]
  },
  {
   "cell_type": "code",
   "execution_count": null,
   "metadata": {
    "collapsed": true
   },
   "outputs": [],
   "source": []
  },
  {
   "cell_type": "code",
   "execution_count": null,
   "metadata": {
    "collapsed": true
   },
   "outputs": [],
   "source": [
    "##Autocorr on wav file\n",
    "start = 0 \n",
    "end = 40\n",
    "cor = np.zeros((73,40))\n",
    "d = np.zeros((73,40))\n",
    "lag = []\n",
    "#separate the data into times\n",
    "for x in range(53):\n",
    "    index = list(range(start,end))\n",
    "    d[x,:] = av[index]\n",
    "    end += 20\n",
    "    start += 20 \n",
    "data2 = pd.DataFrame()\n",
    "# # do autocorr on all bins \n",
    "for bins in range(0,d.shape[0]): \n",
    "    cor[bins,:] = autocorr(d[bins,:])\n",
    "\n",
    "data = pd.DataFrame()\n",
    "data['1/lag'] = np.zeros(73)\n",
    "data['max'] = np.zeros(73)\n",
    "# data['lag'] = np.zeros(5)\n",
    "##find 1/lag\n",
    "for i in range(0,cor.shape[1]):\n",
    "    if i > 0:\n",
    "        freqs = 1/i\n",
    "        freq.append(freqs)\n",
    "\n",
    "for j in range(0,cor.shape[0]):\n",
    "    nozero = cor[j,2:8]\n",
    "    maxes = max(nozero)\n",
    "    for time in range(2,8):\n",
    "        if cor[j,time] == maxes:\n",
    "            data['1/lag'][j] = 1/time\n",
    "            data['max'][j] = cor[j,time]\n",
    "a = [x for x in range(len(data))]\n",
    "data['bin'] = a\n",
    "plt.scatter(data['bin'],data['1/lag'])\n",
    "plt.xlabel('bin#')\n",
    "plt.ylabel('1/lag')\n",
    "plt.title(' max 1/lag vs bin number, ignoring lag values higher than 6')\n",
    "plt.show()\n",
    "\n",
    "t = np.where(data['1/lag'] == .2)\n",
    "\n",
    "dataWav1 = data\n",
    "print(t)"
   ]
  },
  {
   "cell_type": "markdown",
   "metadata": {},
   "source": [
    "## Plot AutoCorr 1/lag"
   ]
  },
  {
   "cell_type": "code",
   "execution_count": null,
   "metadata": {
    "collapsed": true
   },
   "outputs": [],
   "source": []
  },
  {
   "cell_type": "code",
   "execution_count": null,
   "metadata": {
    "collapsed": true
   },
   "outputs": [],
   "source": [
    "\n",
    "plt.scatter(range(len(lags)), lags)\n",
    "plt.xlabel('bin #', fontsize = 20.0)\n",
    "plt.ylabel('1/lag', fontsize = 20.0)\n",
    "plt.show()"
   ]
  },
  {
   "cell_type": "code",
   "execution_count": null,
   "metadata": {
    "collapsed": true
   },
   "outputs": [],
   "source": []
  },
  {
   "cell_type": "code",
   "execution_count": null,
   "metadata": {
    "collapsed": true
   },
   "outputs": [],
   "source": []
  },
  {
   "cell_type": "markdown",
   "metadata": {},
   "source": [
    "## Average Wav File"
   ]
  },
  {
   "cell_type": "code",
   "execution_count": null,
   "metadata": {
    "collapsed": true
   },
   "outputs": [],
   "source": [
    "##read wav file \n",
    "import scipy.io\n",
    "import os\n",
    "\n",
    "'''autocorr the stimulation wav files t = tone, p = b or h, male or female'''\n",
    "dirs = os.listdir('/Users/alia/Documents/dura/userdata/ashafi/alia_temp_1/stimwav/')\n",
    "tone = []\n",
    "files = []\n",
    "lists = []\n",
    "tones = []\n",
    "start = 0\n",
    "end = 50\n",
    "positive = np.zeros((558,))\n",
    "negative = np.zeros((500,))\n",
    "\n",
    "data = pd.DataFrame()\n",
    "\n",
    "# print(d.shape)\n",
    "for file in dirs:\n",
    "    if '1' in file:\n",
    "        tone.append(file)\n",
    "#         if 'b' in file[-7:-1]:\n",
    "#             tone.append(file)\n",
    "print(tone)\n",
    "\n",
    "test = []\n",
    "for i in tone:\n",
    "    y, sr= librosa.load('/Users/alia/Documents/dura/userdata/ashafi/alia_temp_1/stimwav/' + i, sr = 1000) ##changes the sr to 1000\n",
    "    a= librosa.load('/Users/alia/Documents/dura/userdata/ashafi/alia_temp_1/stimwav/' + i, sr = 1000) ##changes the sr to 1000\n",
    "    y = np.append(y,positive)\n",
    "    y = np.insert(y,0,negative)\n",
    "    test.append(y)\n",
    "    f,t, Sxx = signal.spectrogram(y, sr, noverlap = 76, nperseg =90)\n",
    "    Sxx = np.array(Sxx).tolist()\n",
    "    tones.append(Sxx)\n",
    "    \n",
    "t1 = t"
   ]
  },
  {
   "cell_type": "code",
   "execution_count": null,
   "metadata": {
    "collapsed": true
   },
   "outputs": [],
   "source": [
    "##average wav form of tones\n",
    "av = np.mean(test, axis = 0)\n",
    "plt.plot(av)\n",
    "plt.show()\n",
    "x = list(range(0,5))\n",
    "print(len(av))"
   ]
  },
  {
   "cell_type": "code",
   "execution_count": null,
   "metadata": {
    "collapsed": true
   },
   "outputs": [],
   "source": []
  },
  {
   "cell_type": "code",
   "execution_count": null,
   "metadata": {
    "collapsed": true
   },
   "outputs": [],
   "source": [
    "##Autocorr on wav file\n",
    "start = 0 \n",
    "end = 40\n",
    "cor = np.zeros((73,40))\n",
    "d = np.zeros((73,40))\n",
    "lag = []\n",
    "#separate the data into times\n",
    "for x in range(53):\n",
    "    index = list(range(start,end))\n",
    "    d[x,:] = av[index]\n",
    "    end += 20\n",
    "    start += 20 \n",
    "data2 = pd.DataFrame()\n",
    "# # do autocorr on all bins \n",
    "for bins in range(0,d.shape[0]): \n",
    "    cor[bins,:] = autocorr(d[bins,:])\n",
    "\n",
    "data = pd.DataFrame()\n",
    "data['1/lag'] = np.zeros(73)\n",
    "data['max'] = np.zeros(73)\n",
    "# data['lag'] = np.zeros(5)\n",
    "##find 1/lag\n",
    "for i in range(0,cor.shape[1]):\n",
    "    if i > 0:\n",
    "        freqs = 1/i\n",
    "        freq.append(freqs)\n",
    "\n",
    "for j in range(0,cor.shape[0]):\n",
    "    nozero = cor[j,2:8]\n",
    "    maxes = max(nozero)\n",
    "    for time in range(2,8):\n",
    "        if cor[j,time] == maxes:\n",
    "            data['1/lag'][j] = 1/time\n",
    "            data['max'][j] = cor[j,time]\n",
    "a = [x for x in range(len(data))]\n",
    "data['bin'] = a\n",
    "plt.scatter(data['bin'],data['1/lag'])\n",
    "plt.xlabel('bin#')\n",
    "plt.ylabel('1/lag')\n",
    "plt.title(' max 1/lag vs bin number, ignoring lag values higher than 6')\n",
    "plt.show()\n",
    "\n",
    "t = np.where(data['1/lag'] == .2)\n",
    "\n",
    "dataWav1 = data\n",
    "print(t)"
   ]
  },
  {
   "cell_type": "code",
   "execution_count": null,
   "metadata": {
    "collapsed": true
   },
   "outputs": [],
   "source": []
  },
  {
   "cell_type": "code",
   "execution_count": null,
   "metadata": {
    "collapsed": true
   },
   "outputs": [],
   "source": [
    "fig = plt.figure(figsize = (10,5))\n",
    "plt.subplot(1, 2, 1)\n",
    "plt.scatter(dataWav1['bin'][20:45], dataWav1['1/lag'][20:45])\n",
    "plt.title('Tone1 F0 contour')\n",
    "plt.subplot(1, 2, 2)\n",
    "plt.scatter(dataFFR1['bin'][20:45], dataFFR4['1/lag'][20:45])\n",
    "plt.title('Tone1 Elec16 F0 contour')\n",
    "plt.ylabel('1/lag')\n",
    "plt.xlabel('bin#')\n",
    "\n",
    "plt.show()"
   ]
  },
  {
   "cell_type": "code",
   "execution_count": null,
   "metadata": {
    "collapsed": true
   },
   "outputs": [],
   "source": [
    "plt.scatter(dataWav1['bin'][20:50], dataWav1['1/lag'][20:50])\n",
    "plt.scatter(dataFFR1['bin'][20:50], dataFFR1['1/lag'][20:50])\n",
    "plt.xlabel('bin#')\n",
    "plt.ylabel('1/lag')\n",
    "plt.title('Correlation between stim and FFR')\n",
    "plt.show()\n"
   ]
  },
  {
   "cell_type": "code",
   "execution_count": null,
   "metadata": {
    "collapsed": true
   },
   "outputs": [],
   "source": []
  },
  {
   "cell_type": "code",
   "execution_count": null,
   "metadata": {
    "collapsed": true,
    "scrolled": true
   },
   "outputs": [],
   "source": [
    "correlation1 = np.correlate(dataWav1['max'][24:60],dataFFR1['max'][24:60], 'same')\n",
    "# correlation2 = np.correlate(dataWav2['max'],dataFFR2['max'], 'same')\n",
    "# correlation3 = np.correlate(dataWav3['max'],dataFFR3['max'], 'same')\n",
    "# correlation4 = np.correlate(dataWav4['max'],dataFFR4['max'], 'same')\n",
    "# # plt.scatter(correlation, dataWav['1/lag'])\n",
    "# plt.show()\n",
    "plt.plot(correlation1, color='r')\n",
    "# plt.plot(correlation2, color='b')\n",
    "# plt.plot(correlation3, color='g')\n",
    "# plt.plot(correlation4, color='c')\n",
    "plt.title('Bin # vs Correlation')\n",
    "plt.xlabel('Bin#')\n",
    "plt.ylabel('R')\n",
    "plt.show()\n",
    "\n",
    "cors =  np.correlate(dataWav1['max'][24:60],dataFFR1['max'][24:60])\n",
    "print(cors)"
   ]
  },
  {
   "cell_type": "markdown",
   "metadata": {},
   "source": [
    "## Subplot"
   ]
  },
  {
   "cell_type": "code",
   "execution_count": null,
   "metadata": {
    "collapsed": true
   },
   "outputs": [],
   "source": [
    "myidx = np.where((behav['tone'] == 1) & (behav['speaker'] == 'b'))[0]\n",
    "myhg = np.mean(hg_stim[myidx, :, 15], axis = 0)\n",
    "myhg = myhg[(time_axis >= -300) & (time_axis <=800)]\n",
    "fs = 1000\n",
    "linex = [0,0,0,0,0]\n",
    "liney = [0,100,200,300,500]\n",
    "\n",
    "fig = plt.figure(figsize = (10,5))\n",
    "avg = np.mean(tones, axis = 0)\n",
    "librosa.output.write_wav('/Users/alia/Desktop/test.wav', avg, 1000)\n",
    "plt.subplot(1, 2, 1)\n",
    "t1 = np.subtract(t1,.3)\n",
    "plt.pcolormesh(t1,f,avg, vmax = np.percentile(avg.flatten(), 99.9))\n",
    "plt.plot(linex,liney, color = 'r')\n",
    "plt.title('Flat Tone', fontsize = 20)\n",
    "plt.xlabel('Time [sec]')\n",
    "plt.ylabel('Freq [Hz]')\n",
    "\n",
    "plt.subplot(1, 2, 2)\n",
    "f,t, Sxx = signal.spectrogram(myhg, fs, noverlap = 76, nperseg =90)\n",
    "t3 = np.subtract(t,.3)\n",
    "plt.pcolormesh(t3,f,Sxx, vmax = np.percentile(Sxx.flatten(), 99.9))\n",
    "plt.title('Neural Response', fontsize = 20)\n",
    "plt.xlabel('Time [sec]')\n",
    "plt.ylabel('Freq [Hz]')\n",
    "plt.plot(linex,liney, color = 'r')\n",
    "plt.tight_layout()\n",
    "plt.show()"
   ]
  },
  {
   "cell_type": "code",
   "execution_count": null,
   "metadata": {
    "collapsed": true
   },
   "outputs": [],
   "source": [
    "tone2 = plt.pcolormesh(t1,f,avg, vmax = np.percentile(avg.flatten(), 99.9))"
   ]
  },
  {
   "cell_type": "code",
   "execution_count": null,
   "metadata": {
    "collapsed": true
   },
   "outputs": [],
   "source": [
    "fig = plt.figure(figsize = (10,5))\n",
    "\n",
    "\n",
    "plt.subplot(1, 2, 1)\n",
    "plt.pcolormesh(t1,f,avg, vmax = np.percentile(avg.flatten(), 99.9))\n",
    "plt.plot(linex,liney, color = 'r')\n",
    "plt.title('Rising Tone', fontsize = 20)\n",
    "plt.xlabel('Time [sec]')\n",
    "plt.ylabel('Freq [Hz]')\n",
    "\n",
    "# plt.subplot(2, 2, 1)\n",
    "# tone2\n",
    "# plt.plot(linex,liney, color = 'r')\n",
    "# plt.title('Flat Tone', fontsize = 20)\n",
    "# plt.xlabel('Time [sec]')\n",
    "# plt.ylabel('Freq [Hz]')|\n",
    "\n",
    "# plt.subplot(1, 2, 2)\n",
    "# plt.scatter(dataWav['bin'], dataWav['1/lag'])\n",
    "# plt.scatter(dataWav2['bin'], dataWav2['1/lag'])\n",
    "# plt.title('Tone2 vs Tone1 F0 contour')\n",
    "# plt.ylabel('1/lag')\n",
    "# plt.xlabel('bin#')\n",
    "plt.show()"
   ]
  },
  {
   "cell_type": "markdown",
   "metadata": {},
   "source": [
    "## Cross Corr"
   ]
  },
  {
   "cell_type": "code",
   "execution_count": null,
   "metadata": {
    "collapsed": true
   },
   "outputs": [],
   "source": [
    "import matplotlib as pyplt\n",
    "##Get cross correlation between FFR and stim\n",
    "stim = pd.read_csv('autocorr_Mtone3_stim.csv',index_col=None, header=0, encoding = \"ISO-8859-1\")\n",
    "FFR = pd.read_csv('autocorr_tone3.csv',index_col=None, header=0, encoding = \"ISO-8859-1\")\n",
    "\n",
    "print(stim.shape)\n",
    "print(FFR.shape)\n",
    "#cross corr every bin \n",
    "crosscorr = []\n",
    "for a in FFR:\n",
    "    if a != 'bin0':\n",
    "        cross = np.correlate(stim[a],FFR[a])\n",
    "        crosscorr.append(cross)\n",
    "                                \n",
    "print(crosscorr)\n",
    "plt.scatter(crosscorr, range(len(crosscorr)))\n",
    "plt.title('Male Tone3 CrossCorr')\n",
    "plt.show()"
   ]
  },
  {
   "cell_type": "code",
   "execution_count": null,
   "metadata": {
    "collapsed": true
   },
   "outputs": [],
   "source": [
    "def load(file):\n",
    "    y, sr = librosa.load('/Users/alia/Documents/dura/userdata/ashafi/alia_temp_1/stimwav/' + file, sr = 1000) \n"
   ]
  },
  {
   "cell_type": "code",
   "execution_count": null,
   "metadata": {
    "collapsed": true
   },
   "outputs": [],
   "source": [
    "plt.figure(figsize=(12,4))\n",
    "plt.plot(np.linspace(-750, 750, 1501),myauto)\n",
    "plt.xlim(-100, 400)\n",
    "plt.show()"
   ]
  },
  {
   "cell_type": "code",
   "execution_count": null,
   "metadata": {
    "collapsed": true
   },
   "outputs": [],
   "source": [
    "myauto.shape"
   ]
  },
  {
   "cell_type": "code",
   "execution_count": null,
   "metadata": {
    "collapsed": true
   },
   "outputs": [],
   "source": [
    "#Try librosa piptrack to detect pitch -- returns magnitude and frequency \n",
    "from librosa.core.pitch import piptrack"
   ]
  },
  {
   "cell_type": "code",
   "execution_count": null,
   "metadata": {
    "collapsed": true
   },
   "outputs": [],
   "source": [
    "y, sr = librosa.load('/Users/alia/Desktop/thing.wav')\n",
    "from librosa.core.pitch import piptrack\n",
    "pitches, magnitudes = librosa.piptrack(y=y, sr=sr)\n",
    "\n"
   ]
  },
  {
   "cell_type": "code",
   "execution_count": null,
   "metadata": {
    "collapsed": true
   },
   "outputs": [],
   "source": [
    "plt.plot(pitches, magnitudes)\n"
   ]
  },
  {
   "cell_type": "code",
   "execution_count": null,
   "metadata": {
    "collapsed": true
   },
   "outputs": [],
   "source": [
    "pitches, magnitudes = librosa.piptrack(y=myhg, sr=fs, n_fft = 90, hop_length = 14)"
   ]
  },
  {
   "cell_type": "code",
   "execution_count": null,
   "metadata": {
    "collapsed": true
   },
   "outputs": [],
   "source": [
    "plt.hist(pitches, 10)\n"
   ]
  },
  {
   "cell_type": "code",
   "execution_count": null,
   "metadata": {
    "collapsed": true
   },
   "outputs": [],
   "source": [
    "magnitudes[19,:]"
   ]
  },
  {
   "cell_type": "code",
   "execution_count": null,
   "metadata": {
    "collapsed": true
   },
   "outputs": [],
   "source": [
    "plt.imshow(magnitudes, aspect = 'auto', origin = 'lower')\n",
    "plt.show()"
   ]
  },
  {
   "cell_type": "code",
   "execution_count": null,
   "metadata": {
    "collapsed": true
   },
   "outputs": [],
   "source": [
    "thrmag = magnitudes > 1"
   ]
  },
  {
   "cell_type": "code",
   "execution_count": null,
   "metadata": {
    "collapsed": true
   },
   "outputs": [],
   "source": []
  },
  {
   "cell_type": "code",
   "execution_count": null,
   "metadata": {
    "collapsed": true
   },
   "outputs": [],
   "source": [
    "plt.plot(pitches[thrmag])\n",
    "plt.show()"
   ]
  },
  {
   "cell_type": "code",
   "execution_count": null,
   "metadata": {
    "collapsed": true
   },
   "outputs": [],
   "source": [
    "\n",
    "plt.imshow(magnitudes, aspect = 'auto', origin = 'lower')\n",
    "plt.show()"
   ]
  },
  {
   "cell_type": "code",
   "execution_count": null,
   "metadata": {
    "collapsed": true
   },
   "outputs": [],
   "source": [
    "def detect_pitch(y, sr, t):\n",
    "  index = magnitudes[:, t].argmax()\n",
    "  pitch = pitches[index, t]\n",
    "\n",
    "  return pitch"
   ]
  },
  {
   "cell_type": "code",
   "execution_count": null,
   "metadata": {
    "collapsed": true
   },
   "outputs": [],
   "source": [
    "fig = plt.figure(figsize = (15,5))\n",
    "plt.subplot(1, 2, 1)\n",
    "myidx = np.where((behav['tone'] == 1) & (behav['speaker'] == 'b'))[0]\n",
    "                \n",
    "myhg = np.mean(hg_stim[myidx, :, 15], axis = 0)\n",
    "myhg = myhg[(time_axis >= -500) & (time_axis <= 1000)]\n",
    "\n",
    "font = {'family' : 'normal',\n",
    "        'weight' : 'bold',\n",
    "        'size'   : 10}\n",
    "plt.rc('font', **font)\n",
    "\n",
    "f,t, Sxx = signal.spectrogram(myhg, fs, noverlap = 76, nperseg =90)\n",
    "newspec = Sxx\n",
    "plt.pcolormesh(t - 0.5,f,newspec, vmax = np.percentile(Sxx.flatten(), 99.9))\n",
    "    #             plt.ylabel('Frequency [Hz]', fontsize = 100.0)\n",
    "plt.xlabel('Time [sec]', fontsize = 20.0)\n",
    "plt.ylabel('Frequency [Hz]', fontsize = 20.0)\n",
    "plt.title('Spectogram Electrode 16 Male T1', fontsize = 20)\n",
    "\n",
    "plt.subplot(1, 2, 2)\n",
    "plt.plot(time_axis, mymean, 'b')\n",
    "plt.title('Electrode 16 Mean Waveform', fontsize = 20.0)\n",
    "\n",
    "\n",
    "plt.show()"
   ]
  },
  {
   "cell_type": "code",
   "execution_count": null,
   "metadata": {
    "collapsed": true
   },
   "outputs": [],
   "source": [
    "test = [0,1,2,3]"
   ]
  },
  {
   "cell_type": "code",
   "execution_count": null,
   "metadata": {
    "collapsed": true
   },
   "outputs": [],
   "source": [
    "x = [0,0,0,0]"
   ]
  },
  {
   "cell_type": "code",
   "execution_count": null,
   "metadata": {
    "collapsed": true
   },
   "outputs": [],
   "source": [
    "plt.plot(x,test)"
   ]
  },
  {
   "cell_type": "code",
   "execution_count": null,
   "metadata": {
    "collapsed": true
   },
   "outputs": [],
   "source": [
    "plt.show()"
   ]
  },
  {
   "cell_type": "code",
   "execution_count": null,
   "metadata": {
    "collapsed": true
   },
   "outputs": [],
   "source": []
  }
 ],
 "metadata": {
  "kernelspec": {
   "display_name": "Python 3",
   "language": "python",
   "name": "python3"
  },
  "language_info": {
   "codemirror_mode": {
    "name": "ipython",
    "version": 3
   },
   "file_extension": ".py",
   "mimetype": "text/x-python",
   "name": "python",
   "nbconvert_exporter": "python",
   "pygments_lexer": "ipython3",
   "version": "3.6.3"
  }
 },
 "nbformat": 4,
 "nbformat_minor": 2
}
