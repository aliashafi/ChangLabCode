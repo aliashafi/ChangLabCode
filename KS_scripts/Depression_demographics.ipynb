{
 "cells": [
  {
   "cell_type": "markdown",
   "metadata": {},
   "source": [
    "## Import libs "
   ]
  },
  {
   "cell_type": "code",
   "execution_count": 3,
   "metadata": {
    "collapsed": true
   },
   "outputs": [],
   "source": [
    "import os\n",
    "import csv\n",
    "import numpy as np\n",
    "import pandas as pd\n",
    "import glob"
   ]
  },
  {
   "cell_type": "markdown",
   "metadata": {},
   "source": [
    "## Import data"
   ]
  },
  {
   "cell_type": "code",
   "execution_count": 29,
   "metadata": {
    "collapsed": true
   },
   "outputs": [],
   "source": [
    "Score = ('/Users/alia/Documents/Depression/phq9.csv') #phq9 scores\n",
    "patient_dem = ('/Users/alia/Documents/Depression/patientDem_1.csv') # patient dems"
   ]
  },
  {
   "cell_type": "code",
   "execution_count": 30,
   "metadata": {},
   "outputs": [],
   "source": [
    "S = pd.read_csv(Score,index_col=None, header=0, encoding = \"ISO-8859-1\")\n",
    "P = pd.read_csv(patient_dem,index_col=None, header=0, encoding = \"ISO-8859-1\")\n",
    "patient_list = pd.read_csv('/Users/alia/Documents/Depression/currentPatients.csv',index_col=None, header=0, encoding = \"ISO-8859-1\")"
   ]
  },
  {
   "cell_type": "markdown",
   "metadata": {
    "collapsed": true
   },
   "source": [
    "## Check to see if you are missing a patient in your patient_list \n",
    "#### only run this if you are unsure if you have all ur patients"
   ]
  },
  {
   "cell_type": "code",
   "execution_count": 31,
   "metadata": {
    "collapsed": true
   },
   "outputs": [],
   "source": [
    "for a in patient_list['pt']:\n",
    "    match = 0\n",
    "    for b in P['EC #']:\n",
    "        if a == b:\n",
    "            match += 1\n",
    "        else:\n",
    "            match += 0 \n",
    "    if match == 0:\n",
    "        print(a + ' is missing')\n",
    "        "
   ]
  },
  {
   "cell_type": "markdown",
   "metadata": {
    "collapsed": true
   },
   "source": [
    "## get all stats"
   ]
  },
  {
   "cell_type": "code",
   "execution_count": 32,
   "metadata": {},
   "outputs": [],
   "source": [
    "count = 0\n",
    "count_f = 0\n",
    "female_high = 0\n",
    "female_low = 0\n",
    "high_phq9 = 0 \n",
    "low_phq9 = 0\n",
    "resection_low = 0\n",
    "resection_high = 0\n",
    "age_high = []\n",
    "age_low = []\n",
    "MT_high = 0\n",
    "MT_low = 0\n",
    "D_high = 0\n",
    "D_low = 0\n",
    "depFemales = 0\n",
    "\n",
    "MDD =0\n",
    "control =0 \n",
    "\n",
    "AvgLowP = 0\n",
    "AvgHighP = 0\n",
    "for i in range(len(P)):\n",
    "    isin = np.where(P['EC #'][i] == patient_list['pt'])\n",
    "    if len(isin[0]) != 0:\n",
    "#         print(P['EC #'][i])\n",
    "        for j in range(len(S)):\n",
    "\n",
    "            ##High\n",
    "            if P['EC #'][i] == S['pt'][j]:\n",
    "                count +=1\n",
    "                if S['score'][j] >= 10:\n",
    "                    high_phq9 +=1\n",
    "                    age_high.append(P['Age'][i])\n",
    "                    AvgHighP += S['score'][j]\n",
    "                    \n",
    "                    MDD += 1\n",
    "                    \n",
    "                    if P['Sex'][i] == 'F':\n",
    "                        female_high +=1\n",
    "                        count_f +=1\n",
    "                        if P['Depressed'][i] == 'Yes':\n",
    "                            depFemales +=1\n",
    "                    if P['Surgical_Treatment'][i] == 'yes':\n",
    "                        resection_high +=1\n",
    "                    if P['MTLE'][i] != 'Yes':\n",
    "                        MT_high +=1\n",
    "                    if P['Depressed'][i] == 'Yes':\n",
    "                        D_high +=1\n",
    "\n",
    "\n",
    "                ##LOW\n",
    "                if S['score'][j] < 10:\n",
    "                    low_phq9 +=1\n",
    "                    control += 1\n",
    "                    age_low.append(P['Age'][i])\n",
    "                    AvgLowP += S['score'][j]\n",
    "                    if P['Sex'][i] == 'F':\n",
    "                        female_low +=1\n",
    "                        count_f+=1\n",
    "                    if P['Surgical_Treatment'][i] == 'yes':\n",
    "                        resection_low +=1\n",
    "                    if P['MTLE'][i] != 'Yes':\n",
    "                        MT_low +=1\n",
    "                    if P['Depressed'][i] == 'Yes':\n",
    "                        D_low +=1\n"
   ]
  },
  {
   "cell_type": "markdown",
   "metadata": {},
   "source": [
    "## Create patient table"
   ]
  },
  {
   "cell_type": "code",
   "execution_count": 33,
   "metadata": {},
   "outputs": [],
   "source": [
    "patient_data = {'Categories': ['Female %', 'Age (range in years)','Temporal Lope Epilepsy','On psychiatric meds', 'Surgical Treatment',\n",
    "                             'Total n', 'Average PHQ-9'],\n",
    "                'MDD': [[female_high/high_phq9, female_high],[sum(age_high)/len(age_high)],[MT_high/high_phq9,MT_high],[D_high,D_high/high_phq9],\n",
    "                         [resection_high/high_phq9,resection_high],[high_phq9],[AvgHighP/high_phq9]],\n",
    "               'Control' : [[female_low/low_phq9, female_low],[sum(age_low)/len(age_low)],[MT_low/low_phq9,MT_low],[D_low,D_low/low_phq9],\n",
    "                         [resection_low/low_phq9,resection_low],[low_phq9],[AvgLowP/low_phq9]]\n",
    "               }"
   ]
  },
  {
   "cell_type": "code",
   "execution_count": 34,
   "metadata": {},
   "outputs": [
    {
     "data": {
      "text/html": [
       "<div>\n",
       "<style scoped>\n",
       "    .dataframe tbody tr th:only-of-type {\n",
       "        vertical-align: middle;\n",
       "    }\n",
       "\n",
       "    .dataframe tbody tr th {\n",
       "        vertical-align: top;\n",
       "    }\n",
       "\n",
       "    .dataframe thead th {\n",
       "        text-align: right;\n",
       "    }\n",
       "</style>\n",
       "<table border=\"1\" class=\"dataframe\">\n",
       "  <thead>\n",
       "    <tr style=\"text-align: right;\">\n",
       "      <th></th>\n",
       "      <th>Categories</th>\n",
       "      <th>MDD</th>\n",
       "      <th>Control</th>\n",
       "    </tr>\n",
       "  </thead>\n",
       "  <tbody>\n",
       "    <tr>\n",
       "      <th>0</th>\n",
       "      <td>Female %</td>\n",
       "      <td>[0.4583333333333333, 11]</td>\n",
       "      <td>[0.4666666666666667, 14]</td>\n",
       "    </tr>\n",
       "    <tr>\n",
       "      <th>1</th>\n",
       "      <td>Age (range in years)</td>\n",
       "      <td>[35.458333333333336]</td>\n",
       "      <td>[32.93333333333333]</td>\n",
       "    </tr>\n",
       "    <tr>\n",
       "      <th>2</th>\n",
       "      <td>Temporal Lope Epilepsy</td>\n",
       "      <td>[0.625, 15]</td>\n",
       "      <td>[0.6666666666666666, 20]</td>\n",
       "    </tr>\n",
       "    <tr>\n",
       "      <th>3</th>\n",
       "      <td>On psychiatric meds</td>\n",
       "      <td>[4, 0.16666666666666666]</td>\n",
       "      <td>[3, 0.1]</td>\n",
       "    </tr>\n",
       "    <tr>\n",
       "      <th>4</th>\n",
       "      <td>Surgical Treatment</td>\n",
       "      <td>[0.75, 18]</td>\n",
       "      <td>[0.7333333333333333, 22]</td>\n",
       "    </tr>\n",
       "    <tr>\n",
       "      <th>5</th>\n",
       "      <td>Total n</td>\n",
       "      <td>[24]</td>\n",
       "      <td>[30]</td>\n",
       "    </tr>\n",
       "    <tr>\n",
       "      <th>6</th>\n",
       "      <td>Average PHQ-9</td>\n",
       "      <td>[14.083333333333334]</td>\n",
       "      <td>[4.533333333333333]</td>\n",
       "    </tr>\n",
       "  </tbody>\n",
       "</table>\n",
       "</div>"
      ],
      "text/plain": [
       "               Categories                       MDD                   Control\n",
       "0                Female %  [0.4583333333333333, 11]  [0.4666666666666667, 14]\n",
       "1    Age (range in years)      [35.458333333333336]       [32.93333333333333]\n",
       "2  Temporal Lope Epilepsy               [0.625, 15]  [0.6666666666666666, 20]\n",
       "3     On psychiatric meds  [4, 0.16666666666666666]                  [3, 0.1]\n",
       "4      Surgical Treatment                [0.75, 18]  [0.7333333333333333, 22]\n",
       "5                 Total n                      [24]                      [30]\n",
       "6           Average PHQ-9      [14.083333333333334]       [4.533333333333333]"
      ]
     },
     "execution_count": 34,
     "metadata": {},
     "output_type": "execute_result"
    }
   ],
   "source": [
    "df2 = pd.DataFrame(data=patient_data)\n",
    "df2"
   ]
  },
  {
   "cell_type": "markdown",
   "metadata": {},
   "source": [
    "### get range in ages"
   ]
  },
  {
   "cell_type": "code",
   "execution_count": 28,
   "metadata": {},
   "outputs": [
    {
     "name": "stdout",
     "output_type": "stream",
     "text": [
      "low phq9 33.6764705882353 min low age: 20.0 max low age: 54.0\n",
      "high phq9 35.458333333333336 min high age 20.0 max high age: 67.0\n"
     ]
    }
   ],
   "source": [
    "print('low phq9',sum(age_low)/len(age_low), 'min low age:', min(age_low),'max low age:', max(age_low))\n",
    "print('high phq9', sum(age_high)/len(age_high), 'min high age', min(age_high), 'max high age:', max(age_high))"
   ]
  },
  {
   "cell_type": "code",
   "execution_count": null,
   "metadata": {
    "collapsed": true
   },
   "outputs": [],
   "source": []
  },
  {
   "cell_type": "code",
   "execution_count": null,
   "metadata": {
    "collapsed": true
   },
   "outputs": [],
   "source": []
  }
 ],
 "metadata": {
  "kernelspec": {
   "display_name": "Python 3",
   "language": "python",
   "name": "python3"
  },
  "language_info": {
   "codemirror_mode": {
    "name": "ipython",
    "version": 3
   },
   "file_extension": ".py",
   "mimetype": "text/x-python",
   "name": "python",
   "nbconvert_exporter": "python",
   "pygments_lexer": "ipython3",
   "version": "3.7.1"
  }
 },
 "nbformat": 4,
 "nbformat_minor": 2
}
